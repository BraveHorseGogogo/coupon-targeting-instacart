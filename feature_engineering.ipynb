{
 "cells": [
  {
   "cell_type": "markdown",
   "metadata": {
    "toc": true
   },
   "source": [
    "<h1>Table of Contents<span class=\"tocSkip\"></span></h1>\n",
    "<div class=\"toc\"><ul class=\"toc-item\"><li><span><a href=\"#Problem-Statement\" data-toc-modified-id=\"Problem-Statement-1\"><span class=\"toc-item-num\">1&nbsp;&nbsp;</span>Problem Statement</a></span></li><li><span><a href=\"#Connect-to-SQL-Database\" data-toc-modified-id=\"Connect-to-SQL-Database-2\"><span class=\"toc-item-num\">2&nbsp;&nbsp;</span>Connect to SQL Database</a></span></li><li><span><a href=\"#Load-DataFrames-Subset-Orders\" data-toc-modified-id=\"Load-DataFrames-Subset-Orders-3\"><span class=\"toc-item-num\">3&nbsp;&nbsp;</span>Load DataFrames Subset Orders</a></span></li><li><span><a href=\"#Data-Prep-and-Problem-Setup\" data-toc-modified-id=\"Data-Prep-and-Problem-Setup-4\"><span class=\"toc-item-num\">4&nbsp;&nbsp;</span>Data Prep and Problem Setup</a></span></li><li><span><a href=\"#Feature-Engineering\" data-toc-modified-id=\"Feature-Engineering-5\"><span class=\"toc-item-num\">5&nbsp;&nbsp;</span>Feature Engineering</a></span><ul class=\"toc-item\"><li><span><a href=\"#user\" data-toc-modified-id=\"user-5.1\"><span class=\"toc-item-num\">5.1&nbsp;&nbsp;</span>user</a></span><ul class=\"toc-item\"><li><span><a href=\"#user_total_orders\" data-toc-modified-id=\"user_total_orders-5.1.1\"><span class=\"toc-item-num\">5.1.1&nbsp;&nbsp;</span>user_total_orders</a></span></li><li><span><a href=\"#user_days_since_prior_order\" data-toc-modified-id=\"user_days_since_prior_order-5.1.2\"><span class=\"toc-item-num\">5.1.2&nbsp;&nbsp;</span>user_days_since_prior_order</a></span></li><li><span><a href=\"#user_days_since_order\" data-toc-modified-id=\"user_days_since_order-5.1.3\"><span class=\"toc-item-num\">5.1.3&nbsp;&nbsp;</span>user_days_since_order</a></span></li><li><span><a href=\"#user_days_since_first_order\" data-toc-modified-id=\"user_days_since_first_order-5.1.4\"><span class=\"toc-item-num\">5.1.4&nbsp;&nbsp;</span>user_days_since_first_order</a></span></li><li><span><a href=\"#user_days_since_last_order\" data-toc-modified-id=\"user_days_since_last_order-5.1.5\"><span class=\"toc-item-num\">5.1.5&nbsp;&nbsp;</span>user_days_since_last_order</a></span></li><li><span><a href=\"#user_days_between_orders_mean\" data-toc-modified-id=\"user_days_between_orders_mean-5.1.6\"><span class=\"toc-item-num\">5.1.6&nbsp;&nbsp;</span>user_days_between_orders_mean</a></span></li><li><span><a href=\"#user_days_between_orders_mode\" data-toc-modified-id=\"user_days_between_orders_mode-5.1.7\"><span class=\"toc-item-num\">5.1.7&nbsp;&nbsp;</span>user_days_between_orders_mode</a></span></li><li><span><a href=\"#user_last_order_number\" data-toc-modified-id=\"user_last_order_number-5.1.8\"><span class=\"toc-item-num\">5.1.8&nbsp;&nbsp;</span>user_last_order_number</a></span></li><li><span><a href=\"#user_days_between_last_2_orders\" data-toc-modified-id=\"user_days_between_last_2_orders-5.1.9\"><span class=\"toc-item-num\">5.1.9&nbsp;&nbsp;</span>user_days_between_last_2_orders</a></span></li><li><span><a href=\"#user_days_between_last_4_orders\" data-toc-modified-id=\"user_days_between_last_4_orders-5.1.10\"><span class=\"toc-item-num\">5.1.10&nbsp;&nbsp;</span>user_days_between_last_4_orders</a></span></li><li><span><a href=\"#user_mode_timeofday\" data-toc-modified-id=\"user_mode_timeofday-5.1.11\"><span class=\"toc-item-num\">5.1.11&nbsp;&nbsp;</span>user_mode_timeofday</a></span></li><li><span><a href=\"#user_order_in_preferred_timeslot\" data-toc-modified-id=\"user_order_in_preferred_timeslot-5.1.12\"><span class=\"toc-item-num\">5.1.12&nbsp;&nbsp;</span>user_order_in_preferred_timeslot</a></span></li><li><span><a href=\"#user_order_share_in_preferred_timeslot\" data-toc-modified-id=\"user_order_share_in_preferred_timeslot-5.1.13\"><span class=\"toc-item-num\">5.1.13&nbsp;&nbsp;</span>user_order_share_in_preferred_timeslot</a></span></li><li><span><a href=\"#user_mode_dayofweek\" data-toc-modified-id=\"user_mode_dayofweek-5.1.14\"><span class=\"toc-item-num\">5.1.14&nbsp;&nbsp;</span>user_mode_dayofweek</a></span></li><li><span><a href=\"#user_order_on_preferred_dayofweek\" data-toc-modified-id=\"user_order_on_preferred_dayofweek-5.1.15\"><span class=\"toc-item-num\">5.1.15&nbsp;&nbsp;</span>user_order_on_preferred_dayofweek</a></span></li><li><span><a href=\"#user_order_share_on_preferred_dayofweek\" data-toc-modified-id=\"user_order_share_on_preferred_dayofweek-5.1.16\"><span class=\"toc-item-num\">5.1.16&nbsp;&nbsp;</span>user_order_share_on_preferred_dayofweek</a></span></li><li><span><a href=\"#pickle-edited_orders\" data-toc-modified-id=\"pickle-edited_orders-5.1.17\"><span class=\"toc-item-num\">5.1.17&nbsp;&nbsp;</span>pickle edited_orders</a></span></li></ul></li><li><span><a href=\"#user_product\" data-toc-modified-id=\"user_product-5.2\"><span class=\"toc-item-num\">5.2&nbsp;&nbsp;</span>user_product</a></span><ul class=\"toc-item\"><li><span><a href=\"#user_product_total_orders\" data-toc-modified-id=\"user_product_total_orders-5.2.1\"><span class=\"toc-item-num\">5.2.1&nbsp;&nbsp;</span>user_product_total_orders</a></span></li><li><span><a href=\"#user_product_reorders\" data-toc-modified-id=\"user_product_reorders-5.2.2\"><span class=\"toc-item-num\">5.2.2&nbsp;&nbsp;</span>user_product_reorders</a></span></li><li><span><a href=\"#user_product_orders_share\" data-toc-modified-id=\"user_product_orders_share-5.2.3\"><span class=\"toc-item-num\">5.2.3&nbsp;&nbsp;</span>user_product_orders_share</a></span></li><li><span><a href=\"#user_product_last_order_number\" data-toc-modified-id=\"user_product_last_order_number-5.2.4\"><span class=\"toc-item-num\">5.2.4&nbsp;&nbsp;</span>user_product_last_order_number</a></span></li><li><span><a href=\"#user_cart_contents\" data-toc-modified-id=\"user_cart_contents-5.2.5\"><span class=\"toc-item-num\">5.2.5&nbsp;&nbsp;</span>user_cart_contents</a></span></li><li><span><a href=\"#user_cart_size\" data-toc-modified-id=\"user_cart_size-5.2.6\"><span class=\"toc-item-num\">5.2.6&nbsp;&nbsp;</span>user_cart_size</a></span></li><li><span><a href=\"#user_cart_size_mode\" data-toc-modified-id=\"user_cart_size_mode-5.2.7\"><span class=\"toc-item-num\">5.2.7&nbsp;&nbsp;</span>user_cart_size_mode</a></span></li><li><span><a href=\"#user_cart_size_mean\" data-toc-modified-id=\"user_cart_size_mean-5.2.8\"><span class=\"toc-item-num\">5.2.8&nbsp;&nbsp;</span>user_cart_size_mean</a></span></li><li><span><a href=\"#user_product_cart_size_mean\" data-toc-modified-id=\"user_product_cart_size_mean-5.2.9\"><span class=\"toc-item-num\">5.2.9&nbsp;&nbsp;</span>user_product_cart_size_mean</a></span></li><li><span><a href=\"#user_product_cart_size_mode\" data-toc-modified-id=\"user_product_cart_size_mode-5.2.10\"><span class=\"toc-item-num\">5.2.10&nbsp;&nbsp;</span>user_product_cart_size_mode</a></span></li><li><span><a href=\"#user_product_other_items_mean\" data-toc-modified-id=\"user_product_other_items_mean-5.2.11\"><span class=\"toc-item-num\">5.2.11&nbsp;&nbsp;</span>user_product_other_items_mean</a></span></li><li><span><a href=\"#user_product_other_items_mode\" data-toc-modified-id=\"user_product_other_items_mode-5.2.12\"><span class=\"toc-item-num\">5.2.12&nbsp;&nbsp;</span>user_product_other_items_mode</a></span></li><li><span><a href=\"#user_product_days_between_orders\" data-toc-modified-id=\"user_product_days_between_orders-5.2.13\"><span class=\"toc-item-num\">5.2.13&nbsp;&nbsp;</span>user_product_days_between_orders</a></span></li><li><span><a href=\"#user_product_days_between_orders_mean\" data-toc-modified-id=\"user_product_days_between_orders_mean-5.2.14\"><span class=\"toc-item-num\">5.2.14&nbsp;&nbsp;</span>user_product_days_between_orders_mean</a></span></li><li><span><a href=\"#user_product_days_between_orders_mode\" data-toc-modified-id=\"user_product_days_between_orders_mode-5.2.15\"><span class=\"toc-item-num\">5.2.15&nbsp;&nbsp;</span>user_product_days_between_orders_mode</a></span></li><li><span><a href=\"#user_product_days_between_orders_max\" data-toc-modified-id=\"user_product_days_between_orders_max-5.2.16\"><span class=\"toc-item-num\">5.2.16&nbsp;&nbsp;</span>user_product_days_between_orders_max</a></span></li><li><span><a href=\"#user_product_days_between_orders_min\" data-toc-modified-id=\"user_product_days_between_orders_min-5.2.17\"><span class=\"toc-item-num\">5.2.17&nbsp;&nbsp;</span>user_product_days_between_orders_min</a></span></li><li><span><a href=\"#user_product_days_between_first_2_orders\" data-toc-modified-id=\"user_product_days_between_first_2_orders-5.2.18\"><span class=\"toc-item-num\">5.2.18&nbsp;&nbsp;</span>user_product_days_between_first_2_orders</a></span></li><li><span><a href=\"#user_product_days_between_last_2_orders\" data-toc-modified-id=\"user_product_days_between_last_2_orders-5.2.19\"><span class=\"toc-item-num\">5.2.19&nbsp;&nbsp;</span>user_product_days_between_last_2_orders</a></span></li><li><span><a href=\"#user_product_orders_between_orders\" data-toc-modified-id=\"user_product_orders_between_orders-5.2.20\"><span class=\"toc-item-num\">5.2.20&nbsp;&nbsp;</span>user_product_orders_between_orders</a></span></li><li><span><a href=\"#user_product_orders_between_orders_mean\" data-toc-modified-id=\"user_product_orders_between_orders_mean-5.2.21\"><span class=\"toc-item-num\">5.2.21&nbsp;&nbsp;</span>user_product_orders_between_orders_mean</a></span></li><li><span><a href=\"#user_product_orders_between_orders_mode\" data-toc-modified-id=\"user_product_orders_between_orders_mode-5.2.22\"><span class=\"toc-item-num\">5.2.22&nbsp;&nbsp;</span>user_product_orders_between_orders_mode</a></span></li><li><span><a href=\"#user_product_days_since_first_order\" data-toc-modified-id=\"user_product_days_since_first_order-5.2.23\"><span class=\"toc-item-num\">5.2.23&nbsp;&nbsp;</span>user_product_days_since_first_order</a></span></li><li><span><a href=\"#user_product_days_since_last_order\" data-toc-modified-id=\"user_product_days_since_last_order-5.2.24\"><span class=\"toc-item-num\">5.2.24&nbsp;&nbsp;</span>user_product_days_since_last_order</a></span></li><li><span><a href=\"#user_product_reordered\" data-toc-modified-id=\"user_product_reordered-5.2.25\"><span class=\"toc-item-num\">5.2.25&nbsp;&nbsp;</span>user_product_reordered</a></span></li><li><span><a href=\"#user_product_first_order\" data-toc-modified-id=\"user_product_first_order-5.2.26\"><span class=\"toc-item-num\">5.2.26&nbsp;&nbsp;</span>user_product_first_order</a></span></li><li><span><a href=\"#user_cart_new_product_count\" data-toc-modified-id=\"user_cart_new_product_count-5.2.27\"><span class=\"toc-item-num\">5.2.27&nbsp;&nbsp;</span>user_cart_new_product_count</a></span></li><li><span><a href=\"#user_cart_new_product_mean\" data-toc-modified-id=\"user_cart_new_product_mean-5.2.28\"><span class=\"toc-item-num\">5.2.28&nbsp;&nbsp;</span>user_cart_new_product_mean</a></span></li><li><span><a href=\"#user_cart_new_product_mode\" data-toc-modified-id=\"user_cart_new_product_mode-5.2.29\"><span class=\"toc-item-num\">5.2.29&nbsp;&nbsp;</span>user_cart_new_product_mode</a></span></li><li><span><a href=\"#user_cart_new_product_share\" data-toc-modified-id=\"user_cart_new_product_share-5.2.30\"><span class=\"toc-item-num\">5.2.30&nbsp;&nbsp;</span>user_cart_new_product_share</a></span></li><li><span><a href=\"#user_cart_new_product_share_mean\" data-toc-modified-id=\"user_cart_new_product_share_mean-5.2.31\"><span class=\"toc-item-num\">5.2.31&nbsp;&nbsp;</span>user_cart_new_product_share_mean</a></span></li><li><span><a href=\"#user_product_cart_rank_mean\" data-toc-modified-id=\"user_product_cart_rank_mean-5.2.32\"><span class=\"toc-item-num\">5.2.32&nbsp;&nbsp;</span>user_product_cart_rank_mean</a></span></li><li><span><a href=\"#user_product_cart_rank_mode\" data-toc-modified-id=\"user_product_cart_rank_mode-5.2.33\"><span class=\"toc-item-num\">5.2.33&nbsp;&nbsp;</span>user_product_cart_rank_mode</a></span></li><li><span><a href=\"#user_product_in_last_order\" data-toc-modified-id=\"user_product_in_last_order-5.2.34\"><span class=\"toc-item-num\">5.2.34&nbsp;&nbsp;</span>user_product_in_last_order</a></span></li><li><span><a href=\"#user_product_streak_lengths\" data-toc-modified-id=\"user_product_streak_lengths-5.2.35\"><span class=\"toc-item-num\">5.2.35&nbsp;&nbsp;</span>user_product_streak_lengths</a></span></li><li><span><a href=\"#user_product_streak_length_latest\" data-toc-modified-id=\"user_product_streak_length_latest-5.2.36\"><span class=\"toc-item-num\">5.2.36&nbsp;&nbsp;</span>user_product_streak_length_latest</a></span></li><li><span><a href=\"#user_product_streak_length_current\" data-toc-modified-id=\"user_product_streak_length_current-5.2.37\"><span class=\"toc-item-num\">5.2.37&nbsp;&nbsp;</span>user_product_streak_length_current</a></span></li><li><span><a href=\"#user_product_streak_current\" data-toc-modified-id=\"user_product_streak_current-5.2.38\"><span class=\"toc-item-num\">5.2.38&nbsp;&nbsp;</span>user_product_streak_current</a></span></li><li><span><a href=\"#user_product_streak_length_past_max\" data-toc-modified-id=\"user_product_streak_length_past_max-5.2.39\"><span class=\"toc-item-num\">5.2.39&nbsp;&nbsp;</span>user_product_streak_length_past_max</a></span></li><li><span><a href=\"#user_product_streak_past\" data-toc-modified-id=\"user_product_streak_past-5.2.40\"><span class=\"toc-item-num\">5.2.40&nbsp;&nbsp;</span>user_product_streak_past</a></span></li></ul></li><li><span><a href=\"#product\" data-toc-modified-id=\"product-5.3\"><span class=\"toc-item-num\">5.3&nbsp;&nbsp;</span>product</a></span><ul class=\"toc-item\"><li><span><a href=\"#product_aisle,-product_aisle_id\" data-toc-modified-id=\"product_aisle,-product_aisle_id-5.3.1\"><span class=\"toc-item-num\">5.3.1&nbsp;&nbsp;</span>product_aisle, product_aisle_id</a></span></li><li><span><a href=\"#product_department,-product_department_id\" data-toc-modified-id=\"product_department,-product_department_id-5.3.2\"><span class=\"toc-item-num\">5.3.2&nbsp;&nbsp;</span>product_department, product_department_id</a></span></li></ul></li><li><span><a href=\"#Check-and-Align-Columns\" data-toc-modified-id=\"Check-and-Align-Columns-5.4\"><span class=\"toc-item-num\">5.4&nbsp;&nbsp;</span>Check and Align Columns</a></span></li><li><span><a href=\"#Save-to-order_products_prior_edited.pickle\" data-toc-modified-id=\"Save-to-order_products_prior_edited.pickle-5.5\"><span class=\"toc-item-num\">5.5&nbsp;&nbsp;</span>Save to order_products_prior_edited.pickle</a></span></li></ul></li><li><span><a href=\"#Select-Columns-that-are-user*product-specific-(unrelated-to-orders)\" data-toc-modified-id=\"Select-Columns-that-are-user*product-specific-(unrelated-to-orders)-6\"><span class=\"toc-item-num\">6&nbsp;&nbsp;</span>Select Columns that are user*product specific (unrelated to orders)</a></span></li><li><span><a href=\"#Get-Target\" data-toc-modified-id=\"Get-Target-7\"><span class=\"toc-item-num\">7&nbsp;&nbsp;</span>Get Target</a></span></li><li><span><a href=\"#Pickle-Complete-DF\" data-toc-modified-id=\"Pickle-Complete-DF-8\"><span class=\"toc-item-num\">8&nbsp;&nbsp;</span>Pickle Complete DF</a></span></li></ul></div>"
   ]
  },
  {
   "cell_type": "markdown",
   "metadata": {},
   "source": [
    "# Problem Statement"
   ]
  },
  {
   "cell_type": "markdown",
   "metadata": {},
   "source": [
    "Estimate chance for each product to be in a cart in order to be able to give personalized offers."
   ]
  },
  {
   "cell_type": "markdown",
   "metadata": {},
   "source": [
    "# Connect to SQL Database"
   ]
  },
  {
   "cell_type": "code",
   "execution_count": null,
   "metadata": {},
   "outputs": [],
   "source": [
    "# CREATED TABLES THROUGH POSTGRES FROM COMMAND LINE"
   ]
  },
  {
   "cell_type": "code",
   "execution_count": 1,
   "metadata": {
    "scrolled": false
   },
   "outputs": [
    {
     "name": "stderr",
     "output_type": "stream",
     "text": [
      "/Users/charissa/anaconda3/lib/python3.6/site-packages/psycopg2/__init__.py:144: UserWarning: The psycopg2 wheel package will be renamed from release 2.8; in order to keep installing from binary please use \"pip install psycopg2-binary\" instead. For details see: <http://initd.org/psycopg/docs/install.html#binary-install-from-pypi>.\n",
      "  \"\"\")\n"
     ]
    }
   ],
   "source": [
    "import mysql.connector as sql\n",
    "import pandas as pd\n",
    "import numpy as np\n",
    "import matplotlib.pyplot as plt\n",
    "from scipy.stats import mode\n",
    "import seaborn as sns\n",
    "sns.set_palette('hls', 8)\n",
    "from time import clock\n",
    "import pickle\n",
    "\n",
    "from sqlalchemy import create_engine\n",
    "cnx = create_engine('postgresql://postgres@...../instacartdb')"
   ]
  },
  {
   "cell_type": "markdown",
   "metadata": {},
   "source": [
    "# Load DataFrames Subset Orders"
   ]
  },
  {
   "cell_type": "code",
   "execution_count": 2,
   "metadata": {},
   "outputs": [],
   "source": [
    "df_aisles = pd.read_sql_query('''\n",
    "SELECT * FROM aisles\n",
    "'''\n",
    ",cnx)"
   ]
  },
  {
   "cell_type": "code",
   "execution_count": 3,
   "metadata": {
    "scrolled": false
   },
   "outputs": [
    {
     "data": {
      "text/html": [
       "<div>\n",
       "<style scoped>\n",
       "    .dataframe tbody tr th:only-of-type {\n",
       "        vertical-align: middle;\n",
       "    }\n",
       "\n",
       "    .dataframe tbody tr th {\n",
       "        vertical-align: top;\n",
       "    }\n",
       "\n",
       "    .dataframe thead th {\n",
       "        text-align: right;\n",
       "    }\n",
       "</style>\n",
       "<table border=\"1\" class=\"dataframe\">\n",
       "  <thead>\n",
       "    <tr style=\"text-align: right;\">\n",
       "      <th></th>\n",
       "      <th>aisle_id</th>\n",
       "      <th>aisle</th>\n",
       "    </tr>\n",
       "  </thead>\n",
       "  <tbody>\n",
       "    <tr>\n",
       "      <th>0</th>\n",
       "      <td>1</td>\n",
       "      <td>prepared soups salads</td>\n",
       "    </tr>\n",
       "    <tr>\n",
       "      <th>1</th>\n",
       "      <td>2</td>\n",
       "      <td>specialty cheeses</td>\n",
       "    </tr>\n",
       "    <tr>\n",
       "      <th>2</th>\n",
       "      <td>3</td>\n",
       "      <td>energy granola bars</td>\n",
       "    </tr>\n",
       "    <tr>\n",
       "      <th>3</th>\n",
       "      <td>4</td>\n",
       "      <td>instant foods</td>\n",
       "    </tr>\n",
       "    <tr>\n",
       "      <th>4</th>\n",
       "      <td>5</td>\n",
       "      <td>marinades meat preparation</td>\n",
       "    </tr>\n",
       "  </tbody>\n",
       "</table>\n",
       "</div>"
      ],
      "text/plain": [
       "   aisle_id                       aisle\n",
       "0         1       prepared soups salads\n",
       "1         2           specialty cheeses\n",
       "2         3         energy granola bars\n",
       "3         4               instant foods\n",
       "4         5  marinades meat preparation"
      ]
     },
     "execution_count": 3,
     "metadata": {},
     "output_type": "execute_result"
    }
   ],
   "source": [
    "df_aisles.head()"
   ]
  },
  {
   "cell_type": "code",
   "execution_count": 4,
   "metadata": {},
   "outputs": [],
   "source": [
    "aisles = pd.DataFrame(df_aisles)"
   ]
  },
  {
   "cell_type": "code",
   "execution_count": 5,
   "metadata": {},
   "outputs": [],
   "source": [
    "aisles.to_pickle('orig_aisles.pickle')"
   ]
  },
  {
   "cell_type": "code",
   "execution_count": 6,
   "metadata": {
    "scrolled": false
   },
   "outputs": [],
   "source": [
    "df_departments = pd.read_sql_query('''\n",
    "SELECT * FROM departments\n",
    "'''\n",
    ",cnx)"
   ]
  },
  {
   "cell_type": "code",
   "execution_count": 7,
   "metadata": {},
   "outputs": [
    {
     "data": {
      "text/html": [
       "<div>\n",
       "<style scoped>\n",
       "    .dataframe tbody tr th:only-of-type {\n",
       "        vertical-align: middle;\n",
       "    }\n",
       "\n",
       "    .dataframe tbody tr th {\n",
       "        vertical-align: top;\n",
       "    }\n",
       "\n",
       "    .dataframe thead th {\n",
       "        text-align: right;\n",
       "    }\n",
       "</style>\n",
       "<table border=\"1\" class=\"dataframe\">\n",
       "  <thead>\n",
       "    <tr style=\"text-align: right;\">\n",
       "      <th></th>\n",
       "      <th>department_id</th>\n",
       "      <th>department</th>\n",
       "    </tr>\n",
       "  </thead>\n",
       "  <tbody>\n",
       "    <tr>\n",
       "      <th>0</th>\n",
       "      <td>1</td>\n",
       "      <td>frozen</td>\n",
       "    </tr>\n",
       "    <tr>\n",
       "      <th>1</th>\n",
       "      <td>2</td>\n",
       "      <td>other</td>\n",
       "    </tr>\n",
       "    <tr>\n",
       "      <th>2</th>\n",
       "      <td>3</td>\n",
       "      <td>bakery</td>\n",
       "    </tr>\n",
       "    <tr>\n",
       "      <th>3</th>\n",
       "      <td>4</td>\n",
       "      <td>produce</td>\n",
       "    </tr>\n",
       "    <tr>\n",
       "      <th>4</th>\n",
       "      <td>5</td>\n",
       "      <td>alcohol</td>\n",
       "    </tr>\n",
       "  </tbody>\n",
       "</table>\n",
       "</div>"
      ],
      "text/plain": [
       "   department_id department\n",
       "0              1     frozen\n",
       "1              2      other\n",
       "2              3     bakery\n",
       "3              4    produce\n",
       "4              5    alcohol"
      ]
     },
     "execution_count": 7,
     "metadata": {},
     "output_type": "execute_result"
    }
   ],
   "source": [
    "df_departments.head()"
   ]
  },
  {
   "cell_type": "code",
   "execution_count": 8,
   "metadata": {},
   "outputs": [],
   "source": [
    "departments = pd.DataFrame(df_departments)"
   ]
  },
  {
   "cell_type": "code",
   "execution_count": 9,
   "metadata": {},
   "outputs": [],
   "source": [
    "departments.to_pickle('orig_departments.pickle')"
   ]
  },
  {
   "cell_type": "code",
   "execution_count": 10,
   "metadata": {
    "scrolled": false
   },
   "outputs": [],
   "source": [
    "df_products = pd.read_sql_query('''\n",
    "SELECT * FROM products\n",
    "'''\n",
    ",cnx)"
   ]
  },
  {
   "cell_type": "code",
   "execution_count": 11,
   "metadata": {},
   "outputs": [
    {
     "data": {
      "text/html": [
       "<div>\n",
       "<style scoped>\n",
       "    .dataframe tbody tr th:only-of-type {\n",
       "        vertical-align: middle;\n",
       "    }\n",
       "\n",
       "    .dataframe tbody tr th {\n",
       "        vertical-align: top;\n",
       "    }\n",
       "\n",
       "    .dataframe thead th {\n",
       "        text-align: right;\n",
       "    }\n",
       "</style>\n",
       "<table border=\"1\" class=\"dataframe\">\n",
       "  <thead>\n",
       "    <tr style=\"text-align: right;\">\n",
       "      <th></th>\n",
       "      <th>product_id</th>\n",
       "      <th>product_name</th>\n",
       "      <th>aisle_id</th>\n",
       "      <th>department_id</th>\n",
       "    </tr>\n",
       "  </thead>\n",
       "  <tbody>\n",
       "    <tr>\n",
       "      <th>0</th>\n",
       "      <td>1</td>\n",
       "      <td>Chocolate Sandwich Cookies</td>\n",
       "      <td>61</td>\n",
       "      <td>19</td>\n",
       "    </tr>\n",
       "    <tr>\n",
       "      <th>1</th>\n",
       "      <td>2</td>\n",
       "      <td>All-Seasons Salt</td>\n",
       "      <td>104</td>\n",
       "      <td>13</td>\n",
       "    </tr>\n",
       "    <tr>\n",
       "      <th>2</th>\n",
       "      <td>3</td>\n",
       "      <td>Robust Golden Unsweetened Oolong Tea</td>\n",
       "      <td>94</td>\n",
       "      <td>7</td>\n",
       "    </tr>\n",
       "    <tr>\n",
       "      <th>3</th>\n",
       "      <td>4</td>\n",
       "      <td>Smart Ones Classic Favorites Mini Rigatoni Wit...</td>\n",
       "      <td>38</td>\n",
       "      <td>1</td>\n",
       "    </tr>\n",
       "    <tr>\n",
       "      <th>4</th>\n",
       "      <td>5</td>\n",
       "      <td>Green Chile Anytime Sauce</td>\n",
       "      <td>5</td>\n",
       "      <td>13</td>\n",
       "    </tr>\n",
       "  </tbody>\n",
       "</table>\n",
       "</div>"
      ],
      "text/plain": [
       "   product_id                                       product_name  aisle_id  \\\n",
       "0           1                         Chocolate Sandwich Cookies        61   \n",
       "1           2                                   All-Seasons Salt       104   \n",
       "2           3               Robust Golden Unsweetened Oolong Tea        94   \n",
       "3           4  Smart Ones Classic Favorites Mini Rigatoni Wit...        38   \n",
       "4           5                          Green Chile Anytime Sauce         5   \n",
       "\n",
       "   department_id  \n",
       "0             19  \n",
       "1             13  \n",
       "2              7  \n",
       "3              1  \n",
       "4             13  "
      ]
     },
     "execution_count": 11,
     "metadata": {},
     "output_type": "execute_result"
    }
   ],
   "source": [
    "df_products.head()"
   ]
  },
  {
   "cell_type": "code",
   "execution_count": 12,
   "metadata": {},
   "outputs": [],
   "source": [
    "products = pd.DataFrame(df_products)"
   ]
  },
  {
   "cell_type": "code",
   "execution_count": 13,
   "metadata": {},
   "outputs": [],
   "source": [
    "products.to_pickle('orig_products.pickle')"
   ]
  },
  {
   "cell_type": "code",
   "execution_count": 14,
   "metadata": {
    "scrolled": false
   },
   "outputs": [],
   "source": [
    "df_orders = pd.read_sql_query('''\n",
    "SELECT * FROM orders_subset\n",
    "'''\n",
    ",cnx)"
   ]
  },
  {
   "cell_type": "code",
   "execution_count": 15,
   "metadata": {},
   "outputs": [],
   "source": [
    "orders = pd.DataFrame(df_orders)"
   ]
  },
  {
   "cell_type": "code",
   "execution_count": 16,
   "metadata": {},
   "outputs": [],
   "source": [
    "orders.to_pickle('orig_orders.pickle')"
   ]
  },
  {
   "cell_type": "code",
   "execution_count": 17,
   "metadata": {},
   "outputs": [],
   "source": [
    "df_order_products_train = pd.read_sql_query('''\n",
    "SELECT * FROM order_products_train_subset\n",
    "'''\n",
    ",cnx)\n",
    "\n",
    "# order_products_train for full sample"
   ]
  },
  {
   "cell_type": "code",
   "execution_count": 18,
   "metadata": {},
   "outputs": [
    {
     "data": {
      "text/html": [
       "<div>\n",
       "<style scoped>\n",
       "    .dataframe tbody tr th:only-of-type {\n",
       "        vertical-align: middle;\n",
       "    }\n",
       "\n",
       "    .dataframe tbody tr th {\n",
       "        vertical-align: top;\n",
       "    }\n",
       "\n",
       "    .dataframe thead th {\n",
       "        text-align: right;\n",
       "    }\n",
       "</style>\n",
       "<table border=\"1\" class=\"dataframe\">\n",
       "  <thead>\n",
       "    <tr style=\"text-align: right;\">\n",
       "      <th></th>\n",
       "      <th>order_id</th>\n",
       "      <th>product_id</th>\n",
       "      <th>add_to_cart_order</th>\n",
       "      <th>reordered</th>\n",
       "    </tr>\n",
       "  </thead>\n",
       "  <tbody>\n",
       "    <tr>\n",
       "      <th>0</th>\n",
       "      <td>1077</td>\n",
       "      <td>13176</td>\n",
       "      <td>1</td>\n",
       "      <td>1</td>\n",
       "    </tr>\n",
       "    <tr>\n",
       "      <th>1</th>\n",
       "      <td>1077</td>\n",
       "      <td>39922</td>\n",
       "      <td>2</td>\n",
       "      <td>1</td>\n",
       "    </tr>\n",
       "    <tr>\n",
       "      <th>2</th>\n",
       "      <td>1077</td>\n",
       "      <td>5258</td>\n",
       "      <td>3</td>\n",
       "      <td>1</td>\n",
       "    </tr>\n",
       "    <tr>\n",
       "      <th>3</th>\n",
       "      <td>1077</td>\n",
       "      <td>21137</td>\n",
       "      <td>4</td>\n",
       "      <td>1</td>\n",
       "    </tr>\n",
       "    <tr>\n",
       "      <th>4</th>\n",
       "      <td>1119</td>\n",
       "      <td>6046</td>\n",
       "      <td>1</td>\n",
       "      <td>1</td>\n",
       "    </tr>\n",
       "  </tbody>\n",
       "</table>\n",
       "</div>"
      ],
      "text/plain": [
       "   order_id  product_id  add_to_cart_order  reordered\n",
       "0      1077       13176                  1          1\n",
       "1      1077       39922                  2          1\n",
       "2      1077        5258                  3          1\n",
       "3      1077       21137                  4          1\n",
       "4      1119        6046                  1          1"
      ]
     },
     "execution_count": 18,
     "metadata": {},
     "output_type": "execute_result"
    }
   ],
   "source": [
    "df_order_products_train.head()"
   ]
  },
  {
   "cell_type": "code",
   "execution_count": 19,
   "metadata": {},
   "outputs": [],
   "source": [
    "order_products_train = pd.DataFrame(df_order_products_train)"
   ]
  },
  {
   "cell_type": "code",
   "execution_count": 20,
   "metadata": {},
   "outputs": [
    {
     "data": {
      "text/html": [
       "<div>\n",
       "<style scoped>\n",
       "    .dataframe tbody tr th:only-of-type {\n",
       "        vertical-align: middle;\n",
       "    }\n",
       "\n",
       "    .dataframe tbody tr th {\n",
       "        vertical-align: top;\n",
       "    }\n",
       "\n",
       "    .dataframe thead th {\n",
       "        text-align: right;\n",
       "    }\n",
       "</style>\n",
       "<table border=\"1\" class=\"dataframe\">\n",
       "  <thead>\n",
       "    <tr style=\"text-align: right;\">\n",
       "      <th></th>\n",
       "      <th>order_id</th>\n",
       "      <th>product_id</th>\n",
       "      <th>add_to_cart_order</th>\n",
       "      <th>reordered</th>\n",
       "    </tr>\n",
       "  </thead>\n",
       "  <tbody>\n",
       "    <tr>\n",
       "      <th>0</th>\n",
       "      <td>1077</td>\n",
       "      <td>13176</td>\n",
       "      <td>1</td>\n",
       "      <td>1</td>\n",
       "    </tr>\n",
       "    <tr>\n",
       "      <th>1</th>\n",
       "      <td>1077</td>\n",
       "      <td>39922</td>\n",
       "      <td>2</td>\n",
       "      <td>1</td>\n",
       "    </tr>\n",
       "    <tr>\n",
       "      <th>2</th>\n",
       "      <td>1077</td>\n",
       "      <td>5258</td>\n",
       "      <td>3</td>\n",
       "      <td>1</td>\n",
       "    </tr>\n",
       "    <tr>\n",
       "      <th>3</th>\n",
       "      <td>1077</td>\n",
       "      <td>21137</td>\n",
       "      <td>4</td>\n",
       "      <td>1</td>\n",
       "    </tr>\n",
       "    <tr>\n",
       "      <th>4</th>\n",
       "      <td>1119</td>\n",
       "      <td>6046</td>\n",
       "      <td>1</td>\n",
       "      <td>1</td>\n",
       "    </tr>\n",
       "  </tbody>\n",
       "</table>\n",
       "</div>"
      ],
      "text/plain": [
       "   order_id  product_id  add_to_cart_order  reordered\n",
       "0      1077       13176                  1          1\n",
       "1      1077       39922                  2          1\n",
       "2      1077        5258                  3          1\n",
       "3      1077       21137                  4          1\n",
       "4      1119        6046                  1          1"
      ]
     },
     "execution_count": 20,
     "metadata": {},
     "output_type": "execute_result"
    }
   ],
   "source": [
    "order_products_train.head()"
   ]
  },
  {
   "cell_type": "code",
   "execution_count": 21,
   "metadata": {},
   "outputs": [],
   "source": [
    "order_products_train.to_pickle('orig_order_products_train.pickle')"
   ]
  },
  {
   "cell_type": "code",
   "execution_count": 22,
   "metadata": {
    "scrolled": false
   },
   "outputs": [],
   "source": [
    "df_order_products_prior = pd.read_sql_query('''\n",
    "SELECT * FROM order_products_prior_subset\n",
    "'''\n",
    ",cnx)\n",
    "\n",
    "# order_products_prior for full sample"
   ]
  },
  {
   "cell_type": "code",
   "execution_count": 23,
   "metadata": {},
   "outputs": [
    {
     "data": {
      "text/html": [
       "<div>\n",
       "<style scoped>\n",
       "    .dataframe tbody tr th:only-of-type {\n",
       "        vertical-align: middle;\n",
       "    }\n",
       "\n",
       "    .dataframe tbody tr th {\n",
       "        vertical-align: top;\n",
       "    }\n",
       "\n",
       "    .dataframe thead th {\n",
       "        text-align: right;\n",
       "    }\n",
       "</style>\n",
       "<table border=\"1\" class=\"dataframe\">\n",
       "  <thead>\n",
       "    <tr style=\"text-align: right;\">\n",
       "      <th></th>\n",
       "      <th>order_id</th>\n",
       "      <th>product_id</th>\n",
       "      <th>add_to_cart_order</th>\n",
       "      <th>reordered</th>\n",
       "    </tr>\n",
       "  </thead>\n",
       "  <tbody>\n",
       "    <tr>\n",
       "      <th>0</th>\n",
       "      <td>12</td>\n",
       "      <td>30597</td>\n",
       "      <td>1</td>\n",
       "      <td>1</td>\n",
       "    </tr>\n",
       "    <tr>\n",
       "      <th>1</th>\n",
       "      <td>12</td>\n",
       "      <td>15221</td>\n",
       "      <td>2</td>\n",
       "      <td>1</td>\n",
       "    </tr>\n",
       "    <tr>\n",
       "      <th>2</th>\n",
       "      <td>12</td>\n",
       "      <td>43772</td>\n",
       "      <td>3</td>\n",
       "      <td>1</td>\n",
       "    </tr>\n",
       "    <tr>\n",
       "      <th>3</th>\n",
       "      <td>12</td>\n",
       "      <td>37886</td>\n",
       "      <td>4</td>\n",
       "      <td>1</td>\n",
       "    </tr>\n",
       "    <tr>\n",
       "      <th>4</th>\n",
       "      <td>12</td>\n",
       "      <td>37215</td>\n",
       "      <td>5</td>\n",
       "      <td>0</td>\n",
       "    </tr>\n",
       "  </tbody>\n",
       "</table>\n",
       "</div>"
      ],
      "text/plain": [
       "   order_id  product_id  add_to_cart_order  reordered\n",
       "0        12       30597                  1          1\n",
       "1        12       15221                  2          1\n",
       "2        12       43772                  3          1\n",
       "3        12       37886                  4          1\n",
       "4        12       37215                  5          0"
      ]
     },
     "execution_count": 23,
     "metadata": {},
     "output_type": "execute_result"
    }
   ],
   "source": [
    "df_order_products_prior.head()"
   ]
  },
  {
   "cell_type": "code",
   "execution_count": 24,
   "metadata": {},
   "outputs": [],
   "source": [
    "order_products_prior = pd.DataFrame(df_order_products_prior)"
   ]
  },
  {
   "cell_type": "code",
   "execution_count": 25,
   "metadata": {},
   "outputs": [],
   "source": [
    "order_products_prior.to_pickle('orig_order_products_prior.pickle')"
   ]
  },
  {
   "cell_type": "markdown",
   "metadata": {},
   "source": [
    "# Data Prep and Problem Setup"
   ]
  },
  {
   "cell_type": "markdown",
   "metadata": {},
   "source": [
    "Combine the `order_products` tables with the `orders` table."
   ]
  },
  {
   "cell_type": "code",
   "execution_count": 26,
   "metadata": {},
   "outputs": [],
   "source": [
    "order_products_train = order_products_train.merge(orders, on='order_id')\n",
    "order_products_prior = order_products_prior.merge(orders[['user_id','order_id']], on='order_id')\n",
    "\n",
    "# # order_products_train.info()"
   ]
  },
  {
   "cell_type": "code",
   "execution_count": 27,
   "metadata": {
    "scrolled": true
   },
   "outputs": [
    {
     "data": {
      "text/html": [
       "<div>\n",
       "<style scoped>\n",
       "    .dataframe tbody tr th:only-of-type {\n",
       "        vertical-align: middle;\n",
       "    }\n",
       "\n",
       "    .dataframe tbody tr th {\n",
       "        vertical-align: top;\n",
       "    }\n",
       "\n",
       "    .dataframe thead th {\n",
       "        text-align: right;\n",
       "    }\n",
       "</style>\n",
       "<table border=\"1\" class=\"dataframe\">\n",
       "  <thead>\n",
       "    <tr style=\"text-align: right;\">\n",
       "      <th></th>\n",
       "      <th>order_id</th>\n",
       "      <th>product_id</th>\n",
       "      <th>add_to_cart_order</th>\n",
       "      <th>reordered</th>\n",
       "      <th>user_id</th>\n",
       "    </tr>\n",
       "  </thead>\n",
       "  <tbody>\n",
       "    <tr>\n",
       "      <th>0</th>\n",
       "      <td>12</td>\n",
       "      <td>30597</td>\n",
       "      <td>1</td>\n",
       "      <td>1</td>\n",
       "      <td>152610</td>\n",
       "    </tr>\n",
       "    <tr>\n",
       "      <th>1</th>\n",
       "      <td>12</td>\n",
       "      <td>15221</td>\n",
       "      <td>2</td>\n",
       "      <td>1</td>\n",
       "      <td>152610</td>\n",
       "    </tr>\n",
       "    <tr>\n",
       "      <th>2</th>\n",
       "      <td>12</td>\n",
       "      <td>43772</td>\n",
       "      <td>3</td>\n",
       "      <td>1</td>\n",
       "      <td>152610</td>\n",
       "    </tr>\n",
       "    <tr>\n",
       "      <th>3</th>\n",
       "      <td>12</td>\n",
       "      <td>37886</td>\n",
       "      <td>4</td>\n",
       "      <td>1</td>\n",
       "      <td>152610</td>\n",
       "    </tr>\n",
       "    <tr>\n",
       "      <th>4</th>\n",
       "      <td>12</td>\n",
       "      <td>37215</td>\n",
       "      <td>5</td>\n",
       "      <td>0</td>\n",
       "      <td>152610</td>\n",
       "    </tr>\n",
       "  </tbody>\n",
       "</table>\n",
       "</div>"
      ],
      "text/plain": [
       "   order_id  product_id  add_to_cart_order  reordered  user_id\n",
       "0        12       30597                  1          1   152610\n",
       "1        12       15221                  2          1   152610\n",
       "2        12       43772                  3          1   152610\n",
       "3        12       37886                  4          1   152610\n",
       "4        12       37215                  5          0   152610"
      ]
     },
     "execution_count": 27,
     "metadata": {},
     "output_type": "execute_result"
    }
   ],
   "source": [
    "order_products_prior.head()"
   ]
  },
  {
   "cell_type": "code",
   "execution_count": 28,
   "metadata": {},
   "outputs": [
    {
     "data": {
      "text/plain": [
       "array([173934, 129386, 156818, 157320, 178733, 192743,   6990,  92382,\n",
       "       186124, 129222])"
      ]
     },
     "execution_count": 28,
     "metadata": {},
     "output_type": "execute_result"
    }
   ],
   "source": [
    "# select only product orders from order_products_prior \n",
    "# for those users whose data is in order_products_train\n",
    "train_user_ids = order_products_train['user_id'].unique() \n",
    "train_user_ids[:10]"
   ]
  },
  {
   "cell_type": "code",
   "execution_count": 29,
   "metadata": {},
   "outputs": [
    {
     "data": {
      "text/plain": [
       "793924"
      ]
     },
     "execution_count": 29,
     "metadata": {},
     "output_type": "execute_result"
    }
   ],
   "source": [
    "len(order_products_prior)"
   ]
  },
  {
   "cell_type": "code",
   "execution_count": 30,
   "metadata": {},
   "outputs": [
    {
     "data": {
      "text/plain": [
       "82683"
      ]
     },
     "execution_count": 30,
     "metadata": {},
     "output_type": "execute_result"
    }
   ],
   "source": [
    "len(orders)"
   ]
  },
  {
   "cell_type": "code",
   "execution_count": 31,
   "metadata": {},
   "outputs": [
    {
     "data": {
      "text/plain": [
       "Index(['order_id', 'product_id', 'add_to_cart_order', 'reordered', 'user_id'], dtype='object')"
      ]
     },
     "execution_count": 31,
     "metadata": {},
     "output_type": "execute_result"
    }
   ],
   "source": [
    "order_products_prior.columns"
   ]
  },
  {
   "cell_type": "code",
   "execution_count": 32,
   "metadata": {},
   "outputs": [],
   "source": [
    "order_products_prior = order_products_prior[order_products_prior['user_id'].isin(train_user_ids)]"
   ]
  },
  {
   "cell_type": "code",
   "execution_count": 33,
   "metadata": {},
   "outputs": [],
   "source": [
    "orders = orders[orders['user_id'].isin(train_user_ids)]"
   ]
  },
  {
   "cell_type": "code",
   "execution_count": 34,
   "metadata": {},
   "outputs": [
    {
     "data": {
      "text/plain": [
       "793924"
      ]
     },
     "execution_count": 34,
     "metadata": {},
     "output_type": "execute_result"
    }
   ],
   "source": [
    "len(order_products_prior)"
   ]
  },
  {
   "cell_type": "code",
   "execution_count": 35,
   "metadata": {
    "scrolled": true
   },
   "outputs": [
    {
     "data": {
      "text/plain": [
       "82683"
      ]
     },
     "execution_count": 35,
     "metadata": {},
     "output_type": "execute_result"
    }
   ],
   "source": [
    "len(orders)"
   ]
  },
  {
   "cell_type": "code",
   "execution_count": 36,
   "metadata": {},
   "outputs": [
    {
     "data": {
      "text/plain": [
       "5000"
      ]
     },
     "execution_count": 36,
     "metadata": {},
     "output_type": "execute_result"
    }
   ],
   "source": [
    "len(orders[orders['eval_set']=='train'])"
   ]
  },
  {
   "cell_type": "code",
   "execution_count": 37,
   "metadata": {},
   "outputs": [],
   "source": [
    "orders = orders[orders['eval_set']=='prior']"
   ]
  },
  {
   "cell_type": "code",
   "execution_count": 38,
   "metadata": {},
   "outputs": [],
   "source": [
    "orders.drop('eval_set',axis=1,inplace=True)"
   ]
  },
  {
   "cell_type": "markdown",
   "metadata": {},
   "source": [
    "# Feature Engineering"
   ]
  },
  {
   "cell_type": "markdown",
   "metadata": {},
   "source": [
    "**Individual binary predictions (y) for every unique user-product combination (X)**"
   ]
  },
  {
   "cell_type": "markdown",
   "metadata": {},
   "source": [
    "Get variables by applying to `prior` and `orders` dataframe"
   ]
  },
  {
   "cell_type": "markdown",
   "metadata": {},
   "source": [
    "## user"
   ]
  },
  {
   "cell_type": "markdown",
   "metadata": {},
   "source": [
    "### user_total_orders"
   ]
  },
  {
   "cell_type": "code",
   "execution_count": 39,
   "metadata": {},
   "outputs": [],
   "source": [
    "# get total past orders per user from max order number\n",
    "orders['user_total_orders'] = (\n",
    "    orders.sort_values(by=['user_id', 'order_number'],ascending=False)\n",
    "    .groupby('user_id',as_index=False)\n",
    "    ['order_number'].nth(0)\n",
    ")"
   ]
  },
  {
   "cell_type": "code",
   "execution_count": 40,
   "metadata": {},
   "outputs": [],
   "source": [
    "# fill rows with max order number per user\n",
    "(orders['user_total_orders']\n",
    "     .fillna(orders.groupby('user_id')\n",
    "     ['user_total_orders'].transform('median'), inplace=True))"
   ]
  },
  {
   "cell_type": "code",
   "execution_count": 41,
   "metadata": {},
   "outputs": [
    {
     "data": {
      "text/html": [
       "<div>\n",
       "<style scoped>\n",
       "    .dataframe tbody tr th:only-of-type {\n",
       "        vertical-align: middle;\n",
       "    }\n",
       "\n",
       "    .dataframe tbody tr th {\n",
       "        vertical-align: top;\n",
       "    }\n",
       "\n",
       "    .dataframe thead th {\n",
       "        text-align: right;\n",
       "    }\n",
       "</style>\n",
       "<table border=\"1\" class=\"dataframe\">\n",
       "  <thead>\n",
       "    <tr style=\"text-align: right;\">\n",
       "      <th></th>\n",
       "      <th>order_id</th>\n",
       "      <th>user_id</th>\n",
       "      <th>order_number</th>\n",
       "      <th>order_dow</th>\n",
       "      <th>order_hour_of_day</th>\n",
       "      <th>days_since_prior_order</th>\n",
       "      <th>user_total_orders</th>\n",
       "    </tr>\n",
       "  </thead>\n",
       "  <tbody>\n",
       "    <tr>\n",
       "      <th>0</th>\n",
       "      <td>1363380</td>\n",
       "      <td>50</td>\n",
       "      <td>1</td>\n",
       "      <td>3</td>\n",
       "      <td>9</td>\n",
       "      <td>NaN</td>\n",
       "      <td>67.0</td>\n",
       "    </tr>\n",
       "    <tr>\n",
       "      <th>1</th>\n",
       "      <td>3131103</td>\n",
       "      <td>50</td>\n",
       "      <td>2</td>\n",
       "      <td>6</td>\n",
       "      <td>12</td>\n",
       "      <td>10.0</td>\n",
       "      <td>67.0</td>\n",
       "    </tr>\n",
       "    <tr>\n",
       "      <th>2</th>\n",
       "      <td>2197066</td>\n",
       "      <td>50</td>\n",
       "      <td>3</td>\n",
       "      <td>1</td>\n",
       "      <td>13</td>\n",
       "      <td>9.0</td>\n",
       "      <td>67.0</td>\n",
       "    </tr>\n",
       "    <tr>\n",
       "      <th>3</th>\n",
       "      <td>3201640</td>\n",
       "      <td>50</td>\n",
       "      <td>4</td>\n",
       "      <td>0</td>\n",
       "      <td>11</td>\n",
       "      <td>6.0</td>\n",
       "      <td>67.0</td>\n",
       "    </tr>\n",
       "    <tr>\n",
       "      <th>4</th>\n",
       "      <td>2756806</td>\n",
       "      <td>50</td>\n",
       "      <td>5</td>\n",
       "      <td>4</td>\n",
       "      <td>14</td>\n",
       "      <td>11.0</td>\n",
       "      <td>67.0</td>\n",
       "    </tr>\n",
       "  </tbody>\n",
       "</table>\n",
       "</div>"
      ],
      "text/plain": [
       "   order_id  user_id  order_number  order_dow  order_hour_of_day  \\\n",
       "0   1363380       50             1          3                  9   \n",
       "1   3131103       50             2          6                 12   \n",
       "2   2197066       50             3          1                 13   \n",
       "3   3201640       50             4          0                 11   \n",
       "4   2756806       50             5          4                 14   \n",
       "\n",
       "   days_since_prior_order  user_total_orders  \n",
       "0                     NaN               67.0  \n",
       "1                    10.0               67.0  \n",
       "2                     9.0               67.0  \n",
       "3                     6.0               67.0  \n",
       "4                    11.0               67.0  "
      ]
     },
     "execution_count": 41,
     "metadata": {},
     "output_type": "execute_result"
    }
   ],
   "source": [
    "orders.head()"
   ]
  },
  {
   "cell_type": "markdown",
   "metadata": {},
   "source": [
    "### user_days_since_prior_order"
   ]
  },
  {
   "cell_type": "code",
   "execution_count": 42,
   "metadata": {
    "scrolled": true
   },
   "outputs": [],
   "source": [
    "orders.rename(columns={'days_since_prior_order':'user_days_since_prior_order'},inplace=True)"
   ]
  },
  {
   "cell_type": "markdown",
   "metadata": {},
   "source": [
    "### user_days_since_order"
   ]
  },
  {
   "cell_type": "code",
   "execution_count": 43,
   "metadata": {},
   "outputs": [],
   "source": [
    "# sorting in reverse so that it's a little easier to make something out \n",
    "# of the .head() displays because they're more active customers\n",
    "orders.sort_values(by=['user_id','order_number'], ascending=False,inplace=True)"
   ]
  },
  {
   "cell_type": "code",
   "execution_count": 44,
   "metadata": {},
   "outputs": [
    {
     "data": {
      "text/html": [
       "<div>\n",
       "<style scoped>\n",
       "    .dataframe tbody tr th:only-of-type {\n",
       "        vertical-align: middle;\n",
       "    }\n",
       "\n",
       "    .dataframe tbody tr th {\n",
       "        vertical-align: top;\n",
       "    }\n",
       "\n",
       "    .dataframe thead th {\n",
       "        text-align: right;\n",
       "    }\n",
       "</style>\n",
       "<table border=\"1\" class=\"dataframe\">\n",
       "  <thead>\n",
       "    <tr style=\"text-align: right;\">\n",
       "      <th></th>\n",
       "      <th>order_id</th>\n",
       "      <th>user_id</th>\n",
       "      <th>order_number</th>\n",
       "      <th>order_dow</th>\n",
       "      <th>order_hour_of_day</th>\n",
       "      <th>user_days_since_prior_order</th>\n",
       "      <th>user_total_orders</th>\n",
       "    </tr>\n",
       "  </thead>\n",
       "  <tbody>\n",
       "    <tr>\n",
       "      <th>82681</th>\n",
       "      <td>398664</td>\n",
       "      <td>206175</td>\n",
       "      <td>6</td>\n",
       "      <td>0</td>\n",
       "      <td>9</td>\n",
       "      <td>14.0</td>\n",
       "      <td>6.0</td>\n",
       "    </tr>\n",
       "    <tr>\n",
       "      <th>82680</th>\n",
       "      <td>2950302</td>\n",
       "      <td>206175</td>\n",
       "      <td>5</td>\n",
       "      <td>0</td>\n",
       "      <td>14</td>\n",
       "      <td>6.0</td>\n",
       "      <td>6.0</td>\n",
       "    </tr>\n",
       "    <tr>\n",
       "      <th>82679</th>\n",
       "      <td>583707</td>\n",
       "      <td>206175</td>\n",
       "      <td>4</td>\n",
       "      <td>1</td>\n",
       "      <td>17</td>\n",
       "      <td>30.0</td>\n",
       "      <td>6.0</td>\n",
       "    </tr>\n",
       "    <tr>\n",
       "      <th>82678</th>\n",
       "      <td>960985</td>\n",
       "      <td>206175</td>\n",
       "      <td>3</td>\n",
       "      <td>0</td>\n",
       "      <td>14</td>\n",
       "      <td>8.0</td>\n",
       "      <td>6.0</td>\n",
       "    </tr>\n",
       "    <tr>\n",
       "      <th>82677</th>\n",
       "      <td>3064612</td>\n",
       "      <td>206175</td>\n",
       "      <td>2</td>\n",
       "      <td>6</td>\n",
       "      <td>21</td>\n",
       "      <td>7.0</td>\n",
       "      <td>6.0</td>\n",
       "    </tr>\n",
       "  </tbody>\n",
       "</table>\n",
       "</div>"
      ],
      "text/plain": [
       "       order_id  user_id  order_number  order_dow  order_hour_of_day  \\\n",
       "82681    398664   206175             6          0                  9   \n",
       "82680   2950302   206175             5          0                 14   \n",
       "82679    583707   206175             4          1                 17   \n",
       "82678    960985   206175             3          0                 14   \n",
       "82677   3064612   206175             2          6                 21   \n",
       "\n",
       "       user_days_since_prior_order  user_total_orders  \n",
       "82681                         14.0                6.0  \n",
       "82680                          6.0                6.0  \n",
       "82679                         30.0                6.0  \n",
       "82678                          8.0                6.0  \n",
       "82677                          7.0                6.0  "
      ]
     },
     "execution_count": 44,
     "metadata": {},
     "output_type": "execute_result"
    }
   ],
   "source": [
    "orders.head()"
   ]
  },
  {
   "cell_type": "code",
   "execution_count": 45,
   "metadata": {},
   "outputs": [],
   "source": [
    "orders['user_days_since_order'] = (orders.sort_values(by=['user_id','order_number'], ascending=False)\n",
    "                .groupby(['user_id'])\n",
    "                ['user_days_since_prior_order'].apply(lambda x: x.cumsum())).shift(1)"
   ]
  },
  {
   "cell_type": "code",
   "execution_count": 46,
   "metadata": {},
   "outputs": [
    {
     "data": {
      "text/html": [
       "<div>\n",
       "<style scoped>\n",
       "    .dataframe tbody tr th:only-of-type {\n",
       "        vertical-align: middle;\n",
       "    }\n",
       "\n",
       "    .dataframe tbody tr th {\n",
       "        vertical-align: top;\n",
       "    }\n",
       "\n",
       "    .dataframe thead th {\n",
       "        text-align: right;\n",
       "    }\n",
       "</style>\n",
       "<table border=\"1\" class=\"dataframe\">\n",
       "  <thead>\n",
       "    <tr style=\"text-align: right;\">\n",
       "      <th></th>\n",
       "      <th>order_id</th>\n",
       "      <th>user_id</th>\n",
       "      <th>order_number</th>\n",
       "      <th>order_dow</th>\n",
       "      <th>order_hour_of_day</th>\n",
       "      <th>user_days_since_prior_order</th>\n",
       "      <th>user_total_orders</th>\n",
       "      <th>user_days_since_order</th>\n",
       "    </tr>\n",
       "  </thead>\n",
       "  <tbody>\n",
       "    <tr>\n",
       "      <th>82681</th>\n",
       "      <td>398664</td>\n",
       "      <td>206175</td>\n",
       "      <td>6</td>\n",
       "      <td>0</td>\n",
       "      <td>9</td>\n",
       "      <td>14.0</td>\n",
       "      <td>6.0</td>\n",
       "      <td>NaN</td>\n",
       "    </tr>\n",
       "    <tr>\n",
       "      <th>82680</th>\n",
       "      <td>2950302</td>\n",
       "      <td>206175</td>\n",
       "      <td>5</td>\n",
       "      <td>0</td>\n",
       "      <td>14</td>\n",
       "      <td>6.0</td>\n",
       "      <td>6.0</td>\n",
       "      <td>14.0</td>\n",
       "    </tr>\n",
       "    <tr>\n",
       "      <th>82679</th>\n",
       "      <td>583707</td>\n",
       "      <td>206175</td>\n",
       "      <td>4</td>\n",
       "      <td>1</td>\n",
       "      <td>17</td>\n",
       "      <td>30.0</td>\n",
       "      <td>6.0</td>\n",
       "      <td>20.0</td>\n",
       "    </tr>\n",
       "    <tr>\n",
       "      <th>82678</th>\n",
       "      <td>960985</td>\n",
       "      <td>206175</td>\n",
       "      <td>3</td>\n",
       "      <td>0</td>\n",
       "      <td>14</td>\n",
       "      <td>8.0</td>\n",
       "      <td>6.0</td>\n",
       "      <td>50.0</td>\n",
       "    </tr>\n",
       "    <tr>\n",
       "      <th>82677</th>\n",
       "      <td>3064612</td>\n",
       "      <td>206175</td>\n",
       "      <td>2</td>\n",
       "      <td>6</td>\n",
       "      <td>21</td>\n",
       "      <td>7.0</td>\n",
       "      <td>6.0</td>\n",
       "      <td>58.0</td>\n",
       "    </tr>\n",
       "    <tr>\n",
       "      <th>82676</th>\n",
       "      <td>1946643</td>\n",
       "      <td>206175</td>\n",
       "      <td>1</td>\n",
       "      <td>6</td>\n",
       "      <td>17</td>\n",
       "      <td>NaN</td>\n",
       "      <td>6.0</td>\n",
       "      <td>65.0</td>\n",
       "    </tr>\n",
       "    <tr>\n",
       "      <th>82674</th>\n",
       "      <td>2614861</td>\n",
       "      <td>206172</td>\n",
       "      <td>6</td>\n",
       "      <td>0</td>\n",
       "      <td>12</td>\n",
       "      <td>27.0</td>\n",
       "      <td>6.0</td>\n",
       "      <td>NaN</td>\n",
       "    </tr>\n",
       "    <tr>\n",
       "      <th>82673</th>\n",
       "      <td>1162965</td>\n",
       "      <td>206172</td>\n",
       "      <td>5</td>\n",
       "      <td>1</td>\n",
       "      <td>17</td>\n",
       "      <td>30.0</td>\n",
       "      <td>6.0</td>\n",
       "      <td>27.0</td>\n",
       "    </tr>\n",
       "    <tr>\n",
       "      <th>82672</th>\n",
       "      <td>1594834</td>\n",
       "      <td>206172</td>\n",
       "      <td>4</td>\n",
       "      <td>0</td>\n",
       "      <td>19</td>\n",
       "      <td>30.0</td>\n",
       "      <td>6.0</td>\n",
       "      <td>57.0</td>\n",
       "    </tr>\n",
       "    <tr>\n",
       "      <th>82671</th>\n",
       "      <td>1391094</td>\n",
       "      <td>206172</td>\n",
       "      <td>3</td>\n",
       "      <td>0</td>\n",
       "      <td>16</td>\n",
       "      <td>16.0</td>\n",
       "      <td>6.0</td>\n",
       "      <td>87.0</td>\n",
       "    </tr>\n",
       "  </tbody>\n",
       "</table>\n",
       "</div>"
      ],
      "text/plain": [
       "       order_id  user_id  order_number  order_dow  order_hour_of_day  \\\n",
       "82681    398664   206175             6          0                  9   \n",
       "82680   2950302   206175             5          0                 14   \n",
       "82679    583707   206175             4          1                 17   \n",
       "82678    960985   206175             3          0                 14   \n",
       "82677   3064612   206175             2          6                 21   \n",
       "82676   1946643   206175             1          6                 17   \n",
       "82674   2614861   206172             6          0                 12   \n",
       "82673   1162965   206172             5          1                 17   \n",
       "82672   1594834   206172             4          0                 19   \n",
       "82671   1391094   206172             3          0                 16   \n",
       "\n",
       "       user_days_since_prior_order  user_total_orders  user_days_since_order  \n",
       "82681                         14.0                6.0                    NaN  \n",
       "82680                          6.0                6.0                   14.0  \n",
       "82679                         30.0                6.0                   20.0  \n",
       "82678                          8.0                6.0                   50.0  \n",
       "82677                          7.0                6.0                   58.0  \n",
       "82676                          NaN                6.0                   65.0  \n",
       "82674                         27.0                6.0                    NaN  \n",
       "82673                         30.0                6.0                   27.0  \n",
       "82672                         30.0                6.0                   57.0  \n",
       "82671                         16.0                6.0                   87.0  "
      ]
     },
     "execution_count": 46,
     "metadata": {},
     "output_type": "execute_result"
    }
   ],
   "source": [
    "orders.head(10)"
   ]
  },
  {
   "cell_type": "markdown",
   "metadata": {},
   "source": [
    "### user_days_since_first_order"
   ]
  },
  {
   "cell_type": "code",
   "execution_count": 47,
   "metadata": {},
   "outputs": [],
   "source": [
    "orders['user_days_since_first_order'] = (\n",
    "    orders.sort_values(by=['user_id','user_days_since_order'],ascending=False)\n",
    "    .groupby('user_id',as_index=False)\n",
    "    ['user_days_since_order'].nth(0))"
   ]
  },
  {
   "cell_type": "code",
   "execution_count": 48,
   "metadata": {},
   "outputs": [],
   "source": [
    "# fill rows with days since first order by userid\n",
    "(orders['user_days_since_first_order']\n",
    "     .fillna(orders.groupby('user_id')\n",
    "     ['user_days_since_first_order'].transform('median'), inplace=True))"
   ]
  },
  {
   "cell_type": "raw",
   "metadata": {},
   "source": [
    "orders[['user_days_since_first_order','user_id','user_days_since_order']].iloc[940:990]"
   ]
  },
  {
   "cell_type": "markdown",
   "metadata": {},
   "source": [
    "### user_days_since_last_order"
   ]
  },
  {
   "cell_type": "code",
   "execution_count": 49,
   "metadata": {},
   "outputs": [],
   "source": [
    "orders['user_days_since_last_order'] = (\n",
    "    orders.sort_values(by=['user_id','user_days_since_order'])\n",
    "    .groupby('user_id',as_index=False)\n",
    "    ['user_days_since_order'].nth(0))"
   ]
  },
  {
   "cell_type": "code",
   "execution_count": 50,
   "metadata": {},
   "outputs": [],
   "source": [
    "# fill rows with days since first order by userid\n",
    "(orders['user_days_since_last_order']\n",
    "     .fillna(orders.groupby('user_id')\n",
    "     ['user_days_since_last_order'].transform('median'), inplace=True))"
   ]
  },
  {
   "cell_type": "raw",
   "metadata": {},
   "source": [
    "orders[['user_id','user_days_since_last_order','user_days_since_last_order2']].iloc[940:990]"
   ]
  },
  {
   "cell_type": "code",
   "execution_count": 51,
   "metadata": {},
   "outputs": [
    {
     "data": {
      "text/html": [
       "<div>\n",
       "<style scoped>\n",
       "    .dataframe tbody tr th:only-of-type {\n",
       "        vertical-align: middle;\n",
       "    }\n",
       "\n",
       "    .dataframe tbody tr th {\n",
       "        vertical-align: top;\n",
       "    }\n",
       "\n",
       "    .dataframe thead th {\n",
       "        text-align: right;\n",
       "    }\n",
       "</style>\n",
       "<table border=\"1\" class=\"dataframe\">\n",
       "  <thead>\n",
       "    <tr style=\"text-align: right;\">\n",
       "      <th></th>\n",
       "      <th>order_id</th>\n",
       "      <th>user_id</th>\n",
       "      <th>order_number</th>\n",
       "      <th>order_dow</th>\n",
       "      <th>order_hour_of_day</th>\n",
       "      <th>user_days_since_prior_order</th>\n",
       "      <th>user_total_orders</th>\n",
       "      <th>user_days_since_order</th>\n",
       "      <th>user_days_since_first_order</th>\n",
       "      <th>user_days_since_last_order</th>\n",
       "    </tr>\n",
       "  </thead>\n",
       "  <tbody>\n",
       "    <tr>\n",
       "      <th>9</th>\n",
       "      <td>1431607</td>\n",
       "      <td>50</td>\n",
       "      <td>10</td>\n",
       "      <td>2</td>\n",
       "      <td>10</td>\n",
       "      <td>5.0</td>\n",
       "      <td>67.0</td>\n",
       "      <td>295.0</td>\n",
       "      <td>357.0</td>\n",
       "      <td>6.0</td>\n",
       "    </tr>\n",
       "    <tr>\n",
       "      <th>8</th>\n",
       "      <td>1941871</td>\n",
       "      <td>50</td>\n",
       "      <td>9</td>\n",
       "      <td>4</td>\n",
       "      <td>11</td>\n",
       "      <td>5.0</td>\n",
       "      <td>67.0</td>\n",
       "      <td>300.0</td>\n",
       "      <td>357.0</td>\n",
       "      <td>6.0</td>\n",
       "    </tr>\n",
       "    <tr>\n",
       "      <th>7</th>\n",
       "      <td>1673791</td>\n",
       "      <td>50</td>\n",
       "      <td>8</td>\n",
       "      <td>6</td>\n",
       "      <td>14</td>\n",
       "      <td>3.0</td>\n",
       "      <td>67.0</td>\n",
       "      <td>305.0</td>\n",
       "      <td>357.0</td>\n",
       "      <td>6.0</td>\n",
       "    </tr>\n",
       "    <tr>\n",
       "      <th>6</th>\n",
       "      <td>357849</td>\n",
       "      <td>50</td>\n",
       "      <td>7</td>\n",
       "      <td>3</td>\n",
       "      <td>13</td>\n",
       "      <td>8.0</td>\n",
       "      <td>67.0</td>\n",
       "      <td>308.0</td>\n",
       "      <td>357.0</td>\n",
       "      <td>6.0</td>\n",
       "    </tr>\n",
       "    <tr>\n",
       "      <th>5</th>\n",
       "      <td>1905727</td>\n",
       "      <td>50</td>\n",
       "      <td>6</td>\n",
       "      <td>2</td>\n",
       "      <td>10</td>\n",
       "      <td>5.0</td>\n",
       "      <td>67.0</td>\n",
       "      <td>316.0</td>\n",
       "      <td>357.0</td>\n",
       "      <td>6.0</td>\n",
       "    </tr>\n",
       "    <tr>\n",
       "      <th>4</th>\n",
       "      <td>2756806</td>\n",
       "      <td>50</td>\n",
       "      <td>5</td>\n",
       "      <td>4</td>\n",
       "      <td>14</td>\n",
       "      <td>11.0</td>\n",
       "      <td>67.0</td>\n",
       "      <td>321.0</td>\n",
       "      <td>357.0</td>\n",
       "      <td>6.0</td>\n",
       "    </tr>\n",
       "    <tr>\n",
       "      <th>3</th>\n",
       "      <td>3201640</td>\n",
       "      <td>50</td>\n",
       "      <td>4</td>\n",
       "      <td>0</td>\n",
       "      <td>11</td>\n",
       "      <td>6.0</td>\n",
       "      <td>67.0</td>\n",
       "      <td>332.0</td>\n",
       "      <td>357.0</td>\n",
       "      <td>6.0</td>\n",
       "    </tr>\n",
       "    <tr>\n",
       "      <th>2</th>\n",
       "      <td>2197066</td>\n",
       "      <td>50</td>\n",
       "      <td>3</td>\n",
       "      <td>1</td>\n",
       "      <td>13</td>\n",
       "      <td>9.0</td>\n",
       "      <td>67.0</td>\n",
       "      <td>338.0</td>\n",
       "      <td>357.0</td>\n",
       "      <td>6.0</td>\n",
       "    </tr>\n",
       "    <tr>\n",
       "      <th>1</th>\n",
       "      <td>3131103</td>\n",
       "      <td>50</td>\n",
       "      <td>2</td>\n",
       "      <td>6</td>\n",
       "      <td>12</td>\n",
       "      <td>10.0</td>\n",
       "      <td>67.0</td>\n",
       "      <td>347.0</td>\n",
       "      <td>357.0</td>\n",
       "      <td>6.0</td>\n",
       "    </tr>\n",
       "    <tr>\n",
       "      <th>0</th>\n",
       "      <td>1363380</td>\n",
       "      <td>50</td>\n",
       "      <td>1</td>\n",
       "      <td>3</td>\n",
       "      <td>9</td>\n",
       "      <td>NaN</td>\n",
       "      <td>67.0</td>\n",
       "      <td>357.0</td>\n",
       "      <td>357.0</td>\n",
       "      <td>6.0</td>\n",
       "    </tr>\n",
       "  </tbody>\n",
       "</table>\n",
       "</div>"
      ],
      "text/plain": [
       "   order_id  user_id  order_number  order_dow  order_hour_of_day  \\\n",
       "9   1431607       50            10          2                 10   \n",
       "8   1941871       50             9          4                 11   \n",
       "7   1673791       50             8          6                 14   \n",
       "6    357849       50             7          3                 13   \n",
       "5   1905727       50             6          2                 10   \n",
       "4   2756806       50             5          4                 14   \n",
       "3   3201640       50             4          0                 11   \n",
       "2   2197066       50             3          1                 13   \n",
       "1   3131103       50             2          6                 12   \n",
       "0   1363380       50             1          3                  9   \n",
       "\n",
       "   user_days_since_prior_order  user_total_orders  user_days_since_order  \\\n",
       "9                          5.0               67.0                  295.0   \n",
       "8                          5.0               67.0                  300.0   \n",
       "7                          3.0               67.0                  305.0   \n",
       "6                          8.0               67.0                  308.0   \n",
       "5                          5.0               67.0                  316.0   \n",
       "4                         11.0               67.0                  321.0   \n",
       "3                          6.0               67.0                  332.0   \n",
       "2                          9.0               67.0                  338.0   \n",
       "1                         10.0               67.0                  347.0   \n",
       "0                          NaN               67.0                  357.0   \n",
       "\n",
       "   user_days_since_first_order  user_days_since_last_order  \n",
       "9                        357.0                         6.0  \n",
       "8                        357.0                         6.0  \n",
       "7                        357.0                         6.0  \n",
       "6                        357.0                         6.0  \n",
       "5                        357.0                         6.0  \n",
       "4                        357.0                         6.0  \n",
       "3                        357.0                         6.0  \n",
       "2                        357.0                         6.0  \n",
       "1                        357.0                         6.0  \n",
       "0                        357.0                         6.0  "
      ]
     },
     "execution_count": 51,
     "metadata": {},
     "output_type": "execute_result"
    }
   ],
   "source": [
    "orders.tail(10)"
   ]
  },
  {
   "cell_type": "code",
   "execution_count": 52,
   "metadata": {},
   "outputs": [
    {
     "data": {
      "text/plain": [
       "<function matplotlib.pyplot.show>"
      ]
     },
     "execution_count": 52,
     "metadata": {},
     "output_type": "execute_result"
    },
    {
     "data": {
      "image/png": "[encoded data removed]",
      "text/plain": [
       "<matplotlib.figure.Figure at 0x1a0c6485f8>"
      ]
     },
     "metadata": {},
     "output_type": "display_data"
    }
   ],
   "source": [
    "plt.hist(orders['user_days_since_first_order'])\n",
    "plt.title('\\nDays Since First Order Across Users\\n',fontsize=15)\n",
    "plt.xlabel('days')\n",
    "plt.ylabel('counts')\n",
    "plt.show\n",
    "# plt.savefig('loyalty.png',dpi=300);"
   ]
  },
  {
   "cell_type": "code",
   "execution_count": 53,
   "metadata": {},
   "outputs": [
    {
     "data": {
      "text/plain": [
       "<function matplotlib.pyplot.show>"
      ]
     },
     "execution_count": 53,
     "metadata": {},
     "output_type": "execute_result"
    },
    {
     "data": {
      "image/png": "[encoded data removed]",
      "text/plain": [
       "<matplotlib.figure.Figure at 0x1a0c648400>"
      ]
     },
     "metadata": {},
     "output_type": "display_data"
    }
   ],
   "source": [
    "plt.hist(orders['user_days_since_last_order'])\n",
    "plt.title('\\nDays Since Last Order Across Users\\n',fontsize=15)\n",
    "plt.xlabel('days')\n",
    "plt.ylabel('counts')\n",
    "plt.show\n",
    "# plt.savefig('loyalty.png',dpi=300);"
   ]
  },
  {
   "cell_type": "markdown",
   "metadata": {},
   "source": [
    "### user_days_between_orders_mean"
   ]
  },
  {
   "cell_type": "code",
   "execution_count": 54,
   "metadata": {},
   "outputs": [],
   "source": [
    "orders['user_days_between_orders_mean'] = (\n",
    "    orders.groupby(['user_id'])\n",
    "    ['user_days_since_prior_order'].transform(lambda x: x.mean()))"
   ]
  },
  {
   "cell_type": "markdown",
   "metadata": {},
   "source": [
    "### user_days_between_orders_mode"
   ]
  },
  {
   "cell_type": "code",
   "execution_count": 55,
   "metadata": {},
   "outputs": [],
   "source": [
    "orders['user_days_between_orders_mode'] = (\n",
    "    orders.groupby(['user_id'])\n",
    "    ['user_days_since_prior_order']\n",
    "    .transform(lambda x: np.bincount(x.fillna(66666).astype(int)).argmax() \n",
    "               if np.bincount(x.fillna(66666).astype(int)).max()>1 else 66666)\n",
    ")\n",
    "orders['user_days_between_orders_mode'].replace({66666.0:np.nan},inplace=True)"
   ]
  },
  {
   "cell_type": "markdown",
   "metadata": {},
   "source": [
    "### user_last_order_number"
   ]
  },
  {
   "cell_type": "code",
   "execution_count": 57,
   "metadata": {},
   "outputs": [],
   "source": [
    "# get last order number to be able to get user_days_between_last_2_orders \n",
    "orders['user_last_order_number'] = (\n",
    "    orders.sort_values(by=['user_id','order_number'],ascending=False)\n",
    "    .groupby('user_id',as_index=False)\n",
    "    ['order_number'].nth(0))"
   ]
  },
  {
   "cell_type": "code",
   "execution_count": 58,
   "metadata": {},
   "outputs": [],
   "source": [
    "(orders['user_last_order_number']\n",
    "     .fillna(orders.groupby('user_id')\n",
    "     ['user_last_order_number'].transform('median'), inplace=True))"
   ]
  },
  {
   "cell_type": "markdown",
   "metadata": {},
   "source": [
    "### user_days_between_last_2_orders"
   ]
  },
  {
   "cell_type": "code",
   "execution_count": 59,
   "metadata": {},
   "outputs": [],
   "source": [
    "orders['user_days_between_last_2_orders'] = (np.where(orders['order_number'] == \n",
    "                                                      orders['user_last_order_number'],\n",
    "                                                      orders['user_days_since_prior_order'],\n",
    "                                                      np.nan))"
   ]
  },
  {
   "cell_type": "raw",
   "metadata": {
    "scrolled": true
   },
   "source": [
    "orders.head()"
   ]
  },
  {
   "cell_type": "code",
   "execution_count": 61,
   "metadata": {},
   "outputs": [],
   "source": [
    "# fill all values with days between last 2 orders per user\n",
    "(orders['user_days_between_last_2_orders']\n",
    "     .fillna(orders.groupby('user_id')\n",
    "     ['user_days_between_last_2_orders'].transform('median'), inplace=True))"
   ]
  },
  {
   "cell_type": "raw",
   "metadata": {
    "scrolled": true
   },
   "source": [
    "orders.head()"
   ]
  },
  {
   "cell_type": "markdown",
   "metadata": {},
   "source": [
    "### user_days_between_last_4_orders"
   ]
  },
  {
   "cell_type": "code",
   "execution_count": 63,
   "metadata": {},
   "outputs": [],
   "source": [
    "orders['user_days_between_last_4_orders'] = ((\n",
    "    orders.sort_values(by=['user_id','order_number'], ascending=False).groupby('user_id').head(3))\n",
    "    .groupby('user_id')\n",
    "    ['user_days_since_prior_order'].transform(lambda x: x.mean()))"
   ]
  },
  {
   "cell_type": "code",
   "execution_count": 64,
   "metadata": {
    "scrolled": true
   },
   "outputs": [
    {
     "data": {
      "text/html": [
       "<div>\n",
       "<style scoped>\n",
       "    .dataframe tbody tr th:only-of-type {\n",
       "        vertical-align: middle;\n",
       "    }\n",
       "\n",
       "    .dataframe tbody tr th {\n",
       "        vertical-align: top;\n",
       "    }\n",
       "\n",
       "    .dataframe thead th {\n",
       "        text-align: right;\n",
       "    }\n",
       "</style>\n",
       "<table border=\"1\" class=\"dataframe\">\n",
       "  <thead>\n",
       "    <tr style=\"text-align: right;\">\n",
       "      <th></th>\n",
       "      <th>order_id</th>\n",
       "      <th>user_id</th>\n",
       "      <th>order_number</th>\n",
       "      <th>order_dow</th>\n",
       "      <th>order_hour_of_day</th>\n",
       "      <th>user_days_since_prior_order</th>\n",
       "      <th>user_total_orders</th>\n",
       "      <th>user_days_since_order</th>\n",
       "      <th>user_days_since_first_order</th>\n",
       "      <th>user_days_since_last_order</th>\n",
       "      <th>user_days_between_orders_mean</th>\n",
       "      <th>user_days_between_orders_mode</th>\n",
       "      <th>user_last_order_number</th>\n",
       "      <th>user_days_between_last_2_orders</th>\n",
       "      <th>user_days_between_last_4_orders</th>\n",
       "    </tr>\n",
       "  </thead>\n",
       "  <tbody>\n",
       "    <tr>\n",
       "      <th>82681</th>\n",
       "      <td>398664</td>\n",
       "      <td>206175</td>\n",
       "      <td>6</td>\n",
       "      <td>0</td>\n",
       "      <td>9</td>\n",
       "      <td>14.0</td>\n",
       "      <td>6.0</td>\n",
       "      <td>NaN</td>\n",
       "      <td>65.0</td>\n",
       "      <td>14.0</td>\n",
       "      <td>13.0</td>\n",
       "      <td>NaN</td>\n",
       "      <td>6.0</td>\n",
       "      <td>14.0</td>\n",
       "      <td>16.666667</td>\n",
       "    </tr>\n",
       "    <tr>\n",
       "      <th>82680</th>\n",
       "      <td>2950302</td>\n",
       "      <td>206175</td>\n",
       "      <td>5</td>\n",
       "      <td>0</td>\n",
       "      <td>14</td>\n",
       "      <td>6.0</td>\n",
       "      <td>6.0</td>\n",
       "      <td>14.0</td>\n",
       "      <td>65.0</td>\n",
       "      <td>14.0</td>\n",
       "      <td>13.0</td>\n",
       "      <td>NaN</td>\n",
       "      <td>6.0</td>\n",
       "      <td>14.0</td>\n",
       "      <td>16.666667</td>\n",
       "    </tr>\n",
       "    <tr>\n",
       "      <th>82679</th>\n",
       "      <td>583707</td>\n",
       "      <td>206175</td>\n",
       "      <td>4</td>\n",
       "      <td>1</td>\n",
       "      <td>17</td>\n",
       "      <td>30.0</td>\n",
       "      <td>6.0</td>\n",
       "      <td>20.0</td>\n",
       "      <td>65.0</td>\n",
       "      <td>14.0</td>\n",
       "      <td>13.0</td>\n",
       "      <td>NaN</td>\n",
       "      <td>6.0</td>\n",
       "      <td>14.0</td>\n",
       "      <td>16.666667</td>\n",
       "    </tr>\n",
       "    <tr>\n",
       "      <th>82678</th>\n",
       "      <td>960985</td>\n",
       "      <td>206175</td>\n",
       "      <td>3</td>\n",
       "      <td>0</td>\n",
       "      <td>14</td>\n",
       "      <td>8.0</td>\n",
       "      <td>6.0</td>\n",
       "      <td>50.0</td>\n",
       "      <td>65.0</td>\n",
       "      <td>14.0</td>\n",
       "      <td>13.0</td>\n",
       "      <td>NaN</td>\n",
       "      <td>6.0</td>\n",
       "      <td>14.0</td>\n",
       "      <td>NaN</td>\n",
       "    </tr>\n",
       "    <tr>\n",
       "      <th>82677</th>\n",
       "      <td>3064612</td>\n",
       "      <td>206175</td>\n",
       "      <td>2</td>\n",
       "      <td>6</td>\n",
       "      <td>21</td>\n",
       "      <td>7.0</td>\n",
       "      <td>6.0</td>\n",
       "      <td>58.0</td>\n",
       "      <td>65.0</td>\n",
       "      <td>14.0</td>\n",
       "      <td>13.0</td>\n",
       "      <td>NaN</td>\n",
       "      <td>6.0</td>\n",
       "      <td>14.0</td>\n",
       "      <td>NaN</td>\n",
       "    </tr>\n",
       "  </tbody>\n",
       "</table>\n",
       "</div>"
      ],
      "text/plain": [
       "       order_id  user_id  order_number  order_dow  order_hour_of_day  \\\n",
       "82681    398664   206175             6          0                  9   \n",
       "82680   2950302   206175             5          0                 14   \n",
       "82679    583707   206175             4          1                 17   \n",
       "82678    960985   206175             3          0                 14   \n",
       "82677   3064612   206175             2          6                 21   \n",
       "\n",
       "       user_days_since_prior_order  user_total_orders  user_days_since_order  \\\n",
       "82681                         14.0                6.0                    NaN   \n",
       "82680                          6.0                6.0                   14.0   \n",
       "82679                         30.0                6.0                   20.0   \n",
       "82678                          8.0                6.0                   50.0   \n",
       "82677                          7.0                6.0                   58.0   \n",
       "\n",
       "       user_days_since_first_order  user_days_since_last_order  \\\n",
       "82681                         65.0                        14.0   \n",
       "82680                         65.0                        14.0   \n",
       "82679                         65.0                        14.0   \n",
       "82678                         65.0                        14.0   \n",
       "82677                         65.0                        14.0   \n",
       "\n",
       "       user_days_between_orders_mean  user_days_between_orders_mode  \\\n",
       "82681                           13.0                            NaN   \n",
       "82680                           13.0                            NaN   \n",
       "82679                           13.0                            NaN   \n",
       "82678                           13.0                            NaN   \n",
       "82677                           13.0                            NaN   \n",
       "\n",
       "       user_last_order_number  user_days_between_last_2_orders  \\\n",
       "82681                     6.0                             14.0   \n",
       "82680                     6.0                             14.0   \n",
       "82679                     6.0                             14.0   \n",
       "82678                     6.0                             14.0   \n",
       "82677                     6.0                             14.0   \n",
       "\n",
       "       user_days_between_last_4_orders  \n",
       "82681                        16.666667  \n",
       "82680                        16.666667  \n",
       "82679                        16.666667  \n",
       "82678                              NaN  \n",
       "82677                              NaN  "
      ]
     },
     "execution_count": 64,
     "metadata": {},
     "output_type": "execute_result"
    }
   ],
   "source": [
    "orders.head()"
   ]
  },
  {
   "cell_type": "code",
   "execution_count": 65,
   "metadata": {},
   "outputs": [],
   "source": [
    "# fill all values with days between last 4 orders per user\n",
    "(orders['user_days_between_last_4_orders']\n",
    "     .fillna(orders.groupby('user_id')\n",
    "     ['user_days_between_last_4_orders'].transform('median'), inplace=True))"
   ]
  },
  {
   "cell_type": "code",
   "execution_count": 66,
   "metadata": {
    "scrolled": true
   },
   "outputs": [
    {
     "data": {
      "text/html": [
       "<div>\n",
       "<style scoped>\n",
       "    .dataframe tbody tr th:only-of-type {\n",
       "        vertical-align: middle;\n",
       "    }\n",
       "\n",
       "    .dataframe tbody tr th {\n",
       "        vertical-align: top;\n",
       "    }\n",
       "\n",
       "    .dataframe thead th {\n",
       "        text-align: right;\n",
       "    }\n",
       "</style>\n",
       "<table border=\"1\" class=\"dataframe\">\n",
       "  <thead>\n",
       "    <tr style=\"text-align: right;\">\n",
       "      <th></th>\n",
       "      <th>order_id</th>\n",
       "      <th>user_id</th>\n",
       "      <th>order_number</th>\n",
       "      <th>order_dow</th>\n",
       "      <th>order_hour_of_day</th>\n",
       "      <th>user_days_since_prior_order</th>\n",
       "      <th>user_total_orders</th>\n",
       "      <th>user_days_since_order</th>\n",
       "      <th>user_days_since_first_order</th>\n",
       "      <th>user_days_since_last_order</th>\n",
       "      <th>user_days_between_orders_mean</th>\n",
       "      <th>user_days_between_orders_mode</th>\n",
       "      <th>user_last_order_number</th>\n",
       "      <th>user_days_between_last_2_orders</th>\n",
       "      <th>user_days_between_last_4_orders</th>\n",
       "    </tr>\n",
       "  </thead>\n",
       "  <tbody>\n",
       "    <tr>\n",
       "      <th>82681</th>\n",
       "      <td>398664</td>\n",
       "      <td>206175</td>\n",
       "      <td>6</td>\n",
       "      <td>0</td>\n",
       "      <td>9</td>\n",
       "      <td>14.0</td>\n",
       "      <td>6.0</td>\n",
       "      <td>NaN</td>\n",
       "      <td>65.0</td>\n",
       "      <td>14.0</td>\n",
       "      <td>13.0</td>\n",
       "      <td>NaN</td>\n",
       "      <td>6.0</td>\n",
       "      <td>14.0</td>\n",
       "      <td>16.666667</td>\n",
       "    </tr>\n",
       "    <tr>\n",
       "      <th>82680</th>\n",
       "      <td>2950302</td>\n",
       "      <td>206175</td>\n",
       "      <td>5</td>\n",
       "      <td>0</td>\n",
       "      <td>14</td>\n",
       "      <td>6.0</td>\n",
       "      <td>6.0</td>\n",
       "      <td>14.0</td>\n",
       "      <td>65.0</td>\n",
       "      <td>14.0</td>\n",
       "      <td>13.0</td>\n",
       "      <td>NaN</td>\n",
       "      <td>6.0</td>\n",
       "      <td>14.0</td>\n",
       "      <td>16.666667</td>\n",
       "    </tr>\n",
       "    <tr>\n",
       "      <th>82679</th>\n",
       "      <td>583707</td>\n",
       "      <td>206175</td>\n",
       "      <td>4</td>\n",
       "      <td>1</td>\n",
       "      <td>17</td>\n",
       "      <td>30.0</td>\n",
       "      <td>6.0</td>\n",
       "      <td>20.0</td>\n",
       "      <td>65.0</td>\n",
       "      <td>14.0</td>\n",
       "      <td>13.0</td>\n",
       "      <td>NaN</td>\n",
       "      <td>6.0</td>\n",
       "      <td>14.0</td>\n",
       "      <td>16.666667</td>\n",
       "    </tr>\n",
       "    <tr>\n",
       "      <th>82678</th>\n",
       "      <td>960985</td>\n",
       "      <td>206175</td>\n",
       "      <td>3</td>\n",
       "      <td>0</td>\n",
       "      <td>14</td>\n",
       "      <td>8.0</td>\n",
       "      <td>6.0</td>\n",
       "      <td>50.0</td>\n",
       "      <td>65.0</td>\n",
       "      <td>14.0</td>\n",
       "      <td>13.0</td>\n",
       "      <td>NaN</td>\n",
       "      <td>6.0</td>\n",
       "      <td>14.0</td>\n",
       "      <td>16.666667</td>\n",
       "    </tr>\n",
       "    <tr>\n",
       "      <th>82677</th>\n",
       "      <td>3064612</td>\n",
       "      <td>206175</td>\n",
       "      <td>2</td>\n",
       "      <td>6</td>\n",
       "      <td>21</td>\n",
       "      <td>7.0</td>\n",
       "      <td>6.0</td>\n",
       "      <td>58.0</td>\n",
       "      <td>65.0</td>\n",
       "      <td>14.0</td>\n",
       "      <td>13.0</td>\n",
       "      <td>NaN</td>\n",
       "      <td>6.0</td>\n",
       "      <td>14.0</td>\n",
       "      <td>16.666667</td>\n",
       "    </tr>\n",
       "  </tbody>\n",
       "</table>\n",
       "</div>"
      ],
      "text/plain": [
       "       order_id  user_id  order_number  order_dow  order_hour_of_day  \\\n",
       "82681    398664   206175             6          0                  9   \n",
       "82680   2950302   206175             5          0                 14   \n",
       "82679    583707   206175             4          1                 17   \n",
       "82678    960985   206175             3          0                 14   \n",
       "82677   3064612   206175             2          6                 21   \n",
       "\n",
       "       user_days_since_prior_order  user_total_orders  user_days_since_order  \\\n",
       "82681                         14.0                6.0                    NaN   \n",
       "82680                          6.0                6.0                   14.0   \n",
       "82679                         30.0                6.0                   20.0   \n",
       "82678                          8.0                6.0                   50.0   \n",
       "82677                          7.0                6.0                   58.0   \n",
       "\n",
       "       user_days_since_first_order  user_days_since_last_order  \\\n",
       "82681                         65.0                        14.0   \n",
       "82680                         65.0                        14.0   \n",
       "82679                         65.0                        14.0   \n",
       "82678                         65.0                        14.0   \n",
       "82677                         65.0                        14.0   \n",
       "\n",
       "       user_days_between_orders_mean  user_days_between_orders_mode  \\\n",
       "82681                           13.0                            NaN   \n",
       "82680                           13.0                            NaN   \n",
       "82679                           13.0                            NaN   \n",
       "82678                           13.0                            NaN   \n",
       "82677                           13.0                            NaN   \n",
       "\n",
       "       user_last_order_number  user_days_between_last_2_orders  \\\n",
       "82681                     6.0                             14.0   \n",
       "82680                     6.0                             14.0   \n",
       "82679                     6.0                             14.0   \n",
       "82678                     6.0                             14.0   \n",
       "82677                     6.0                             14.0   \n",
       "\n",
       "       user_days_between_last_4_orders  \n",
       "82681                        16.666667  \n",
       "82680                        16.666667  \n",
       "82679                        16.666667  \n",
       "82678                        16.666667  \n",
       "82677                        16.666667  "
      ]
     },
     "execution_count": 66,
     "metadata": {},
     "output_type": "execute_result"
    }
   ],
   "source": [
    "orders.head()"
   ]
  },
  {
   "cell_type": "markdown",
   "metadata": {},
   "source": [
    "### user_mode_timeofday"
   ]
  },
  {
   "cell_type": "code",
   "execution_count": 67,
   "metadata": {},
   "outputs": [],
   "source": [
    "orders['user_order_timeofday_mode'] = (\n",
    "    orders.groupby('user_id')\n",
    "    ['order_hour_of_day']\n",
    "    .transform(lambda x: np.bincount(x).argmax() \n",
    "              if np.bincount(x).max()>1\n",
    "              else np.nan)\n",
    "#     .transform(lambda x: mode(x)[0][0] if mode(x)[1][0]>1 else np.nan) -- slow\n",
    ")\n"
   ]
  },
  {
   "cell_type": "raw",
   "metadata": {},
   "source": [
    "orders.sample(60)"
   ]
  },
  {
   "cell_type": "markdown",
   "metadata": {},
   "source": [
    "###  user_order_in_preferred_timeslot"
   ]
  },
  {
   "cell_type": "code",
   "execution_count": null,
   "metadata": {},
   "outputs": [],
   "source": [
    "# use buffer of 2hrs around mode to get preferred timeslot"
   ]
  },
  {
   "cell_type": "code",
   "execution_count": 68,
   "metadata": {},
   "outputs": [],
   "source": [
    "orders['user_order_in_preferred_timeslot'] = (\n",
    "    np.where(\n",
    "        abs(orders['user_order_timeofday_mode'] -\n",
    "        orders['order_hour_of_day']) <=2,\n",
    "        1,\n",
    "        0\n",
    "    )\n",
    ")"
   ]
  },
  {
   "cell_type": "raw",
   "metadata": {},
   "source": [
    "orders.sample(60)"
   ]
  },
  {
   "cell_type": "markdown",
   "metadata": {},
   "source": [
    "###  user_order_share_in_preferred_timeslot"
   ]
  },
  {
   "cell_type": "code",
   "execution_count": 69,
   "metadata": {},
   "outputs": [],
   "source": [
    "# first see how many of the orders were placedin the preferred timeslot\n",
    "orders['user_order_share_in_preferred_timeslot'] = (\n",
    "    orders\n",
    "    .groupby(['user_id'])\n",
    "    ['user_order_in_preferred_timeslot'].transform(lambda x: sum(x))\n",
    ")"
   ]
  },
  {
   "cell_type": "code",
   "execution_count": 71,
   "metadata": {},
   "outputs": [],
   "source": [
    "# now divide by total orders of user\n",
    "orders['user_order_share_in_preferred_timeslot'] = (\n",
    "orders['user_order_share_in_preferred_timeslot'] / \n",
    "orders['user_total_orders'])"
   ]
  },
  {
   "cell_type": "markdown",
   "metadata": {},
   "source": [
    "### user_mode_dayofweek"
   ]
  },
  {
   "cell_type": "code",
   "execution_count": 73,
   "metadata": {},
   "outputs": [],
   "source": [
    "orders['user_order_dayofweek_mode'] = (\n",
    "    orders.groupby('user_id')\n",
    "    ['order_dow']\n",
    "    .transform(lambda x: np.bincount(x).argmax()\n",
    "        if np.bincount(x).max()>1\n",
    "        else np.nan)\n",
    ")"
   ]
  },
  {
   "cell_type": "markdown",
   "metadata": {},
   "source": [
    "### user_order_on_preferred_dayofweek"
   ]
  },
  {
   "cell_type": "code",
   "execution_count": 74,
   "metadata": {},
   "outputs": [],
   "source": [
    "orders['user_order_on_preferred_dayofweek'] = (\n",
    "    np.where(\n",
    "        orders['user_order_dayofweek_mode']==orders['order_dow'],\n",
    "        1,\n",
    "        0\n",
    "    )\n",
    ")"
   ]
  },
  {
   "cell_type": "code",
   "execution_count": 80,
   "metadata": {},
   "outputs": [
    {
     "data": {
      "text/html": [
       "<div>\n",
       "<style scoped>\n",
       "    .dataframe tbody tr th:only-of-type {\n",
       "        vertical-align: middle;\n",
       "    }\n",
       "\n",
       "    .dataframe tbody tr th {\n",
       "        vertical-align: top;\n",
       "    }\n",
       "\n",
       "    .dataframe thead th {\n",
       "        text-align: right;\n",
       "    }\n",
       "</style>\n",
       "<table border=\"1\" class=\"dataframe\">\n",
       "  <thead>\n",
       "    <tr style=\"text-align: right;\">\n",
       "      <th></th>\n",
       "      <th>order_id</th>\n",
       "      <th>user_id</th>\n",
       "      <th>order_number</th>\n",
       "      <th>order_dow</th>\n",
       "      <th>order_hour_of_day</th>\n",
       "      <th>user_days_since_prior_order</th>\n",
       "      <th>user_total_orders</th>\n",
       "      <th>user_days_since_order</th>\n",
       "      <th>user_days_since_first_order</th>\n",
       "      <th>user_days_since_last_order</th>\n",
       "      <th>...</th>\n",
       "      <th>user_days_between_orders_mode</th>\n",
       "      <th>user_last_order_number</th>\n",
       "      <th>user_days_between_last_2_orders</th>\n",
       "      <th>user_days_between_last_4_orders</th>\n",
       "      <th>user_order_timeofday_mode</th>\n",
       "      <th>user_order_in_preferred_timeslot</th>\n",
       "      <th>user_order_share_in_preferred_timeslot</th>\n",
       "      <th>user_order_dayofweek_mode</th>\n",
       "      <th>user_order_on_preferred_dayofweek</th>\n",
       "      <th>user_order_share_on_preferred_dayofweek</th>\n",
       "    </tr>\n",
       "  </thead>\n",
       "  <tbody>\n",
       "    <tr>\n",
       "      <th>82681</th>\n",
       "      <td>398664</td>\n",
       "      <td>206175</td>\n",
       "      <td>6</td>\n",
       "      <td>0</td>\n",
       "      <td>9</td>\n",
       "      <td>14.0</td>\n",
       "      <td>6.0</td>\n",
       "      <td>NaN</td>\n",
       "      <td>65.0</td>\n",
       "      <td>14.0</td>\n",
       "      <td>...</td>\n",
       "      <td>NaN</td>\n",
       "      <td>6.0</td>\n",
       "      <td>14.0</td>\n",
       "      <td>16.666667</td>\n",
       "      <td>14.0</td>\n",
       "      <td>0</td>\n",
       "      <td>0.333333</td>\n",
       "      <td>0.0</td>\n",
       "      <td>1</td>\n",
       "      <td>0.5</td>\n",
       "    </tr>\n",
       "    <tr>\n",
       "      <th>82680</th>\n",
       "      <td>2950302</td>\n",
       "      <td>206175</td>\n",
       "      <td>5</td>\n",
       "      <td>0</td>\n",
       "      <td>14</td>\n",
       "      <td>6.0</td>\n",
       "      <td>6.0</td>\n",
       "      <td>14.0</td>\n",
       "      <td>65.0</td>\n",
       "      <td>14.0</td>\n",
       "      <td>...</td>\n",
       "      <td>NaN</td>\n",
       "      <td>6.0</td>\n",
       "      <td>14.0</td>\n",
       "      <td>16.666667</td>\n",
       "      <td>14.0</td>\n",
       "      <td>1</td>\n",
       "      <td>0.333333</td>\n",
       "      <td>0.0</td>\n",
       "      <td>1</td>\n",
       "      <td>0.5</td>\n",
       "    </tr>\n",
       "    <tr>\n",
       "      <th>82679</th>\n",
       "      <td>583707</td>\n",
       "      <td>206175</td>\n",
       "      <td>4</td>\n",
       "      <td>1</td>\n",
       "      <td>17</td>\n",
       "      <td>30.0</td>\n",
       "      <td>6.0</td>\n",
       "      <td>20.0</td>\n",
       "      <td>65.0</td>\n",
       "      <td>14.0</td>\n",
       "      <td>...</td>\n",
       "      <td>NaN</td>\n",
       "      <td>6.0</td>\n",
       "      <td>14.0</td>\n",
       "      <td>16.666667</td>\n",
       "      <td>14.0</td>\n",
       "      <td>0</td>\n",
       "      <td>0.333333</td>\n",
       "      <td>0.0</td>\n",
       "      <td>0</td>\n",
       "      <td>0.5</td>\n",
       "    </tr>\n",
       "    <tr>\n",
       "      <th>82678</th>\n",
       "      <td>960985</td>\n",
       "      <td>206175</td>\n",
       "      <td>3</td>\n",
       "      <td>0</td>\n",
       "      <td>14</td>\n",
       "      <td>8.0</td>\n",
       "      <td>6.0</td>\n",
       "      <td>50.0</td>\n",
       "      <td>65.0</td>\n",
       "      <td>14.0</td>\n",
       "      <td>...</td>\n",
       "      <td>NaN</td>\n",
       "      <td>6.0</td>\n",
       "      <td>14.0</td>\n",
       "      <td>16.666667</td>\n",
       "      <td>14.0</td>\n",
       "      <td>1</td>\n",
       "      <td>0.333333</td>\n",
       "      <td>0.0</td>\n",
       "      <td>1</td>\n",
       "      <td>0.5</td>\n",
       "    </tr>\n",
       "    <tr>\n",
       "      <th>82677</th>\n",
       "      <td>3064612</td>\n",
       "      <td>206175</td>\n",
       "      <td>2</td>\n",
       "      <td>6</td>\n",
       "      <td>21</td>\n",
       "      <td>7.0</td>\n",
       "      <td>6.0</td>\n",
       "      <td>58.0</td>\n",
       "      <td>65.0</td>\n",
       "      <td>14.0</td>\n",
       "      <td>...</td>\n",
       "      <td>NaN</td>\n",
       "      <td>6.0</td>\n",
       "      <td>14.0</td>\n",
       "      <td>16.666667</td>\n",
       "      <td>14.0</td>\n",
       "      <td>0</td>\n",
       "      <td>0.333333</td>\n",
       "      <td>0.0</td>\n",
       "      <td>0</td>\n",
       "      <td>0.5</td>\n",
       "    </tr>\n",
       "  </tbody>\n",
       "</table>\n",
       "<p>5 rows × 21 columns</p>\n",
       "</div>"
      ],
      "text/plain": [
       "       order_id  user_id  order_number  order_dow  order_hour_of_day  \\\n",
       "82681    398664   206175             6          0                  9   \n",
       "82680   2950302   206175             5          0                 14   \n",
       "82679    583707   206175             4          1                 17   \n",
       "82678    960985   206175             3          0                 14   \n",
       "82677   3064612   206175             2          6                 21   \n",
       "\n",
       "       user_days_since_prior_order  user_total_orders  user_days_since_order  \\\n",
       "82681                         14.0                6.0                    NaN   \n",
       "82680                          6.0                6.0                   14.0   \n",
       "82679                         30.0                6.0                   20.0   \n",
       "82678                          8.0                6.0                   50.0   \n",
       "82677                          7.0                6.0                   58.0   \n",
       "\n",
       "       user_days_since_first_order  user_days_since_last_order  \\\n",
       "82681                         65.0                        14.0   \n",
       "82680                         65.0                        14.0   \n",
       "82679                         65.0                        14.0   \n",
       "82678                         65.0                        14.0   \n",
       "82677                         65.0                        14.0   \n",
       "\n",
       "                        ...                     user_days_between_orders_mode  \\\n",
       "82681                   ...                                               NaN   \n",
       "82680                   ...                                               NaN   \n",
       "82679                   ...                                               NaN   \n",
       "82678                   ...                                               NaN   \n",
       "82677                   ...                                               NaN   \n",
       "\n",
       "       user_last_order_number  user_days_between_last_2_orders  \\\n",
       "82681                     6.0                             14.0   \n",
       "82680                     6.0                             14.0   \n",
       "82679                     6.0                             14.0   \n",
       "82678                     6.0                             14.0   \n",
       "82677                     6.0                             14.0   \n",
       "\n",
       "       user_days_between_last_4_orders  user_order_timeofday_mode  \\\n",
       "82681                        16.666667                       14.0   \n",
       "82680                        16.666667                       14.0   \n",
       "82679                        16.666667                       14.0   \n",
       "82678                        16.666667                       14.0   \n",
       "82677                        16.666667                       14.0   \n",
       "\n",
       "       user_order_in_preferred_timeslot  \\\n",
       "82681                                 0   \n",
       "82680                                 1   \n",
       "82679                                 0   \n",
       "82678                                 1   \n",
       "82677                                 0   \n",
       "\n",
       "       user_order_share_in_preferred_timeslot  user_order_dayofweek_mode  \\\n",
       "82681                                0.333333                        0.0   \n",
       "82680                                0.333333                        0.0   \n",
       "82679                                0.333333                        0.0   \n",
       "82678                                0.333333                        0.0   \n",
       "82677                                0.333333                        0.0   \n",
       "\n",
       "       user_order_on_preferred_dayofweek  \\\n",
       "82681                                  1   \n",
       "82680                                  1   \n",
       "82679                                  0   \n",
       "82678                                  1   \n",
       "82677                                  0   \n",
       "\n",
       "       user_order_share_on_preferred_dayofweek  \n",
       "82681                                      0.5  \n",
       "82680                                      0.5  \n",
       "82679                                      0.5  \n",
       "82678                                      0.5  \n",
       "82677                                      0.5  \n",
       "\n",
       "[5 rows x 21 columns]"
      ]
     },
     "execution_count": 80,
     "metadata": {},
     "output_type": "execute_result"
    }
   ],
   "source": [
    "orders.head()"
   ]
  },
  {
   "cell_type": "markdown",
   "metadata": {},
   "source": [
    "###  user_order_share_on_preferred_dayofweek"
   ]
  },
  {
   "cell_type": "code",
   "execution_count": 76,
   "metadata": {},
   "outputs": [],
   "source": [
    "# first see how many of the orders were placed on the preferred weekday\n",
    "orders['user_order_share_on_preferred_dayofweek'] = (\n",
    "    orders\n",
    "    .groupby(['user_id'])\n",
    "    ['user_order_on_preferred_dayofweek'].transform(lambda x: sum(x))\n",
    ")"
   ]
  },
  {
   "cell_type": "raw",
   "metadata": {},
   "source": [
    "orders.head()"
   ]
  },
  {
   "cell_type": "code",
   "execution_count": 78,
   "metadata": {},
   "outputs": [],
   "source": [
    "# now divide by total orders of user\n",
    "orders['user_order_share_on_preferred_dayofweek'] = (\n",
    "orders['user_order_share_on_preferred_dayofweek'] / \n",
    "orders['user_total_orders'])"
   ]
  },
  {
   "cell_type": "markdown",
   "metadata": {},
   "source": [
    "### pickle edited_orders"
   ]
  },
  {
   "cell_type": "code",
   "execution_count": 81,
   "metadata": {},
   "outputs": [],
   "source": [
    "orders.to_pickle('edited_orders.pickle')"
   ]
  },
  {
   "cell_type": "markdown",
   "metadata": {},
   "source": [
    "## user_product"
   ]
  },
  {
   "cell_type": "code",
   "execution_count": 84,
   "metadata": {},
   "outputs": [
    {
     "name": "stdout",
     "output_type": "stream",
     "text": [
      "order_id\n",
      "product_id\n",
      "add_to_cart_order\n",
      "reordered\n",
      "user_id\n"
     ]
    }
   ],
   "source": [
    "for col in order_products_prior.columns:\n",
    "    print (col)"
   ]
  },
  {
   "cell_type": "code",
   "execution_count": 85,
   "metadata": {},
   "outputs": [],
   "source": [
    "#  we'll be working with order_products_prior to get product details and build features\n",
    "#  let's merge in the orders df to get the full picture\n",
    "order_products_prior = order_products_prior.merge(orders,on=['order_id','user_id'])"
   ]
  },
  {
   "cell_type": "code",
   "execution_count": null,
   "metadata": {},
   "outputs": [],
   "source": [
    "# create user_product features to facilitate groupby's\n",
    "order_products_prior['user_product'] = (\n",
    "    order_products_prior.apply(lambda row: '%s_%s' %(str(row.user_id),str(row.product_id)),axis=1)\n",
    ")"
   ]
  },
  {
   "cell_type": "code",
   "execution_count": 88,
   "metadata": {},
   "outputs": [],
   "source": [
    "# let's order so we can examine the effects of the feature creations\n",
    "order_products_prior.sort_values(by=['user_id','product_id','order_number'],inplace=True)"
   ]
  },
  {
   "cell_type": "markdown",
   "metadata": {},
   "source": [
    "### user_product_total_orders"
   ]
  },
  {
   "cell_type": "code",
   "execution_count": 96,
   "metadata": {},
   "outputs": [
    {
     "data": {
      "text/html": [
       "<div>\n",
       "<style scoped>\n",
       "    .dataframe tbody tr th:only-of-type {\n",
       "        vertical-align: middle;\n",
       "    }\n",
       "\n",
       "    .dataframe tbody tr th {\n",
       "        vertical-align: top;\n",
       "    }\n",
       "\n",
       "    .dataframe thead th {\n",
       "        text-align: right;\n",
       "    }\n",
       "</style>\n",
       "<table border=\"1\" class=\"dataframe\">\n",
       "  <thead>\n",
       "    <tr style=\"text-align: right;\">\n",
       "      <th></th>\n",
       "      <th>product_id</th>\n",
       "      <th>user_id</th>\n",
       "      <th>user_product_total_orders</th>\n",
       "    </tr>\n",
       "  </thead>\n",
       "  <tbody>\n",
       "    <tr>\n",
       "      <th>0</th>\n",
       "      <td>1</td>\n",
       "      <td>21285</td>\n",
       "      <td>1</td>\n",
       "    </tr>\n",
       "    <tr>\n",
       "      <th>1</th>\n",
       "      <td>1</td>\n",
       "      <td>47549</td>\n",
       "      <td>4</td>\n",
       "    </tr>\n",
       "    <tr>\n",
       "      <th>2</th>\n",
       "      <td>1</td>\n",
       "      <td>54136</td>\n",
       "      <td>1</td>\n",
       "    </tr>\n",
       "    <tr>\n",
       "      <th>3</th>\n",
       "      <td>1</td>\n",
       "      <td>54240</td>\n",
       "      <td>1</td>\n",
       "    </tr>\n",
       "    <tr>\n",
       "      <th>4</th>\n",
       "      <td>1</td>\n",
       "      <td>95730</td>\n",
       "      <td>1</td>\n",
       "    </tr>\n",
       "  </tbody>\n",
       "</table>\n",
       "</div>"
      ],
      "text/plain": [
       "   product_id  user_id  user_product_total_orders\n",
       "0           1    21285                          1\n",
       "1           1    47549                          4\n",
       "2           1    54136                          1\n",
       "3           1    54240                          1\n",
       "4           1    95730                          1"
      ]
     },
     "execution_count": 96,
     "metadata": {},
     "output_type": "execute_result"
    }
   ],
   "source": [
    "# count no of times someone has ordered a product\n",
    "user_product = (\n",
    "    order_products_prior.groupby(['product_id','user_id'],as_index=False)\n",
    "    ['order_id'].count()\n",
    "    .rename(columns={'order_id':'user_product_total_orders'})\n",
    ")\n",
    "\n",
    "user_product.head()"
   ]
  },
  {
   "cell_type": "code",
   "execution_count": 97,
   "metadata": {},
   "outputs": [],
   "source": [
    "# merge back into df\n",
    "order_products_prior = order_products_prior.merge(user_product,on=['product_id','user_id'])"
   ]
  },
  {
   "cell_type": "markdown",
   "metadata": {},
   "source": [
    "### user_product_reorders"
   ]
  },
  {
   "cell_type": "code",
   "execution_count": 98,
   "metadata": {},
   "outputs": [],
   "source": [
    "order_products_prior['user_product_reorders'] = (\n",
    "    order_products_prior['user_product_total_orders'] - 1\n",
    ")"
   ]
  },
  {
   "cell_type": "markdown",
   "metadata": {},
   "source": [
    "### user_product_orders_share"
   ]
  },
  {
   "cell_type": "code",
   "execution_count": 99,
   "metadata": {},
   "outputs": [],
   "source": [
    "order_products_prior['user_product_orders_share'] = (\n",
    "    order_products_prior['user_product_total_orders'] /\n",
    "    order_products_prior['user_total_orders']\n",
    ")"
   ]
  },
  {
   "cell_type": "markdown",
   "metadata": {},
   "source": [
    "### user_product_last_order_number"
   ]
  },
  {
   "cell_type": "code",
   "execution_count": 100,
   "metadata": {},
   "outputs": [],
   "source": [
    "order_products_prior['user_product_last_order_number'] = (\n",
    "    order_products_prior.sort_values(by=['user_product','order_number'],ascending=False)\n",
    "    .groupby('user_product',as_index=False)\n",
    "    ['order_number'].nth(0))"
   ]
  },
  {
   "cell_type": "code",
   "execution_count": 101,
   "metadata": {},
   "outputs": [],
   "source": [
    "(order_products_prior['user_product_last_order_number']\n",
    "     .fillna(order_products_prior.groupby('user_product')\n",
    "     ['user_product_last_order_number'].transform('median'), inplace=True))"
   ]
  },
  {
   "cell_type": "markdown",
   "metadata": {},
   "source": [
    "### user_cart_contents"
   ]
  },
  {
   "cell_type": "code",
   "execution_count": 102,
   "metadata": {},
   "outputs": [
    {
     "data": {
      "text/html": [
       "<div>\n",
       "<style scoped>\n",
       "    .dataframe tbody tr th:only-of-type {\n",
       "        vertical-align: middle;\n",
       "    }\n",
       "\n",
       "    .dataframe tbody tr th {\n",
       "        vertical-align: top;\n",
       "    }\n",
       "\n",
       "    .dataframe thead th {\n",
       "        text-align: right;\n",
       "    }\n",
       "</style>\n",
       "<table border=\"1\" class=\"dataframe\">\n",
       "  <thead>\n",
       "    <tr style=\"text-align: right;\">\n",
       "      <th></th>\n",
       "      <th>order_id</th>\n",
       "      <th>product_id</th>\n",
       "      <th>add_to_cart_order</th>\n",
       "      <th>reordered</th>\n",
       "      <th>user_id</th>\n",
       "      <th>order_number</th>\n",
       "      <th>order_dow</th>\n",
       "      <th>order_hour_of_day</th>\n",
       "      <th>user_days_since_prior_order</th>\n",
       "      <th>user_total_orders</th>\n",
       "      <th>...</th>\n",
       "      <th>user_order_in_preferred_timeslot</th>\n",
       "      <th>user_order_share_in_preferred_timeslot</th>\n",
       "      <th>user_order_dayofweek_mode</th>\n",
       "      <th>user_order_on_preferred_dayofweek</th>\n",
       "      <th>user_order_share_on_preferred_dayofweek</th>\n",
       "      <th>user_product</th>\n",
       "      <th>user_product_total_orders</th>\n",
       "      <th>user_product_reorders</th>\n",
       "      <th>user_product_orders_share</th>\n",
       "      <th>user_product_last_order_number</th>\n",
       "    </tr>\n",
       "  </thead>\n",
       "  <tbody>\n",
       "    <tr>\n",
       "      <th>184455</th>\n",
       "      <td>1988929</td>\n",
       "      <td>40429</td>\n",
       "      <td>10</td>\n",
       "      <td>0</td>\n",
       "      <td>47354</td>\n",
       "      <td>5</td>\n",
       "      <td>0</td>\n",
       "      <td>18</td>\n",
       "      <td>29.0</td>\n",
       "      <td>6.0</td>\n",
       "      <td>...</td>\n",
       "      <td>0</td>\n",
       "      <td>0.000000</td>\n",
       "      <td>0.0</td>\n",
       "      <td>1</td>\n",
       "      <td>0.500000</td>\n",
       "      <td>47354.040429.0</td>\n",
       "      <td>1</td>\n",
       "      <td>0</td>\n",
       "      <td>0.166667</td>\n",
       "      <td>5.0</td>\n",
       "    </tr>\n",
       "    <tr>\n",
       "      <th>378454</th>\n",
       "      <td>1492124</td>\n",
       "      <td>11456</td>\n",
       "      <td>6</td>\n",
       "      <td>0</td>\n",
       "      <td>98852</td>\n",
       "      <td>4</td>\n",
       "      <td>0</td>\n",
       "      <td>13</td>\n",
       "      <td>18.0</td>\n",
       "      <td>11.0</td>\n",
       "      <td>...</td>\n",
       "      <td>1</td>\n",
       "      <td>0.909091</td>\n",
       "      <td>0.0</td>\n",
       "      <td>1</td>\n",
       "      <td>0.272727</td>\n",
       "      <td>98852.011456.0</td>\n",
       "      <td>2</td>\n",
       "      <td>1</td>\n",
       "      <td>0.181818</td>\n",
       "      <td>11.0</td>\n",
       "    </tr>\n",
       "    <tr>\n",
       "      <th>221602</th>\n",
       "      <td>1145308</td>\n",
       "      <td>8277</td>\n",
       "      <td>9</td>\n",
       "      <td>1</td>\n",
       "      <td>56269</td>\n",
       "      <td>39</td>\n",
       "      <td>4</td>\n",
       "      <td>10</td>\n",
       "      <td>25.0</td>\n",
       "      <td>49.0</td>\n",
       "      <td>...</td>\n",
       "      <td>1</td>\n",
       "      <td>0.551020</td>\n",
       "      <td>0.0</td>\n",
       "      <td>0</td>\n",
       "      <td>0.285714</td>\n",
       "      <td>56269.08277.0</td>\n",
       "      <td>4</td>\n",
       "      <td>3</td>\n",
       "      <td>0.081633</td>\n",
       "      <td>43.0</td>\n",
       "    </tr>\n",
       "    <tr>\n",
       "      <th>545932</th>\n",
       "      <td>434398</td>\n",
       "      <td>7806</td>\n",
       "      <td>9</td>\n",
       "      <td>0</td>\n",
       "      <td>138636</td>\n",
       "      <td>13</td>\n",
       "      <td>6</td>\n",
       "      <td>13</td>\n",
       "      <td>4.0</td>\n",
       "      <td>61.0</td>\n",
       "      <td>...</td>\n",
       "      <td>0</td>\n",
       "      <td>0.278689</td>\n",
       "      <td>0.0</td>\n",
       "      <td>0</td>\n",
       "      <td>0.295082</td>\n",
       "      <td>138636.07806.0</td>\n",
       "      <td>2</td>\n",
       "      <td>1</td>\n",
       "      <td>0.032787</td>\n",
       "      <td>25.0</td>\n",
       "    </tr>\n",
       "    <tr>\n",
       "      <th>356728</th>\n",
       "      <td>342600</td>\n",
       "      <td>27966</td>\n",
       "      <td>15</td>\n",
       "      <td>1</td>\n",
       "      <td>92799</td>\n",
       "      <td>7</td>\n",
       "      <td>6</td>\n",
       "      <td>8</td>\n",
       "      <td>7.0</td>\n",
       "      <td>46.0</td>\n",
       "      <td>...</td>\n",
       "      <td>0</td>\n",
       "      <td>0.413043</td>\n",
       "      <td>0.0</td>\n",
       "      <td>0</td>\n",
       "      <td>0.500000</td>\n",
       "      <td>92799.027966.0</td>\n",
       "      <td>6</td>\n",
       "      <td>5</td>\n",
       "      <td>0.130435</td>\n",
       "      <td>17.0</td>\n",
       "    </tr>\n",
       "    <tr>\n",
       "      <th>353351</th>\n",
       "      <td>971129</td>\n",
       "      <td>4920</td>\n",
       "      <td>9</td>\n",
       "      <td>1</td>\n",
       "      <td>91452</td>\n",
       "      <td>19</td>\n",
       "      <td>6</td>\n",
       "      <td>14</td>\n",
       "      <td>19.0</td>\n",
       "      <td>20.0</td>\n",
       "      <td>...</td>\n",
       "      <td>1</td>\n",
       "      <td>0.450000</td>\n",
       "      <td>1.0</td>\n",
       "      <td>0</td>\n",
       "      <td>0.300000</td>\n",
       "      <td>91452.04920.0</td>\n",
       "      <td>4</td>\n",
       "      <td>3</td>\n",
       "      <td>0.200000</td>\n",
       "      <td>20.0</td>\n",
       "    </tr>\n",
       "    <tr>\n",
       "      <th>367851</th>\n",
       "      <td>486043</td>\n",
       "      <td>4297</td>\n",
       "      <td>3</td>\n",
       "      <td>1</td>\n",
       "      <td>95945</td>\n",
       "      <td>41</td>\n",
       "      <td>1</td>\n",
       "      <td>10</td>\n",
       "      <td>7.0</td>\n",
       "      <td>47.0</td>\n",
       "      <td>...</td>\n",
       "      <td>1</td>\n",
       "      <td>0.531915</td>\n",
       "      <td>1.0</td>\n",
       "      <td>1</td>\n",
       "      <td>0.468085</td>\n",
       "      <td>95945.04297.0</td>\n",
       "      <td>4</td>\n",
       "      <td>3</td>\n",
       "      <td>0.085106</td>\n",
       "      <td>42.0</td>\n",
       "    </tr>\n",
       "    <tr>\n",
       "      <th>247992</th>\n",
       "      <td>1886098</td>\n",
       "      <td>4311</td>\n",
       "      <td>3</td>\n",
       "      <td>1</td>\n",
       "      <td>64546</td>\n",
       "      <td>43</td>\n",
       "      <td>3</td>\n",
       "      <td>15</td>\n",
       "      <td>8.0</td>\n",
       "      <td>51.0</td>\n",
       "      <td>...</td>\n",
       "      <td>1</td>\n",
       "      <td>0.764706</td>\n",
       "      <td>2.0</td>\n",
       "      <td>0</td>\n",
       "      <td>0.196078</td>\n",
       "      <td>64546.04311.0</td>\n",
       "      <td>29</td>\n",
       "      <td>28</td>\n",
       "      <td>0.568627</td>\n",
       "      <td>51.0</td>\n",
       "    </tr>\n",
       "    <tr>\n",
       "      <th>257966</th>\n",
       "      <td>3343936</td>\n",
       "      <td>47744</td>\n",
       "      <td>6</td>\n",
       "      <td>0</td>\n",
       "      <td>66798</td>\n",
       "      <td>4</td>\n",
       "      <td>5</td>\n",
       "      <td>15</td>\n",
       "      <td>30.0</td>\n",
       "      <td>5.0</td>\n",
       "      <td>...</td>\n",
       "      <td>0</td>\n",
       "      <td>0.000000</td>\n",
       "      <td>0.0</td>\n",
       "      <td>0</td>\n",
       "      <td>0.400000</td>\n",
       "      <td>66798.047744.0</td>\n",
       "      <td>1</td>\n",
       "      <td>0</td>\n",
       "      <td>0.200000</td>\n",
       "      <td>4.0</td>\n",
       "    </tr>\n",
       "    <tr>\n",
       "      <th>272286</th>\n",
       "      <td>402304</td>\n",
       "      <td>40571</td>\n",
       "      <td>3</td>\n",
       "      <td>0</td>\n",
       "      <td>70444</td>\n",
       "      <td>3</td>\n",
       "      <td>5</td>\n",
       "      <td>13</td>\n",
       "      <td>7.0</td>\n",
       "      <td>7.0</td>\n",
       "      <td>...</td>\n",
       "      <td>0</td>\n",
       "      <td>0.714286</td>\n",
       "      <td>5.0</td>\n",
       "      <td>1</td>\n",
       "      <td>1.000000</td>\n",
       "      <td>70444.040571.0</td>\n",
       "      <td>5</td>\n",
       "      <td>4</td>\n",
       "      <td>0.714286</td>\n",
       "      <td>7.0</td>\n",
       "    </tr>\n",
       "  </tbody>\n",
       "</table>\n",
       "<p>10 rows × 29 columns</p>\n",
       "</div>"
      ],
      "text/plain": [
       "        order_id  product_id  add_to_cart_order  reordered  user_id  \\\n",
       "184455   1988929       40429                 10          0    47354   \n",
       "378454   1492124       11456                  6          0    98852   \n",
       "221602   1145308        8277                  9          1    56269   \n",
       "545932    434398        7806                  9          0   138636   \n",
       "356728    342600       27966                 15          1    92799   \n",
       "353351    971129        4920                  9          1    91452   \n",
       "367851    486043        4297                  3          1    95945   \n",
       "247992   1886098        4311                  3          1    64546   \n",
       "257966   3343936       47744                  6          0    66798   \n",
       "272286    402304       40571                  3          0    70444   \n",
       "\n",
       "        order_number  order_dow  order_hour_of_day  \\\n",
       "184455             5          0                 18   \n",
       "378454             4          0                 13   \n",
       "221602            39          4                 10   \n",
       "545932            13          6                 13   \n",
       "356728             7          6                  8   \n",
       "353351            19          6                 14   \n",
       "367851            41          1                 10   \n",
       "247992            43          3                 15   \n",
       "257966             4          5                 15   \n",
       "272286             3          5                 13   \n",
       "\n",
       "        user_days_since_prior_order  user_total_orders  \\\n",
       "184455                         29.0                6.0   \n",
       "378454                         18.0               11.0   \n",
       "221602                         25.0               49.0   \n",
       "545932                          4.0               61.0   \n",
       "356728                          7.0               46.0   \n",
       "353351                         19.0               20.0   \n",
       "367851                          7.0               47.0   \n",
       "247992                          8.0               51.0   \n",
       "257966                         30.0                5.0   \n",
       "272286                          7.0                7.0   \n",
       "\n",
       "                     ...                user_order_in_preferred_timeslot  \\\n",
       "184455               ...                                               0   \n",
       "378454               ...                                               1   \n",
       "221602               ...                                               1   \n",
       "545932               ...                                               0   \n",
       "356728               ...                                               0   \n",
       "353351               ...                                               1   \n",
       "367851               ...                                               1   \n",
       "247992               ...                                               1   \n",
       "257966               ...                                               0   \n",
       "272286               ...                                               0   \n",
       "\n",
       "        user_order_share_in_preferred_timeslot  user_order_dayofweek_mode  \\\n",
       "184455                                0.000000                        0.0   \n",
       "378454                                0.909091                        0.0   \n",
       "221602                                0.551020                        0.0   \n",
       "545932                                0.278689                        0.0   \n",
       "356728                                0.413043                        0.0   \n",
       "353351                                0.450000                        1.0   \n",
       "367851                                0.531915                        1.0   \n",
       "247992                                0.764706                        2.0   \n",
       "257966                                0.000000                        0.0   \n",
       "272286                                0.714286                        5.0   \n",
       "\n",
       "        user_order_on_preferred_dayofweek  \\\n",
       "184455                                  1   \n",
       "378454                                  1   \n",
       "221602                                  0   \n",
       "545932                                  0   \n",
       "356728                                  0   \n",
       "353351                                  0   \n",
       "367851                                  1   \n",
       "247992                                  0   \n",
       "257966                                  0   \n",
       "272286                                  1   \n",
       "\n",
       "        user_order_share_on_preferred_dayofweek    user_product  \\\n",
       "184455                                 0.500000  47354.040429.0   \n",
       "378454                                 0.272727  98852.011456.0   \n",
       "221602                                 0.285714   56269.08277.0   \n",
       "545932                                 0.295082  138636.07806.0   \n",
       "356728                                 0.500000  92799.027966.0   \n",
       "353351                                 0.300000   91452.04920.0   \n",
       "367851                                 0.468085   95945.04297.0   \n",
       "247992                                 0.196078   64546.04311.0   \n",
       "257966                                 0.400000  66798.047744.0   \n",
       "272286                                 1.000000  70444.040571.0   \n",
       "\n",
       "        user_product_total_orders  user_product_reorders  \\\n",
       "184455                          1                      0   \n",
       "378454                          2                      1   \n",
       "221602                          4                      3   \n",
       "545932                          2                      1   \n",
       "356728                          6                      5   \n",
       "353351                          4                      3   \n",
       "367851                          4                      3   \n",
       "247992                         29                     28   \n",
       "257966                          1                      0   \n",
       "272286                          5                      4   \n",
       "\n",
       "        user_product_orders_share  user_product_last_order_number  \n",
       "184455                   0.166667                             5.0  \n",
       "378454                   0.181818                            11.0  \n",
       "221602                   0.081633                            43.0  \n",
       "545932                   0.032787                            25.0  \n",
       "356728                   0.130435                            17.0  \n",
       "353351                   0.200000                            20.0  \n",
       "367851                   0.085106                            42.0  \n",
       "247992                   0.568627                            51.0  \n",
       "257966                   0.200000                             4.0  \n",
       "272286                   0.714286                             7.0  \n",
       "\n",
       "[10 rows x 29 columns]"
      ]
     },
     "execution_count": 102,
     "metadata": {},
     "output_type": "execute_result"
    }
   ],
   "source": [
    "order_products_prior.sample(10)"
   ]
  },
  {
   "cell_type": "raw",
   "metadata": {},
   "source": [
    "cart_contents = (order_products_prior\n",
    "                 .groupby(['user_id','order_id'], as_index=False)\n",
    "                 .agg({'product_id':(lambda x: tuple(x))})\n",
    "                 .rename(columns={'product_id':'user_cart_contents'}))"
   ]
  },
  {
   "cell_type": "code",
   "execution_count": null,
   "metadata": {},
   "outputs": [],
   "source": [
    "cart_contents = (order_products_prior.groupby(['user_id','order_id'],as_index=False)\n",
    "                   .agg({'product_id':(lambda x:tuple(x))})\n",
    "                   .rename(columns={'product_id':'user_cart_contents'}))"
   ]
  },
  {
   "cell_type": "code",
   "execution_count": 104,
   "metadata": {},
   "outputs": [
    {
     "data": {
      "text/html": [
       "<div>\n",
       "<style scoped>\n",
       "    .dataframe tbody tr th:only-of-type {\n",
       "        vertical-align: middle;\n",
       "    }\n",
       "\n",
       "    .dataframe tbody tr th {\n",
       "        vertical-align: top;\n",
       "    }\n",
       "\n",
       "    .dataframe thead th {\n",
       "        text-align: right;\n",
       "    }\n",
       "</style>\n",
       "<table border=\"1\" class=\"dataframe\">\n",
       "  <thead>\n",
       "    <tr style=\"text-align: right;\">\n",
       "      <th></th>\n",
       "      <th>user_id</th>\n",
       "      <th>order_id</th>\n",
       "      <th>user_cart_contents</th>\n",
       "    </tr>\n",
       "  </thead>\n",
       "  <tbody>\n",
       "    <tr>\n",
       "      <th>0</th>\n",
       "      <td>50</td>\n",
       "      <td>103726</td>\n",
       "      <td>(6182, 13176, 21903, 22825, 28476, 31720, 3440...</td>\n",
       "    </tr>\n",
       "    <tr>\n",
       "      <th>1</th>\n",
       "      <td>50</td>\n",
       "      <td>131991</td>\n",
       "      <td>(6182, 7014, 19678, 47018, 47209)</td>\n",
       "    </tr>\n",
       "    <tr>\n",
       "      <th>2</th>\n",
       "      <td>50</td>\n",
       "      <td>182020</td>\n",
       "      <td>(5612, 6182, 7014, 10831, 13176, 22825, 23165,...</td>\n",
       "    </tr>\n",
       "    <tr>\n",
       "      <th>3</th>\n",
       "      <td>50</td>\n",
       "      <td>218647</td>\n",
       "      <td>(5612, 6341, 41950, 46069, 47018)</td>\n",
       "    </tr>\n",
       "    <tr>\n",
       "      <th>4</th>\n",
       "      <td>50</td>\n",
       "      <td>309687</td>\n",
       "      <td>(6341, 7014, 10831, 16249, 19678, 21137, 23165...</td>\n",
       "    </tr>\n",
       "  </tbody>\n",
       "</table>\n",
       "</div>"
      ],
      "text/plain": [
       "   user_id  order_id                                 user_cart_contents\n",
       "0       50    103726  (6182, 13176, 21903, 22825, 28476, 31720, 3440...\n",
       "1       50    131991                  (6182, 7014, 19678, 47018, 47209)\n",
       "2       50    182020  (5612, 6182, 7014, 10831, 13176, 22825, 23165,...\n",
       "3       50    218647                  (5612, 6341, 41950, 46069, 47018)\n",
       "4       50    309687  (6341, 7014, 10831, 16249, 19678, 21137, 23165..."
      ]
     },
     "execution_count": 104,
     "metadata": {},
     "output_type": "execute_result"
    }
   ],
   "source": [
    "cart_contents.head()"
   ]
  },
  {
   "cell_type": "markdown",
   "metadata": {},
   "source": [
    "### user_cart_size"
   ]
  },
  {
   "cell_type": "code",
   "execution_count": 105,
   "metadata": {},
   "outputs": [],
   "source": [
    "# Create list of cart sizes for each productid*userid\n",
    "cart_contents['user_cart_size'] = [len(x) for x in cart_contents['user_cart_contents']]"
   ]
  },
  {
   "cell_type": "code",
   "execution_count": 106,
   "metadata": {
    "scrolled": true
   },
   "outputs": [
    {
     "data": {
      "text/html": [
       "<div>\n",
       "<style scoped>\n",
       "    .dataframe tbody tr th:only-of-type {\n",
       "        vertical-align: middle;\n",
       "    }\n",
       "\n",
       "    .dataframe tbody tr th {\n",
       "        vertical-align: top;\n",
       "    }\n",
       "\n",
       "    .dataframe thead th {\n",
       "        text-align: right;\n",
       "    }\n",
       "</style>\n",
       "<table border=\"1\" class=\"dataframe\">\n",
       "  <thead>\n",
       "    <tr style=\"text-align: right;\">\n",
       "      <th></th>\n",
       "      <th>user_id</th>\n",
       "      <th>order_id</th>\n",
       "      <th>user_cart_contents</th>\n",
       "      <th>user_cart_size</th>\n",
       "    </tr>\n",
       "  </thead>\n",
       "  <tbody>\n",
       "    <tr>\n",
       "      <th>0</th>\n",
       "      <td>50</td>\n",
       "      <td>103726</td>\n",
       "      <td>(6182, 13176, 21903, 22825, 28476, 31720, 3440...</td>\n",
       "      <td>9</td>\n",
       "    </tr>\n",
       "    <tr>\n",
       "      <th>1</th>\n",
       "      <td>50</td>\n",
       "      <td>131991</td>\n",
       "      <td>(6182, 7014, 19678, 47018, 47209)</td>\n",
       "      <td>5</td>\n",
       "    </tr>\n",
       "    <tr>\n",
       "      <th>2</th>\n",
       "      <td>50</td>\n",
       "      <td>182020</td>\n",
       "      <td>(5612, 6182, 7014, 10831, 13176, 22825, 23165,...</td>\n",
       "      <td>11</td>\n",
       "    </tr>\n",
       "    <tr>\n",
       "      <th>3</th>\n",
       "      <td>50</td>\n",
       "      <td>218647</td>\n",
       "      <td>(5612, 6341, 41950, 46069, 47018)</td>\n",
       "      <td>5</td>\n",
       "    </tr>\n",
       "    <tr>\n",
       "      <th>4</th>\n",
       "      <td>50</td>\n",
       "      <td>309687</td>\n",
       "      <td>(6341, 7014, 10831, 16249, 19678, 21137, 23165...</td>\n",
       "      <td>11</td>\n",
       "    </tr>\n",
       "  </tbody>\n",
       "</table>\n",
       "</div>"
      ],
      "text/plain": [
       "   user_id  order_id                                 user_cart_contents  \\\n",
       "0       50    103726  (6182, 13176, 21903, 22825, 28476, 31720, 3440...   \n",
       "1       50    131991                  (6182, 7014, 19678, 47018, 47209)   \n",
       "2       50    182020  (5612, 6182, 7014, 10831, 13176, 22825, 23165,...   \n",
       "3       50    218647                  (5612, 6341, 41950, 46069, 47018)   \n",
       "4       50    309687  (6341, 7014, 10831, 16249, 19678, 21137, 23165...   \n",
       "\n",
       "   user_cart_size  \n",
       "0               9  \n",
       "1               5  \n",
       "2              11  \n",
       "3               5  \n",
       "4              11  "
      ]
     },
     "execution_count": 106,
     "metadata": {},
     "output_type": "execute_result"
    }
   ],
   "source": [
    "cart_contents.head()"
   ]
  },
  {
   "cell_type": "markdown",
   "metadata": {},
   "source": [
    "### user_cart_size_mode"
   ]
  },
  {
   "cell_type": "code",
   "execution_count": null,
   "metadata": {},
   "outputs": [],
   "source": [
    "# mode\n",
    "# independent of product, just take mean while grouping by user\n",
    "cart_contents['user_cart_size_mode'] = (\n",
    "    cart_contents\n",
    "    .groupby('user_id')['user_cart_size']\n",
    "    .transform(lambda x: np.bincount(x).argmax()\n",
    "              if np.bincount(x).max()>1\n",
    "              else np.nan)\n",
    "#     .transform(lambda x: mode(x)[0][0] if mode(x)[1][0]>1 else np.nan)\n",
    ")"
   ]
  },
  {
   "cell_type": "code",
   "execution_count": 111,
   "metadata": {
    "scrolled": true
   },
   "outputs": [
    {
     "data": {
      "text/html": [
       "<div>\n",
       "<style scoped>\n",
       "    .dataframe tbody tr th:only-of-type {\n",
       "        vertical-align: middle;\n",
       "    }\n",
       "\n",
       "    .dataframe tbody tr th {\n",
       "        vertical-align: top;\n",
       "    }\n",
       "\n",
       "    .dataframe thead th {\n",
       "        text-align: right;\n",
       "    }\n",
       "</style>\n",
       "<table border=\"1\" class=\"dataframe\">\n",
       "  <thead>\n",
       "    <tr style=\"text-align: right;\">\n",
       "      <th></th>\n",
       "      <th>user_id</th>\n",
       "      <th>order_id</th>\n",
       "      <th>user_cart_contents</th>\n",
       "      <th>user_cart_size</th>\n",
       "      <th>user_cart_size_mean</th>\n",
       "      <th>user_cart_size_mode</th>\n",
       "    </tr>\n",
       "  </thead>\n",
       "  <tbody>\n",
       "    <tr>\n",
       "      <th>0</th>\n",
       "      <td>50</td>\n",
       "      <td>103726</td>\n",
       "      <td>(6182, 13176, 21903, 22825, 28476, 31720, 3440...</td>\n",
       "      <td>9</td>\n",
       "      <td>6.761194</td>\n",
       "      <td>6.0</td>\n",
       "    </tr>\n",
       "    <tr>\n",
       "      <th>1</th>\n",
       "      <td>50</td>\n",
       "      <td>131991</td>\n",
       "      <td>(6182, 7014, 19678, 47018, 47209)</td>\n",
       "      <td>5</td>\n",
       "      <td>6.761194</td>\n",
       "      <td>6.0</td>\n",
       "    </tr>\n",
       "    <tr>\n",
       "      <th>2</th>\n",
       "      <td>50</td>\n",
       "      <td>182020</td>\n",
       "      <td>(5612, 6182, 7014, 10831, 13176, 22825, 23165,...</td>\n",
       "      <td>11</td>\n",
       "      <td>6.761194</td>\n",
       "      <td>6.0</td>\n",
       "    </tr>\n",
       "    <tr>\n",
       "      <th>3</th>\n",
       "      <td>50</td>\n",
       "      <td>218647</td>\n",
       "      <td>(5612, 6341, 41950, 46069, 47018)</td>\n",
       "      <td>5</td>\n",
       "      <td>6.761194</td>\n",
       "      <td>6.0</td>\n",
       "    </tr>\n",
       "    <tr>\n",
       "      <th>4</th>\n",
       "      <td>50</td>\n",
       "      <td>309687</td>\n",
       "      <td>(6341, 7014, 10831, 16249, 19678, 21137, 23165...</td>\n",
       "      <td>11</td>\n",
       "      <td>6.761194</td>\n",
       "      <td>6.0</td>\n",
       "    </tr>\n",
       "  </tbody>\n",
       "</table>\n",
       "</div>"
      ],
      "text/plain": [
       "   user_id  order_id                                 user_cart_contents  \\\n",
       "0       50    103726  (6182, 13176, 21903, 22825, 28476, 31720, 3440...   \n",
       "1       50    131991                  (6182, 7014, 19678, 47018, 47209)   \n",
       "2       50    182020  (5612, 6182, 7014, 10831, 13176, 22825, 23165,...   \n",
       "3       50    218647                  (5612, 6341, 41950, 46069, 47018)   \n",
       "4       50    309687  (6341, 7014, 10831, 16249, 19678, 21137, 23165...   \n",
       "\n",
       "   user_cart_size  user_cart_size_mean  user_cart_size_mode  \n",
       "0               9             6.761194                  6.0  \n",
       "1               5             6.761194                  6.0  \n",
       "2              11             6.761194                  6.0  \n",
       "3               5             6.761194                  6.0  \n",
       "4              11             6.761194                  6.0  "
      ]
     },
     "execution_count": 111,
     "metadata": {},
     "output_type": "execute_result"
    }
   ],
   "source": [
    "cart_contents.head()"
   ]
  },
  {
   "cell_type": "markdown",
   "metadata": {},
   "source": [
    "### user_cart_size_mean"
   ]
  },
  {
   "cell_type": "code",
   "execution_count": null,
   "metadata": {},
   "outputs": [],
   "source": [
    "# calculate mean separately mean\n",
    "from collections import OrderedDict\n",
    "cart_size_mean = (order_products_prior.groupby(['user_id'], as_index=False)\n",
    "              .agg(OrderedDict(\n",
    "              [('order_id',(lambda x: x.shape[0]/x.nunique()))]\n",
    "               )\n",
    "             )).rename(columns={'order_id':'user_cart_size_mean'})"
   ]
  },
  {
   "cell_type": "code",
   "execution_count": 108,
   "metadata": {},
   "outputs": [
    {
     "data": {
      "text/html": [
       "<div>\n",
       "<style scoped>\n",
       "    .dataframe tbody tr th:only-of-type {\n",
       "        vertical-align: middle;\n",
       "    }\n",
       "\n",
       "    .dataframe tbody tr th {\n",
       "        vertical-align: top;\n",
       "    }\n",
       "\n",
       "    .dataframe thead th {\n",
       "        text-align: right;\n",
       "    }\n",
       "</style>\n",
       "<table border=\"1\" class=\"dataframe\">\n",
       "  <thead>\n",
       "    <tr style=\"text-align: right;\">\n",
       "      <th></th>\n",
       "      <th>user_id</th>\n",
       "      <th>order_id</th>\n",
       "      <th>user_cart_contents</th>\n",
       "      <th>user_cart_size</th>\n",
       "      <th>user_cart_size_mean</th>\n",
       "    </tr>\n",
       "  </thead>\n",
       "  <tbody>\n",
       "    <tr>\n",
       "      <th>0</th>\n",
       "      <td>50</td>\n",
       "      <td>103726</td>\n",
       "      <td>(6182, 13176, 21903, 22825, 28476, 31720, 3440...</td>\n",
       "      <td>9</td>\n",
       "      <td>6.761194</td>\n",
       "    </tr>\n",
       "    <tr>\n",
       "      <th>1</th>\n",
       "      <td>50</td>\n",
       "      <td>131991</td>\n",
       "      <td>(6182, 7014, 19678, 47018, 47209)</td>\n",
       "      <td>5</td>\n",
       "      <td>6.761194</td>\n",
       "    </tr>\n",
       "    <tr>\n",
       "      <th>2</th>\n",
       "      <td>50</td>\n",
       "      <td>182020</td>\n",
       "      <td>(5612, 6182, 7014, 10831, 13176, 22825, 23165,...</td>\n",
       "      <td>11</td>\n",
       "      <td>6.761194</td>\n",
       "    </tr>\n",
       "    <tr>\n",
       "      <th>3</th>\n",
       "      <td>50</td>\n",
       "      <td>218647</td>\n",
       "      <td>(5612, 6341, 41950, 46069, 47018)</td>\n",
       "      <td>5</td>\n",
       "      <td>6.761194</td>\n",
       "    </tr>\n",
       "    <tr>\n",
       "      <th>4</th>\n",
       "      <td>50</td>\n",
       "      <td>309687</td>\n",
       "      <td>(6341, 7014, 10831, 16249, 19678, 21137, 23165...</td>\n",
       "      <td>11</td>\n",
       "      <td>6.761194</td>\n",
       "    </tr>\n",
       "  </tbody>\n",
       "</table>\n",
       "</div>"
      ],
      "text/plain": [
       "   user_id  order_id                                 user_cart_contents  \\\n",
       "0       50    103726  (6182, 13176, 21903, 22825, 28476, 31720, 3440...   \n",
       "1       50    131991                  (6182, 7014, 19678, 47018, 47209)   \n",
       "2       50    182020  (5612, 6182, 7014, 10831, 13176, 22825, 23165,...   \n",
       "3       50    218647                  (5612, 6341, 41950, 46069, 47018)   \n",
       "4       50    309687  (6341, 7014, 10831, 16249, 19678, 21137, 23165...   \n",
       "\n",
       "   user_cart_size  user_cart_size_mean  \n",
       "0               9             6.761194  \n",
       "1               5             6.761194  \n",
       "2              11             6.761194  \n",
       "3               5             6.761194  \n",
       "4              11             6.761194  "
      ]
     },
     "execution_count": 108,
     "metadata": {},
     "output_type": "execute_result"
    }
   ],
   "source": [
    "cart_contents.head()"
   ]
  },
  {
   "cell_type": "code",
   "execution_count": null,
   "metadata": {},
   "outputs": [],
   "source": [
    "cart_contents = cart_contents.merge(cart_size_mean,on=['user_id'])"
   ]
  },
  {
   "cell_type": "code",
   "execution_count": 112,
   "metadata": {},
   "outputs": [],
   "source": [
    "# merge back into order_products_prior\n",
    "order_products_prior = order_products_prior.merge(cart_contents,on=['user_id','order_id'])"
   ]
  },
  {
   "cell_type": "code",
   "execution_count": 113,
   "metadata": {},
   "outputs": [
    {
     "data": {
      "text/html": [
       "<div>\n",
       "<style scoped>\n",
       "    .dataframe tbody tr th:only-of-type {\n",
       "        vertical-align: middle;\n",
       "    }\n",
       "\n",
       "    .dataframe tbody tr th {\n",
       "        vertical-align: top;\n",
       "    }\n",
       "\n",
       "    .dataframe thead th {\n",
       "        text-align: right;\n",
       "    }\n",
       "</style>\n",
       "<table border=\"1\" class=\"dataframe\">\n",
       "  <thead>\n",
       "    <tr style=\"text-align: right;\">\n",
       "      <th></th>\n",
       "      <th>order_id</th>\n",
       "      <th>product_id</th>\n",
       "      <th>add_to_cart_order</th>\n",
       "      <th>reordered</th>\n",
       "      <th>user_id</th>\n",
       "      <th>order_number</th>\n",
       "      <th>order_dow</th>\n",
       "      <th>order_hour_of_day</th>\n",
       "      <th>user_days_since_prior_order</th>\n",
       "      <th>user_total_orders</th>\n",
       "      <th>...</th>\n",
       "      <th>user_order_share_on_preferred_dayofweek</th>\n",
       "      <th>user_product</th>\n",
       "      <th>user_product_total_orders</th>\n",
       "      <th>user_product_reorders</th>\n",
       "      <th>user_product_orders_share</th>\n",
       "      <th>user_product_last_order_number</th>\n",
       "      <th>user_cart_contents</th>\n",
       "      <th>user_cart_size</th>\n",
       "      <th>user_cart_size_mean</th>\n",
       "      <th>user_cart_size_mode</th>\n",
       "    </tr>\n",
       "  </thead>\n",
       "  <tbody>\n",
       "    <tr>\n",
       "      <th>0</th>\n",
       "      <td>642111</td>\n",
       "      <td>1202</td>\n",
       "      <td>11</td>\n",
       "      <td>0</td>\n",
       "      <td>50</td>\n",
       "      <td>54</td>\n",
       "      <td>6</td>\n",
       "      <td>10</td>\n",
       "      <td>3.0</td>\n",
       "      <td>67.0</td>\n",
       "      <td>...</td>\n",
       "      <td>0.223881</td>\n",
       "      <td>50.01202.0</td>\n",
       "      <td>1</td>\n",
       "      <td>0</td>\n",
       "      <td>0.014925</td>\n",
       "      <td>54.0</td>\n",
       "      <td>(1202, 5612, 6182, 13176, 19678, 22935, 23165,...</td>\n",
       "      <td>11</td>\n",
       "      <td>6.761194</td>\n",
       "      <td>6.0</td>\n",
       "    </tr>\n",
       "    <tr>\n",
       "      <th>1</th>\n",
       "      <td>642111</td>\n",
       "      <td>5612</td>\n",
       "      <td>2</td>\n",
       "      <td>1</td>\n",
       "      <td>50</td>\n",
       "      <td>54</td>\n",
       "      <td>6</td>\n",
       "      <td>10</td>\n",
       "      <td>3.0</td>\n",
       "      <td>67.0</td>\n",
       "      <td>...</td>\n",
       "      <td>0.223881</td>\n",
       "      <td>50.05612.0</td>\n",
       "      <td>34</td>\n",
       "      <td>33</td>\n",
       "      <td>0.507463</td>\n",
       "      <td>56.0</td>\n",
       "      <td>(1202, 5612, 6182, 13176, 19678, 22935, 23165,...</td>\n",
       "      <td>11</td>\n",
       "      <td>6.761194</td>\n",
       "      <td>6.0</td>\n",
       "    </tr>\n",
       "    <tr>\n",
       "      <th>2</th>\n",
       "      <td>642111</td>\n",
       "      <td>6182</td>\n",
       "      <td>1</td>\n",
       "      <td>1</td>\n",
       "      <td>50</td>\n",
       "      <td>54</td>\n",
       "      <td>6</td>\n",
       "      <td>10</td>\n",
       "      <td>3.0</td>\n",
       "      <td>67.0</td>\n",
       "      <td>...</td>\n",
       "      <td>0.223881</td>\n",
       "      <td>50.06182.0</td>\n",
       "      <td>53</td>\n",
       "      <td>52</td>\n",
       "      <td>0.791045</td>\n",
       "      <td>67.0</td>\n",
       "      <td>(1202, 5612, 6182, 13176, 19678, 22935, 23165,...</td>\n",
       "      <td>11</td>\n",
       "      <td>6.761194</td>\n",
       "      <td>6.0</td>\n",
       "    </tr>\n",
       "    <tr>\n",
       "      <th>3</th>\n",
       "      <td>642111</td>\n",
       "      <td>13176</td>\n",
       "      <td>3</td>\n",
       "      <td>1</td>\n",
       "      <td>50</td>\n",
       "      <td>54</td>\n",
       "      <td>6</td>\n",
       "      <td>10</td>\n",
       "      <td>3.0</td>\n",
       "      <td>67.0</td>\n",
       "      <td>...</td>\n",
       "      <td>0.223881</td>\n",
       "      <td>50.013176.0</td>\n",
       "      <td>17</td>\n",
       "      <td>16</td>\n",
       "      <td>0.253731</td>\n",
       "      <td>67.0</td>\n",
       "      <td>(1202, 5612, 6182, 13176, 19678, 22935, 23165,...</td>\n",
       "      <td>11</td>\n",
       "      <td>6.761194</td>\n",
       "      <td>6.0</td>\n",
       "    </tr>\n",
       "    <tr>\n",
       "      <th>4</th>\n",
       "      <td>642111</td>\n",
       "      <td>19678</td>\n",
       "      <td>7</td>\n",
       "      <td>1</td>\n",
       "      <td>50</td>\n",
       "      <td>54</td>\n",
       "      <td>6</td>\n",
       "      <td>10</td>\n",
       "      <td>3.0</td>\n",
       "      <td>67.0</td>\n",
       "      <td>...</td>\n",
       "      <td>0.223881</td>\n",
       "      <td>50.019678.0</td>\n",
       "      <td>18</td>\n",
       "      <td>17</td>\n",
       "      <td>0.268657</td>\n",
       "      <td>66.0</td>\n",
       "      <td>(1202, 5612, 6182, 13176, 19678, 22935, 23165,...</td>\n",
       "      <td>11</td>\n",
       "      <td>6.761194</td>\n",
       "      <td>6.0</td>\n",
       "    </tr>\n",
       "  </tbody>\n",
       "</table>\n",
       "<p>5 rows × 33 columns</p>\n",
       "</div>"
      ],
      "text/plain": [
       "   order_id  product_id  add_to_cart_order  reordered  user_id  order_number  \\\n",
       "0    642111        1202                 11          0       50            54   \n",
       "1    642111        5612                  2          1       50            54   \n",
       "2    642111        6182                  1          1       50            54   \n",
       "3    642111       13176                  3          1       50            54   \n",
       "4    642111       19678                  7          1       50            54   \n",
       "\n",
       "   order_dow  order_hour_of_day  user_days_since_prior_order  \\\n",
       "0          6                 10                          3.0   \n",
       "1          6                 10                          3.0   \n",
       "2          6                 10                          3.0   \n",
       "3          6                 10                          3.0   \n",
       "4          6                 10                          3.0   \n",
       "\n",
       "   user_total_orders         ...           \\\n",
       "0               67.0         ...            \n",
       "1               67.0         ...            \n",
       "2               67.0         ...            \n",
       "3               67.0         ...            \n",
       "4               67.0         ...            \n",
       "\n",
       "   user_order_share_on_preferred_dayofweek  user_product  \\\n",
       "0                                 0.223881    50.01202.0   \n",
       "1                                 0.223881    50.05612.0   \n",
       "2                                 0.223881    50.06182.0   \n",
       "3                                 0.223881   50.013176.0   \n",
       "4                                 0.223881   50.019678.0   \n",
       "\n",
       "   user_product_total_orders  user_product_reorders  \\\n",
       "0                          1                      0   \n",
       "1                         34                     33   \n",
       "2                         53                     52   \n",
       "3                         17                     16   \n",
       "4                         18                     17   \n",
       "\n",
       "   user_product_orders_share  user_product_last_order_number  \\\n",
       "0                   0.014925                            54.0   \n",
       "1                   0.507463                            56.0   \n",
       "2                   0.791045                            67.0   \n",
       "3                   0.253731                            67.0   \n",
       "4                   0.268657                            66.0   \n",
       "\n",
       "                                  user_cart_contents  user_cart_size  \\\n",
       "0  (1202, 5612, 6182, 13176, 19678, 22935, 23165,...              11   \n",
       "1  (1202, 5612, 6182, 13176, 19678, 22935, 23165,...              11   \n",
       "2  (1202, 5612, 6182, 13176, 19678, 22935, 23165,...              11   \n",
       "3  (1202, 5612, 6182, 13176, 19678, 22935, 23165,...              11   \n",
       "4  (1202, 5612, 6182, 13176, 19678, 22935, 23165,...              11   \n",
       "\n",
       "   user_cart_size_mean  user_cart_size_mode  \n",
       "0             6.761194                  6.0  \n",
       "1             6.761194                  6.0  \n",
       "2             6.761194                  6.0  \n",
       "3             6.761194                  6.0  \n",
       "4             6.761194                  6.0  \n",
       "\n",
       "[5 rows x 33 columns]"
      ]
     },
     "execution_count": 113,
     "metadata": {},
     "output_type": "execute_result"
    }
   ],
   "source": [
    "order_products_prior.head()"
   ]
  },
  {
   "cell_type": "markdown",
   "metadata": {},
   "source": [
    "### user_product_cart_size_mean"
   ]
  },
  {
   "cell_type": "code",
   "execution_count": null,
   "metadata": {},
   "outputs": [],
   "source": [
    "user_product_cart_size_mean = (order_products_prior\n",
    "                               .groupby(['user_product'],as_index=False)\n",
    "                              .agg(OrderedDict(\n",
    "                              [('user_cart_size',(lambda x: x.mean()))]\n",
    "                              )\n",
    "                                  )).rename(columns={'user_cart_size':'user_product_cart_size_mean'})"
   ]
  },
  {
   "cell_type": "code",
   "execution_count": null,
   "metadata": {},
   "outputs": [],
   "source": [
    "order_products_prior = order_products_prior.merge(user_product_cart_size_mean,on='user_product')"
   ]
  },
  {
   "cell_type": "markdown",
   "metadata": {},
   "source": [
    "### user_product_cart_size_mode"
   ]
  },
  {
   "cell_type": "code",
   "execution_count": null,
   "metadata": {},
   "outputs": [],
   "source": [
    "# group by user and by product\n",
    "user_product_cart_size_mode = (order_products_prior\n",
    "                               .groupby(['user_product'],as_index=False)\n",
    "                              .agg(OrderedDict(\n",
    "                              [('user_cart_size',(lambda x: np.bincount(x).argmax()\n",
    "                                  if np.bincount(x).max()>1\n",
    "                                  else np.nan))]\n",
    "                              )\n",
    "                                  )).rename(columns={'user_cart_size':'user_product_cart_size_mode'})"
   ]
  },
  {
   "cell_type": "code",
   "execution_count": null,
   "metadata": {},
   "outputs": [],
   "source": [
    "order_products_prior = order_products_prior.merge(user_product_cart_size_mode,on='user_product')"
   ]
  },
  {
   "cell_type": "markdown",
   "metadata": {},
   "source": [
    "### user_product_other_items_mean"
   ]
  },
  {
   "cell_type": "code",
   "execution_count": 117,
   "metadata": {},
   "outputs": [],
   "source": [
    "order_products_prior['user_product_other_items_mean'] = (\n",
    "    order_products_prior['user_product_cart_size_mean']-1)"
   ]
  },
  {
   "cell_type": "markdown",
   "metadata": {},
   "source": [
    "### user_product_other_items_mode"
   ]
  },
  {
   "cell_type": "code",
   "execution_count": 118,
   "metadata": {},
   "outputs": [],
   "source": [
    "order_products_prior['user_product_other_items_mode'] = (\n",
    "    order_products_prior['user_product_cart_size_mode']-1)"
   ]
  },
  {
   "cell_type": "code",
   "execution_count": 119,
   "metadata": {
    "scrolled": true
   },
   "outputs": [
    {
     "data": {
      "text/html": [
       "<div>\n",
       "<style scoped>\n",
       "    .dataframe tbody tr th:only-of-type {\n",
       "        vertical-align: middle;\n",
       "    }\n",
       "\n",
       "    .dataframe tbody tr th {\n",
       "        vertical-align: top;\n",
       "    }\n",
       "\n",
       "    .dataframe thead th {\n",
       "        text-align: right;\n",
       "    }\n",
       "</style>\n",
       "<table border=\"1\" class=\"dataframe\">\n",
       "  <thead>\n",
       "    <tr style=\"text-align: right;\">\n",
       "      <th></th>\n",
       "      <th>order_id</th>\n",
       "      <th>product_id</th>\n",
       "      <th>add_to_cart_order</th>\n",
       "      <th>reordered</th>\n",
       "      <th>user_id</th>\n",
       "      <th>order_number</th>\n",
       "      <th>order_dow</th>\n",
       "      <th>order_hour_of_day</th>\n",
       "      <th>user_days_since_prior_order</th>\n",
       "      <th>user_total_orders</th>\n",
       "      <th>...</th>\n",
       "      <th>user_product_orders_share</th>\n",
       "      <th>user_product_last_order_number</th>\n",
       "      <th>user_cart_contents</th>\n",
       "      <th>user_cart_size</th>\n",
       "      <th>user_cart_size_mean</th>\n",
       "      <th>user_cart_size_mode</th>\n",
       "      <th>user_product_cart_size_mean</th>\n",
       "      <th>user_product_cart_size_mode</th>\n",
       "      <th>user_product_other_items_mean</th>\n",
       "      <th>user_product_other_items_mode</th>\n",
       "    </tr>\n",
       "  </thead>\n",
       "  <tbody>\n",
       "    <tr>\n",
       "      <th>0</th>\n",
       "      <td>642111</td>\n",
       "      <td>1202</td>\n",
       "      <td>11</td>\n",
       "      <td>0</td>\n",
       "      <td>50</td>\n",
       "      <td>54</td>\n",
       "      <td>6</td>\n",
       "      <td>10</td>\n",
       "      <td>3.0</td>\n",
       "      <td>67.0</td>\n",
       "      <td>...</td>\n",
       "      <td>0.014925</td>\n",
       "      <td>54.0</td>\n",
       "      <td>(1202, 5612, 6182, 13176, 19678, 22935, 23165,...</td>\n",
       "      <td>11</td>\n",
       "      <td>6.761194</td>\n",
       "      <td>6.0</td>\n",
       "      <td>11.000000</td>\n",
       "      <td>NaN</td>\n",
       "      <td>10.000000</td>\n",
       "      <td>NaN</td>\n",
       "    </tr>\n",
       "    <tr>\n",
       "      <th>1</th>\n",
       "      <td>642111</td>\n",
       "      <td>5612</td>\n",
       "      <td>2</td>\n",
       "      <td>1</td>\n",
       "      <td>50</td>\n",
       "      <td>54</td>\n",
       "      <td>6</td>\n",
       "      <td>10</td>\n",
       "      <td>3.0</td>\n",
       "      <td>67.0</td>\n",
       "      <td>...</td>\n",
       "      <td>0.507463</td>\n",
       "      <td>56.0</td>\n",
       "      <td>(1202, 5612, 6182, 13176, 19678, 22935, 23165,...</td>\n",
       "      <td>11</td>\n",
       "      <td>6.761194</td>\n",
       "      <td>6.0</td>\n",
       "      <td>7.176471</td>\n",
       "      <td>6.0</td>\n",
       "      <td>6.176471</td>\n",
       "      <td>5.0</td>\n",
       "    </tr>\n",
       "    <tr>\n",
       "      <th>2</th>\n",
       "      <td>642111</td>\n",
       "      <td>6182</td>\n",
       "      <td>1</td>\n",
       "      <td>1</td>\n",
       "      <td>50</td>\n",
       "      <td>54</td>\n",
       "      <td>6</td>\n",
       "      <td>10</td>\n",
       "      <td>3.0</td>\n",
       "      <td>67.0</td>\n",
       "      <td>...</td>\n",
       "      <td>0.791045</td>\n",
       "      <td>67.0</td>\n",
       "      <td>(1202, 5612, 6182, 13176, 19678, 22935, 23165,...</td>\n",
       "      <td>11</td>\n",
       "      <td>6.761194</td>\n",
       "      <td>6.0</td>\n",
       "      <td>6.735849</td>\n",
       "      <td>6.0</td>\n",
       "      <td>5.735849</td>\n",
       "      <td>5.0</td>\n",
       "    </tr>\n",
       "    <tr>\n",
       "      <th>3</th>\n",
       "      <td>642111</td>\n",
       "      <td>13176</td>\n",
       "      <td>3</td>\n",
       "      <td>1</td>\n",
       "      <td>50</td>\n",
       "      <td>54</td>\n",
       "      <td>6</td>\n",
       "      <td>10</td>\n",
       "      <td>3.0</td>\n",
       "      <td>67.0</td>\n",
       "      <td>...</td>\n",
       "      <td>0.253731</td>\n",
       "      <td>67.0</td>\n",
       "      <td>(1202, 5612, 6182, 13176, 19678, 22935, 23165,...</td>\n",
       "      <td>11</td>\n",
       "      <td>6.761194</td>\n",
       "      <td>6.0</td>\n",
       "      <td>8.705882</td>\n",
       "      <td>10.0</td>\n",
       "      <td>7.705882</td>\n",
       "      <td>9.0</td>\n",
       "    </tr>\n",
       "    <tr>\n",
       "      <th>4</th>\n",
       "      <td>642111</td>\n",
       "      <td>19678</td>\n",
       "      <td>7</td>\n",
       "      <td>1</td>\n",
       "      <td>50</td>\n",
       "      <td>54</td>\n",
       "      <td>6</td>\n",
       "      <td>10</td>\n",
       "      <td>3.0</td>\n",
       "      <td>67.0</td>\n",
       "      <td>...</td>\n",
       "      <td>0.268657</td>\n",
       "      <td>66.0</td>\n",
       "      <td>(1202, 5612, 6182, 13176, 19678, 22935, 23165,...</td>\n",
       "      <td>11</td>\n",
       "      <td>6.761194</td>\n",
       "      <td>6.0</td>\n",
       "      <td>8.833333</td>\n",
       "      <td>11.0</td>\n",
       "      <td>7.833333</td>\n",
       "      <td>10.0</td>\n",
       "    </tr>\n",
       "  </tbody>\n",
       "</table>\n",
       "<p>5 rows × 37 columns</p>\n",
       "</div>"
      ],
      "text/plain": [
       "   order_id  product_id  add_to_cart_order  reordered  user_id  order_number  \\\n",
       "0    642111        1202                 11          0       50            54   \n",
       "1    642111        5612                  2          1       50            54   \n",
       "2    642111        6182                  1          1       50            54   \n",
       "3    642111       13176                  3          1       50            54   \n",
       "4    642111       19678                  7          1       50            54   \n",
       "\n",
       "   order_dow  order_hour_of_day  user_days_since_prior_order  \\\n",
       "0          6                 10                          3.0   \n",
       "1          6                 10                          3.0   \n",
       "2          6                 10                          3.0   \n",
       "3          6                 10                          3.0   \n",
       "4          6                 10                          3.0   \n",
       "\n",
       "   user_total_orders              ...                \\\n",
       "0               67.0              ...                 \n",
       "1               67.0              ...                 \n",
       "2               67.0              ...                 \n",
       "3               67.0              ...                 \n",
       "4               67.0              ...                 \n",
       "\n",
       "   user_product_orders_share  user_product_last_order_number  \\\n",
       "0                   0.014925                            54.0   \n",
       "1                   0.507463                            56.0   \n",
       "2                   0.791045                            67.0   \n",
       "3                   0.253731                            67.0   \n",
       "4                   0.268657                            66.0   \n",
       "\n",
       "                                  user_cart_contents  user_cart_size  \\\n",
       "0  (1202, 5612, 6182, 13176, 19678, 22935, 23165,...              11   \n",
       "1  (1202, 5612, 6182, 13176, 19678, 22935, 23165,...              11   \n",
       "2  (1202, 5612, 6182, 13176, 19678, 22935, 23165,...              11   \n",
       "3  (1202, 5612, 6182, 13176, 19678, 22935, 23165,...              11   \n",
       "4  (1202, 5612, 6182, 13176, 19678, 22935, 23165,...              11   \n",
       "\n",
       "   user_cart_size_mean  user_cart_size_mode  user_product_cart_size_mean  \\\n",
       "0             6.761194                  6.0                    11.000000   \n",
       "1             6.761194                  6.0                     7.176471   \n",
       "2             6.761194                  6.0                     6.735849   \n",
       "3             6.761194                  6.0                     8.705882   \n",
       "4             6.761194                  6.0                     8.833333   \n",
       "\n",
       "   user_product_cart_size_mode  user_product_other_items_mean  \\\n",
       "0                          NaN                      10.000000   \n",
       "1                          6.0                       6.176471   \n",
       "2                          6.0                       5.735849   \n",
       "3                         10.0                       7.705882   \n",
       "4                         11.0                       7.833333   \n",
       "\n",
       "   user_product_other_items_mode  \n",
       "0                            NaN  \n",
       "1                            5.0  \n",
       "2                            5.0  \n",
       "3                            9.0  \n",
       "4                           10.0  \n",
       "\n",
       "[5 rows x 37 columns]"
      ]
     },
     "execution_count": 119,
     "metadata": {},
     "output_type": "execute_result"
    }
   ],
   "source": [
    "order_products_prior.head()"
   ]
  },
  {
   "cell_type": "markdown",
   "metadata": {},
   "source": [
    "### user_product_days_between_orders"
   ]
  },
  {
   "cell_type": "raw",
   "metadata": {},
   "source": [
    "for col in sorted(order_products_prior.columns):\n",
    "    print(col)"
   ]
  },
  {
   "cell_type": "code",
   "execution_count": 120,
   "metadata": {},
   "outputs": [],
   "source": [
    "order_products_prior.sort_values(\n",
    "    by=['user_product','user_days_since_order'],\n",
    "    inplace=True\n",
    ")"
   ]
  },
  {
   "cell_type": "code",
   "execution_count": 129,
   "metadata": {},
   "outputs": [
    {
     "data": {
      "text/html": [
       "<div>\n",
       "<style scoped>\n",
       "    .dataframe tbody tr th:only-of-type {\n",
       "        vertical-align: middle;\n",
       "    }\n",
       "\n",
       "    .dataframe tbody tr th {\n",
       "        vertical-align: top;\n",
       "    }\n",
       "\n",
       "    .dataframe thead th {\n",
       "        text-align: right;\n",
       "    }\n",
       "</style>\n",
       "<table border=\"1\" class=\"dataframe\">\n",
       "  <thead>\n",
       "    <tr style=\"text-align: right;\">\n",
       "      <th></th>\n",
       "      <th>user_product</th>\n",
       "      <th>user_id</th>\n",
       "      <th>product_id</th>\n",
       "      <th>user_days_since_order</th>\n",
       "    </tr>\n",
       "  </thead>\n",
       "  <tbody>\n",
       "    <tr>\n",
       "      <th>37176</th>\n",
       "      <td>10105_35921</td>\n",
       "      <td>10105</td>\n",
       "      <td>35921</td>\n",
       "      <td>53.0</td>\n",
       "    </tr>\n",
       "    <tr>\n",
       "      <th>37261</th>\n",
       "      <td>10105_35921</td>\n",
       "      <td>10105</td>\n",
       "      <td>35921</td>\n",
       "      <td>113.0</td>\n",
       "    </tr>\n",
       "    <tr>\n",
       "      <th>37308</th>\n",
       "      <td>10105_35921</td>\n",
       "      <td>10105</td>\n",
       "      <td>35921</td>\n",
       "      <td>143.0</td>\n",
       "    </tr>\n",
       "    <tr>\n",
       "      <th>37108</th>\n",
       "      <td>10105_35921</td>\n",
       "      <td>10105</td>\n",
       "      <td>35921</td>\n",
       "      <td>184.0</td>\n",
       "    </tr>\n",
       "    <tr>\n",
       "      <th>37285</th>\n",
       "      <td>10105_35921</td>\n",
       "      <td>10105</td>\n",
       "      <td>35921</td>\n",
       "      <td>203.0</td>\n",
       "    </tr>\n",
       "    <tr>\n",
       "      <th>37213</th>\n",
       "      <td>10105_35921</td>\n",
       "      <td>10105</td>\n",
       "      <td>35921</td>\n",
       "      <td>NaN</td>\n",
       "    </tr>\n",
       "    <tr>\n",
       "      <th>37177</th>\n",
       "      <td>10105_37004</td>\n",
       "      <td>10105</td>\n",
       "      <td>37004</td>\n",
       "      <td>53.0</td>\n",
       "    </tr>\n",
       "    <tr>\n",
       "      <th>37167</th>\n",
       "      <td>10105_37004</td>\n",
       "      <td>10105</td>\n",
       "      <td>37004</td>\n",
       "      <td>83.0</td>\n",
       "    </tr>\n",
       "    <tr>\n",
       "      <th>37125</th>\n",
       "      <td>10105_37004</td>\n",
       "      <td>10105</td>\n",
       "      <td>37004</td>\n",
       "      <td>169.0</td>\n",
       "    </tr>\n",
       "    <tr>\n",
       "      <th>37109</th>\n",
       "      <td>10105_37004</td>\n",
       "      <td>10105</td>\n",
       "      <td>37004</td>\n",
       "      <td>184.0</td>\n",
       "    </tr>\n",
       "  </tbody>\n",
       "</table>\n",
       "</div>"
      ],
      "text/plain": [
       "      user_product  user_id  product_id  user_days_since_order\n",
       "37176  10105_35921    10105       35921                   53.0\n",
       "37261  10105_35921    10105       35921                  113.0\n",
       "37308  10105_35921    10105       35921                  143.0\n",
       "37108  10105_35921    10105       35921                  184.0\n",
       "37285  10105_35921    10105       35921                  203.0\n",
       "37213  10105_35921    10105       35921                    NaN\n",
       "37177  10105_37004    10105       37004                   53.0\n",
       "37167  10105_37004    10105       37004                   83.0\n",
       "37125  10105_37004    10105       37004                  169.0\n",
       "37109  10105_37004    10105       37004                  184.0"
      ]
     },
     "execution_count": 129,
     "metadata": {},
     "output_type": "execute_result"
    }
   ],
   "source": [
    "order_products_prior[['user_product','user_id','product_id','user_days_since_order']].iloc[5020:5030]"
   ]
  },
  {
   "cell_type": "code",
   "execution_count": 130,
   "metadata": {},
   "outputs": [],
   "source": [
    "# first create column for days between product orders\n",
    "# returns days since prior order of product\n",
    "order_products_prior['user_product_days_between_orders'] = (\n",
    "    order_products_prior\n",
    "    .groupby('user_product')\n",
    "    ['user_days_since_order'].diff().shift(-1)\n",
    ")"
   ]
  },
  {
   "cell_type": "code",
   "execution_count": 131,
   "metadata": {},
   "outputs": [
    {
     "data": {
      "text/html": [
       "<div>\n",
       "<style scoped>\n",
       "    .dataframe tbody tr th:only-of-type {\n",
       "        vertical-align: middle;\n",
       "    }\n",
       "\n",
       "    .dataframe tbody tr th {\n",
       "        vertical-align: top;\n",
       "    }\n",
       "\n",
       "    .dataframe thead th {\n",
       "        text-align: right;\n",
       "    }\n",
       "</style>\n",
       "<table border=\"1\" class=\"dataframe\">\n",
       "  <thead>\n",
       "    <tr style=\"text-align: right;\">\n",
       "      <th></th>\n",
       "      <th>user_product</th>\n",
       "      <th>order_number</th>\n",
       "      <th>user_days_since_prior_order</th>\n",
       "      <th>user_days_since_order</th>\n",
       "      <th>user_days_since_first_order</th>\n",
       "      <th>user_product_days_between_orders</th>\n",
       "    </tr>\n",
       "  </thead>\n",
       "  <tbody>\n",
       "    <tr>\n",
       "      <th>382914</th>\n",
       "      <td>100000_10151</td>\n",
       "      <td>1</td>\n",
       "      <td>NaN</td>\n",
       "      <td>193.0</td>\n",
       "      <td>193.0</td>\n",
       "      <td>NaN</td>\n",
       "    </tr>\n",
       "    <tr>\n",
       "      <th>382852</th>\n",
       "      <td>100000_10151</td>\n",
       "      <td>3</td>\n",
       "      <td>30.0</td>\n",
       "      <td>133.0</td>\n",
       "      <td>193.0</td>\n",
       "      <td>60.0</td>\n",
       "    </tr>\n",
       "    <tr>\n",
       "      <th>382827</th>\n",
       "      <td>100000_10151</td>\n",
       "      <td>4</td>\n",
       "      <td>30.0</td>\n",
       "      <td>103.0</td>\n",
       "      <td>193.0</td>\n",
       "      <td>30.0</td>\n",
       "    </tr>\n",
       "    <tr>\n",
       "      <th>382924</th>\n",
       "      <td>100000_10151</td>\n",
       "      <td>5</td>\n",
       "      <td>25.0</td>\n",
       "      <td>78.0</td>\n",
       "      <td>193.0</td>\n",
       "      <td>25.0</td>\n",
       "    </tr>\n",
       "    <tr>\n",
       "      <th>382882</th>\n",
       "      <td>100000_10151</td>\n",
       "      <td>7</td>\n",
       "      <td>8.0</td>\n",
       "      <td>60.0</td>\n",
       "      <td>193.0</td>\n",
       "      <td>18.0</td>\n",
       "    </tr>\n",
       "    <tr>\n",
       "      <th>382850</th>\n",
       "      <td>100000_1062</td>\n",
       "      <td>3</td>\n",
       "      <td>30.0</td>\n",
       "      <td>133.0</td>\n",
       "      <td>193.0</td>\n",
       "      <td>NaN</td>\n",
       "    </tr>\n",
       "    <tr>\n",
       "      <th>382819</th>\n",
       "      <td>100000_1062</td>\n",
       "      <td>4</td>\n",
       "      <td>30.0</td>\n",
       "      <td>103.0</td>\n",
       "      <td>193.0</td>\n",
       "      <td>30.0</td>\n",
       "    </tr>\n",
       "    <tr>\n",
       "      <th>382858</th>\n",
       "      <td>100000_1062</td>\n",
       "      <td>6</td>\n",
       "      <td>10.0</td>\n",
       "      <td>68.0</td>\n",
       "      <td>193.0</td>\n",
       "      <td>35.0</td>\n",
       "    </tr>\n",
       "    <tr>\n",
       "      <th>382875</th>\n",
       "      <td>100000_1062</td>\n",
       "      <td>8</td>\n",
       "      <td>30.0</td>\n",
       "      <td>30.0</td>\n",
       "      <td>193.0</td>\n",
       "      <td>38.0</td>\n",
       "    </tr>\n",
       "    <tr>\n",
       "      <th>382879</th>\n",
       "      <td>100000_1138</td>\n",
       "      <td>7</td>\n",
       "      <td>8.0</td>\n",
       "      <td>60.0</td>\n",
       "      <td>193.0</td>\n",
       "      <td>NaN</td>\n",
       "    </tr>\n",
       "    <tr>\n",
       "      <th>382853</th>\n",
       "      <td>100000_11662</td>\n",
       "      <td>3</td>\n",
       "      <td>30.0</td>\n",
       "      <td>133.0</td>\n",
       "      <td>193.0</td>\n",
       "      <td>NaN</td>\n",
       "    </tr>\n",
       "    <tr>\n",
       "      <th>382828</th>\n",
       "      <td>100000_11662</td>\n",
       "      <td>4</td>\n",
       "      <td>30.0</td>\n",
       "      <td>103.0</td>\n",
       "      <td>193.0</td>\n",
       "      <td>30.0</td>\n",
       "    </tr>\n",
       "    <tr>\n",
       "      <th>382829</th>\n",
       "      <td>100000_12149</td>\n",
       "      <td>4</td>\n",
       "      <td>30.0</td>\n",
       "      <td>103.0</td>\n",
       "      <td>193.0</td>\n",
       "      <td>NaN</td>\n",
       "    </tr>\n",
       "    <tr>\n",
       "      <th>382863</th>\n",
       "      <td>100000_13385</td>\n",
       "      <td>6</td>\n",
       "      <td>10.0</td>\n",
       "      <td>68.0</td>\n",
       "      <td>193.0</td>\n",
       "      <td>NaN</td>\n",
       "    </tr>\n",
       "    <tr>\n",
       "      <th>382877</th>\n",
       "      <td>100000_13385</td>\n",
       "      <td>8</td>\n",
       "      <td>30.0</td>\n",
       "      <td>30.0</td>\n",
       "      <td>193.0</td>\n",
       "      <td>38.0</td>\n",
       "    </tr>\n",
       "    <tr>\n",
       "      <th>382830</th>\n",
       "      <td>100000_13768</td>\n",
       "      <td>4</td>\n",
       "      <td>30.0</td>\n",
       "      <td>103.0</td>\n",
       "      <td>193.0</td>\n",
       "      <td>NaN</td>\n",
       "    </tr>\n",
       "    <tr>\n",
       "      <th>382864</th>\n",
       "      <td>100000_13768</td>\n",
       "      <td>6</td>\n",
       "      <td>10.0</td>\n",
       "      <td>68.0</td>\n",
       "      <td>193.0</td>\n",
       "      <td>35.0</td>\n",
       "    </tr>\n",
       "    <tr>\n",
       "      <th>382831</th>\n",
       "      <td>100000_14901</td>\n",
       "      <td>4</td>\n",
       "      <td>30.0</td>\n",
       "      <td>103.0</td>\n",
       "      <td>193.0</td>\n",
       "      <td>NaN</td>\n",
       "    </tr>\n",
       "    <tr>\n",
       "      <th>382925</th>\n",
       "      <td>100000_14901</td>\n",
       "      <td>5</td>\n",
       "      <td>25.0</td>\n",
       "      <td>78.0</td>\n",
       "      <td>193.0</td>\n",
       "      <td>25.0</td>\n",
       "    </tr>\n",
       "    <tr>\n",
       "      <th>382915</th>\n",
       "      <td>100000_15526</td>\n",
       "      <td>1</td>\n",
       "      <td>NaN</td>\n",
       "      <td>193.0</td>\n",
       "      <td>193.0</td>\n",
       "      <td>NaN</td>\n",
       "    </tr>\n",
       "  </tbody>\n",
       "</table>\n",
       "</div>"
      ],
      "text/plain": [
       "        user_product  order_number  user_days_since_prior_order  \\\n",
       "382914  100000_10151             1                          NaN   \n",
       "382852  100000_10151             3                         30.0   \n",
       "382827  100000_10151             4                         30.0   \n",
       "382924  100000_10151             5                         25.0   \n",
       "382882  100000_10151             7                          8.0   \n",
       "382850   100000_1062             3                         30.0   \n",
       "382819   100000_1062             4                         30.0   \n",
       "382858   100000_1062             6                         10.0   \n",
       "382875   100000_1062             8                         30.0   \n",
       "382879   100000_1138             7                          8.0   \n",
       "382853  100000_11662             3                         30.0   \n",
       "382828  100000_11662             4                         30.0   \n",
       "382829  100000_12149             4                         30.0   \n",
       "382863  100000_13385             6                         10.0   \n",
       "382877  100000_13385             8                         30.0   \n",
       "382830  100000_13768             4                         30.0   \n",
       "382864  100000_13768             6                         10.0   \n",
       "382831  100000_14901             4                         30.0   \n",
       "382925  100000_14901             5                         25.0   \n",
       "382915  100000_15526             1                          NaN   \n",
       "\n",
       "        user_days_since_order  user_days_since_first_order  \\\n",
       "382914                  193.0                        193.0   \n",
       "382852                  133.0                        193.0   \n",
       "382827                  103.0                        193.0   \n",
       "382924                   78.0                        193.0   \n",
       "382882                   60.0                        193.0   \n",
       "382850                  133.0                        193.0   \n",
       "382819                  103.0                        193.0   \n",
       "382858                   68.0                        193.0   \n",
       "382875                   30.0                        193.0   \n",
       "382879                   60.0                        193.0   \n",
       "382853                  133.0                        193.0   \n",
       "382828                  103.0                        193.0   \n",
       "382829                  103.0                        193.0   \n",
       "382863                   68.0                        193.0   \n",
       "382877                   30.0                        193.0   \n",
       "382830                  103.0                        193.0   \n",
       "382864                   68.0                        193.0   \n",
       "382831                  103.0                        193.0   \n",
       "382925                   78.0                        193.0   \n",
       "382915                  193.0                        193.0   \n",
       "\n",
       "        user_product_days_between_orders  \n",
       "382914                               NaN  \n",
       "382852                              60.0  \n",
       "382827                              30.0  \n",
       "382924                              25.0  \n",
       "382882                              18.0  \n",
       "382850                               NaN  \n",
       "382819                              30.0  \n",
       "382858                              35.0  \n",
       "382875                              38.0  \n",
       "382879                               NaN  \n",
       "382853                               NaN  \n",
       "382828                              30.0  \n",
       "382829                               NaN  \n",
       "382863                               NaN  \n",
       "382877                              38.0  \n",
       "382830                               NaN  \n",
       "382864                              35.0  \n",
       "382831                               NaN  \n",
       "382925                              25.0  \n",
       "382915                               NaN  "
      ]
     },
     "execution_count": 131,
     "metadata": {},
     "output_type": "execute_result"
    }
   ],
   "source": [
    "# check\n",
    "order_products_prior.sort_values(\n",
    "    by=['user_product','order_number'])[['user_product',\n",
    "        'order_number','user_days_since_prior_order','user_days_since_order',\n",
    "        'user_days_since_first_order','user_product_days_between_orders']].head(20)"
   ]
  },
  {
   "cell_type": "markdown",
   "metadata": {},
   "source": [
    "### user_product_days_between_orders_mean"
   ]
  },
  {
   "cell_type": "code",
   "execution_count": null,
   "metadata": {},
   "outputs": [],
   "source": [
    "user_product_days_between_orders_mean = (\n",
    "    order_products_prior.groupby('user_product',as_index=False)\n",
    "            .agg(OrderedDict(\n",
    "            [('user_product_days_between_orders',(lambda x: x.mean()))]\n",
    "            )\n",
    "            )).rename(columns={'user_product_days_between_orders'\n",
    "                        :'user_product_days_between_orders_mean'})"
   ]
  },
  {
   "cell_type": "code",
   "execution_count": null,
   "metadata": {},
   "outputs": [],
   "source": [
    "order_product_prior = (order_products_prior.merge(\n",
    "    user_product_days_between_orders_mean, on='user_product')\n",
    "                      )"
   ]
  },
  {
   "cell_type": "markdown",
   "metadata": {},
   "source": [
    "### user_product_days_between_orders_mode"
   ]
  },
  {
   "cell_type": "code",
   "execution_count": 133,
   "metadata": {},
   "outputs": [],
   "source": [
    "order_products_prior['user_product_days_between_orders_mode'] = (\n",
    "    order_products_prior\n",
    "    .groupby('user_product')['user_product_days_between_orders']\n",
    "    .transform(lambda x: np.bincount(x.fillna(66666).astype(int)).argmax() \n",
    "              if np.bincount(x.fillna(66666).astype(int)).max()>1\n",
    "              else 66666)\n",
    ")\n",
    "order_products_prior['user_product_days_between_orders_mode'].replace({66666.0:np.nan},inplace=True)"
   ]
  },
  {
   "cell_type": "code",
   "execution_count": 134,
   "metadata": {},
   "outputs": [
    {
     "data": {
      "text/html": [
       "<div>\n",
       "<style scoped>\n",
       "    .dataframe tbody tr th:only-of-type {\n",
       "        vertical-align: middle;\n",
       "    }\n",
       "\n",
       "    .dataframe tbody tr th {\n",
       "        vertical-align: top;\n",
       "    }\n",
       "\n",
       "    .dataframe thead th {\n",
       "        text-align: right;\n",
       "    }\n",
       "</style>\n",
       "<table border=\"1\" class=\"dataframe\">\n",
       "  <thead>\n",
       "    <tr style=\"text-align: right;\">\n",
       "      <th></th>\n",
       "      <th>user_product</th>\n",
       "      <th>order_number</th>\n",
       "      <th>user_days_since_prior_order</th>\n",
       "      <th>user_days_since_order</th>\n",
       "      <th>user_days_since_first_order</th>\n",
       "      <th>user_product_days_between_orders</th>\n",
       "      <th>user_product_days_between_orders_mode</th>\n",
       "      <th>user_product_days_between_orders_mean</th>\n",
       "    </tr>\n",
       "  </thead>\n",
       "  <tbody>\n",
       "    <tr>\n",
       "      <th>382914</th>\n",
       "      <td>100000_10151</td>\n",
       "      <td>1</td>\n",
       "      <td>NaN</td>\n",
       "      <td>193.0</td>\n",
       "      <td>193.0</td>\n",
       "      <td>NaN</td>\n",
       "      <td>NaN</td>\n",
       "      <td>33.250000</td>\n",
       "    </tr>\n",
       "    <tr>\n",
       "      <th>382852</th>\n",
       "      <td>100000_10151</td>\n",
       "      <td>3</td>\n",
       "      <td>30.0</td>\n",
       "      <td>133.0</td>\n",
       "      <td>193.0</td>\n",
       "      <td>60.0</td>\n",
       "      <td>NaN</td>\n",
       "      <td>33.250000</td>\n",
       "    </tr>\n",
       "    <tr>\n",
       "      <th>382827</th>\n",
       "      <td>100000_10151</td>\n",
       "      <td>4</td>\n",
       "      <td>30.0</td>\n",
       "      <td>103.0</td>\n",
       "      <td>193.0</td>\n",
       "      <td>30.0</td>\n",
       "      <td>NaN</td>\n",
       "      <td>33.250000</td>\n",
       "    </tr>\n",
       "    <tr>\n",
       "      <th>382882</th>\n",
       "      <td>100000_10151</td>\n",
       "      <td>7</td>\n",
       "      <td>8.0</td>\n",
       "      <td>60.0</td>\n",
       "      <td>193.0</td>\n",
       "      <td>18.0</td>\n",
       "      <td>NaN</td>\n",
       "      <td>33.250000</td>\n",
       "    </tr>\n",
       "    <tr>\n",
       "      <th>382924</th>\n",
       "      <td>100000_10151</td>\n",
       "      <td>5</td>\n",
       "      <td>25.0</td>\n",
       "      <td>78.0</td>\n",
       "      <td>193.0</td>\n",
       "      <td>25.0</td>\n",
       "      <td>NaN</td>\n",
       "      <td>33.250000</td>\n",
       "    </tr>\n",
       "    <tr>\n",
       "      <th>382850</th>\n",
       "      <td>100000_1062</td>\n",
       "      <td>3</td>\n",
       "      <td>30.0</td>\n",
       "      <td>133.0</td>\n",
       "      <td>193.0</td>\n",
       "      <td>NaN</td>\n",
       "      <td>NaN</td>\n",
       "      <td>34.333333</td>\n",
       "    </tr>\n",
       "    <tr>\n",
       "      <th>382819</th>\n",
       "      <td>100000_1062</td>\n",
       "      <td>4</td>\n",
       "      <td>30.0</td>\n",
       "      <td>103.0</td>\n",
       "      <td>193.0</td>\n",
       "      <td>30.0</td>\n",
       "      <td>NaN</td>\n",
       "      <td>34.333333</td>\n",
       "    </tr>\n",
       "    <tr>\n",
       "      <th>382858</th>\n",
       "      <td>100000_1062</td>\n",
       "      <td>6</td>\n",
       "      <td>10.0</td>\n",
       "      <td>68.0</td>\n",
       "      <td>193.0</td>\n",
       "      <td>35.0</td>\n",
       "      <td>NaN</td>\n",
       "      <td>34.333333</td>\n",
       "    </tr>\n",
       "    <tr>\n",
       "      <th>382875</th>\n",
       "      <td>100000_1062</td>\n",
       "      <td>8</td>\n",
       "      <td>30.0</td>\n",
       "      <td>30.0</td>\n",
       "      <td>193.0</td>\n",
       "      <td>38.0</td>\n",
       "      <td>NaN</td>\n",
       "      <td>34.333333</td>\n",
       "    </tr>\n",
       "    <tr>\n",
       "      <th>382879</th>\n",
       "      <td>100000_1138</td>\n",
       "      <td>7</td>\n",
       "      <td>8.0</td>\n",
       "      <td>60.0</td>\n",
       "      <td>193.0</td>\n",
       "      <td>NaN</td>\n",
       "      <td>NaN</td>\n",
       "      <td>NaN</td>\n",
       "    </tr>\n",
       "    <tr>\n",
       "      <th>382853</th>\n",
       "      <td>100000_11662</td>\n",
       "      <td>3</td>\n",
       "      <td>30.0</td>\n",
       "      <td>133.0</td>\n",
       "      <td>193.0</td>\n",
       "      <td>NaN</td>\n",
       "      <td>NaN</td>\n",
       "      <td>30.000000</td>\n",
       "    </tr>\n",
       "    <tr>\n",
       "      <th>382828</th>\n",
       "      <td>100000_11662</td>\n",
       "      <td>4</td>\n",
       "      <td>30.0</td>\n",
       "      <td>103.0</td>\n",
       "      <td>193.0</td>\n",
       "      <td>30.0</td>\n",
       "      <td>NaN</td>\n",
       "      <td>30.000000</td>\n",
       "    </tr>\n",
       "    <tr>\n",
       "      <th>382829</th>\n",
       "      <td>100000_12149</td>\n",
       "      <td>4</td>\n",
       "      <td>30.0</td>\n",
       "      <td>103.0</td>\n",
       "      <td>193.0</td>\n",
       "      <td>NaN</td>\n",
       "      <td>NaN</td>\n",
       "      <td>NaN</td>\n",
       "    </tr>\n",
       "    <tr>\n",
       "      <th>382863</th>\n",
       "      <td>100000_13385</td>\n",
       "      <td>6</td>\n",
       "      <td>10.0</td>\n",
       "      <td>68.0</td>\n",
       "      <td>193.0</td>\n",
       "      <td>NaN</td>\n",
       "      <td>NaN</td>\n",
       "      <td>38.000000</td>\n",
       "    </tr>\n",
       "    <tr>\n",
       "      <th>382877</th>\n",
       "      <td>100000_13385</td>\n",
       "      <td>8</td>\n",
       "      <td>30.0</td>\n",
       "      <td>30.0</td>\n",
       "      <td>193.0</td>\n",
       "      <td>38.0</td>\n",
       "      <td>NaN</td>\n",
       "      <td>38.000000</td>\n",
       "    </tr>\n",
       "    <tr>\n",
       "      <th>382830</th>\n",
       "      <td>100000_13768</td>\n",
       "      <td>4</td>\n",
       "      <td>30.0</td>\n",
       "      <td>103.0</td>\n",
       "      <td>193.0</td>\n",
       "      <td>NaN</td>\n",
       "      <td>NaN</td>\n",
       "      <td>35.000000</td>\n",
       "    </tr>\n",
       "    <tr>\n",
       "      <th>382864</th>\n",
       "      <td>100000_13768</td>\n",
       "      <td>6</td>\n",
       "      <td>10.0</td>\n",
       "      <td>68.0</td>\n",
       "      <td>193.0</td>\n",
       "      <td>35.0</td>\n",
       "      <td>NaN</td>\n",
       "      <td>35.000000</td>\n",
       "    </tr>\n",
       "    <tr>\n",
       "      <th>382831</th>\n",
       "      <td>100000_14901</td>\n",
       "      <td>4</td>\n",
       "      <td>30.0</td>\n",
       "      <td>103.0</td>\n",
       "      <td>193.0</td>\n",
       "      <td>NaN</td>\n",
       "      <td>NaN</td>\n",
       "      <td>25.000000</td>\n",
       "    </tr>\n",
       "    <tr>\n",
       "      <th>382925</th>\n",
       "      <td>100000_14901</td>\n",
       "      <td>5</td>\n",
       "      <td>25.0</td>\n",
       "      <td>78.0</td>\n",
       "      <td>193.0</td>\n",
       "      <td>25.0</td>\n",
       "      <td>NaN</td>\n",
       "      <td>25.000000</td>\n",
       "    </tr>\n",
       "    <tr>\n",
       "      <th>382915</th>\n",
       "      <td>100000_15526</td>\n",
       "      <td>1</td>\n",
       "      <td>NaN</td>\n",
       "      <td>193.0</td>\n",
       "      <td>193.0</td>\n",
       "      <td>NaN</td>\n",
       "      <td>NaN</td>\n",
       "      <td>NaN</td>\n",
       "    </tr>\n",
       "  </tbody>\n",
       "</table>\n",
       "</div>"
      ],
      "text/plain": [
       "        user_product  order_number  user_days_since_prior_order  \\\n",
       "382914  100000_10151             1                          NaN   \n",
       "382852  100000_10151             3                         30.0   \n",
       "382827  100000_10151             4                         30.0   \n",
       "382882  100000_10151             7                          8.0   \n",
       "382924  100000_10151             5                         25.0   \n",
       "382850   100000_1062             3                         30.0   \n",
       "382819   100000_1062             4                         30.0   \n",
       "382858   100000_1062             6                         10.0   \n",
       "382875   100000_1062             8                         30.0   \n",
       "382879   100000_1138             7                          8.0   \n",
       "382853  100000_11662             3                         30.0   \n",
       "382828  100000_11662             4                         30.0   \n",
       "382829  100000_12149             4                         30.0   \n",
       "382863  100000_13385             6                         10.0   \n",
       "382877  100000_13385             8                         30.0   \n",
       "382830  100000_13768             4                         30.0   \n",
       "382864  100000_13768             6                         10.0   \n",
       "382831  100000_14901             4                         30.0   \n",
       "382925  100000_14901             5                         25.0   \n",
       "382915  100000_15526             1                          NaN   \n",
       "\n",
       "        user_days_since_order  user_days_since_first_order  \\\n",
       "382914                  193.0                        193.0   \n",
       "382852                  133.0                        193.0   \n",
       "382827                  103.0                        193.0   \n",
       "382882                   60.0                        193.0   \n",
       "382924                   78.0                        193.0   \n",
       "382850                  133.0                        193.0   \n",
       "382819                  103.0                        193.0   \n",
       "382858                   68.0                        193.0   \n",
       "382875                   30.0                        193.0   \n",
       "382879                   60.0                        193.0   \n",
       "382853                  133.0                        193.0   \n",
       "382828                  103.0                        193.0   \n",
       "382829                  103.0                        193.0   \n",
       "382863                   68.0                        193.0   \n",
       "382877                   30.0                        193.0   \n",
       "382830                  103.0                        193.0   \n",
       "382864                   68.0                        193.0   \n",
       "382831                  103.0                        193.0   \n",
       "382925                   78.0                        193.0   \n",
       "382915                  193.0                        193.0   \n",
       "\n",
       "        user_product_days_between_orders  \\\n",
       "382914                               NaN   \n",
       "382852                              60.0   \n",
       "382827                              30.0   \n",
       "382882                              18.0   \n",
       "382924                              25.0   \n",
       "382850                               NaN   \n",
       "382819                              30.0   \n",
       "382858                              35.0   \n",
       "382875                              38.0   \n",
       "382879                               NaN   \n",
       "382853                               NaN   \n",
       "382828                              30.0   \n",
       "382829                               NaN   \n",
       "382863                               NaN   \n",
       "382877                              38.0   \n",
       "382830                               NaN   \n",
       "382864                              35.0   \n",
       "382831                               NaN   \n",
       "382925                              25.0   \n",
       "382915                               NaN   \n",
       "\n",
       "        user_product_days_between_orders_mode  \\\n",
       "382914                                    NaN   \n",
       "382852                                    NaN   \n",
       "382827                                    NaN   \n",
       "382882                                    NaN   \n",
       "382924                                    NaN   \n",
       "382850                                    NaN   \n",
       "382819                                    NaN   \n",
       "382858                                    NaN   \n",
       "382875                                    NaN   \n",
       "382879                                    NaN   \n",
       "382853                                    NaN   \n",
       "382828                                    NaN   \n",
       "382829                                    NaN   \n",
       "382863                                    NaN   \n",
       "382877                                    NaN   \n",
       "382830                                    NaN   \n",
       "382864                                    NaN   \n",
       "382831                                    NaN   \n",
       "382925                                    NaN   \n",
       "382915                                    NaN   \n",
       "\n",
       "        user_product_days_between_orders_mean  \n",
       "382914                              33.250000  \n",
       "382852                              33.250000  \n",
       "382827                              33.250000  \n",
       "382882                              33.250000  \n",
       "382924                              33.250000  \n",
       "382850                              34.333333  \n",
       "382819                              34.333333  \n",
       "382858                              34.333333  \n",
       "382875                              34.333333  \n",
       "382879                                    NaN  \n",
       "382853                              30.000000  \n",
       "382828                              30.000000  \n",
       "382829                                    NaN  \n",
       "382863                              38.000000  \n",
       "382877                              38.000000  \n",
       "382830                              35.000000  \n",
       "382864                              35.000000  \n",
       "382831                              25.000000  \n",
       "382925                              25.000000  \n",
       "382915                                    NaN  "
      ]
     },
     "execution_count": 134,
     "metadata": {},
     "output_type": "execute_result"
    }
   ],
   "source": [
    "# check\n",
    "order_products_prior.sort_values(\n",
    "    by=['user_product','order_id'])[['user_product',\n",
    "                'order_number','user_days_since_prior_order',                        \n",
    "                'user_days_since_order','user_days_since_first_order',\n",
    "                'user_product_days_between_orders','user_product_days_between_orders_mode',\n",
    "                'user_product_days_between_orders_mean']].head(20)"
   ]
  },
  {
   "cell_type": "markdown",
   "metadata": {},
   "source": [
    "### user_product_days_between_orders_max"
   ]
  },
  {
   "cell_type": "code",
   "execution_count": 135,
   "metadata": {},
   "outputs": [],
   "source": [
    "order_products_prior['user_product_days_between_orders_max'] = (\n",
    "    order_products_prior.\n",
    "    sort_values(by=['user_product','user_product_days_between_orders'],ascending=False)\n",
    "    .groupby('user_product',as_index=False)\n",
    "    ['user_product_days_between_orders'].nth(0)\n",
    ")"
   ]
  },
  {
   "cell_type": "code",
   "execution_count": 136,
   "metadata": {},
   "outputs": [],
   "source": [
    "# fill all rows per user*product with the max\n",
    "(order_products_prior['user_product_days_between_orders_max']\n",
    "     .fillna(order_products_prior.groupby('user_product')\n",
    "     ['user_product_days_between_orders_max'].transform('median'), inplace=True))"
   ]
  },
  {
   "cell_type": "raw",
   "metadata": {},
   "source": [
    "order_products_prior[['user_product','user_product_days_between_orders_max',\n",
    "                     ]].iloc[300:310]"
   ]
  },
  {
   "cell_type": "markdown",
   "metadata": {},
   "source": [
    "### user_product_days_between_orders_min"
   ]
  },
  {
   "cell_type": "code",
   "execution_count": 137,
   "metadata": {},
   "outputs": [],
   "source": [
    "order_products_prior['user_product_days_between_orders_min'] = (\n",
    "    order_products_prior\n",
    "    .sort_values(by=['user_product','user_product_days_between_orders'])\n",
    "    .groupby('user_product',as_index=False)\n",
    "    ['user_product_days_between_orders'].nth(0)\n",
    ")"
   ]
  },
  {
   "cell_type": "code",
   "execution_count": 138,
   "metadata": {},
   "outputs": [],
   "source": [
    "# fill all rows per user*product with the max\n",
    "\n",
    "# start= clock()\n",
    "(order_products_prior['user_product_days_between_orders_min']\n",
    "     .fillna(order_products_prior.groupby('user_product')\n",
    "     ['user_product_days_between_orders_min'].transform('median'), inplace=True))"
   ]
  },
  {
   "cell_type": "raw",
   "metadata": {},
   "source": [
    "order_products_prior.sample(60)"
   ]
  },
  {
   "cell_type": "markdown",
   "metadata": {},
   "source": [
    "### user_product_days_between_first_2_orders"
   ]
  },
  {
   "cell_type": "code",
   "execution_count": 140,
   "metadata": {},
   "outputs": [],
   "source": [
    "# start = clock()\n",
    "order_products_prior['user_product_days_between_first_2_orders'] = (\n",
    "    order_products_prior\n",
    "    .sort_values(by=['user_id','product_id','order_number'])\n",
    "    .groupby(['user_id','product_id'],as_index=False)\n",
    "    ['user_product_days_between_orders'].nth(1)\n",
    "#     .transform(lambda x: x.iloc[1] if len(x)>1 else np.nan)\n",
    ")\n",
    "\n",
    "# print(round(clock()-start,3),'secs')"
   ]
  },
  {
   "cell_type": "code",
   "execution_count": 141,
   "metadata": {},
   "outputs": [],
   "source": [
    "# start= clock()\n",
    "(order_products_prior['user_product_days_between_first_2_orders']\n",
    "     .fillna(order_products_prior.groupby(['user_id','product_id'])\n",
    "     ['user_product_days_between_first_2_orders'].transform('median'), inplace=True))\n",
    "# print(round(clock()-start,3),'secs')"
   ]
  },
  {
   "cell_type": "raw",
   "metadata": {},
   "source": [
    "order_products_prior[['user_product_days_between_first_2_orders','user_product_days_between_first_2_orders2']].iloc[50:100]"
   ]
  },
  {
   "cell_type": "code",
   "execution_count": 142,
   "metadata": {},
   "outputs": [
    {
     "data": {
      "text/html": [
       "<div>\n",
       "<style scoped>\n",
       "    .dataframe tbody tr th:only-of-type {\n",
       "        vertical-align: middle;\n",
       "    }\n",
       "\n",
       "    .dataframe tbody tr th {\n",
       "        vertical-align: top;\n",
       "    }\n",
       "\n",
       "    .dataframe thead th {\n",
       "        text-align: right;\n",
       "    }\n",
       "</style>\n",
       "<table border=\"1\" class=\"dataframe\">\n",
       "  <thead>\n",
       "    <tr style=\"text-align: right;\">\n",
       "      <th></th>\n",
       "      <th>order_id</th>\n",
       "      <th>product_id</th>\n",
       "      <th>add_to_cart_order</th>\n",
       "      <th>reordered</th>\n",
       "      <th>user_id</th>\n",
       "      <th>order_number</th>\n",
       "      <th>order_dow</th>\n",
       "      <th>order_hour_of_day</th>\n",
       "      <th>user_days_since_prior_order</th>\n",
       "      <th>user_total_orders</th>\n",
       "      <th>...</th>\n",
       "      <th>user_product_cart_size_mean</th>\n",
       "      <th>user_product_cart_size_mode</th>\n",
       "      <th>user_product_other_items_mean</th>\n",
       "      <th>user_product_other_items_mode</th>\n",
       "      <th>user_product_days_between_orders</th>\n",
       "      <th>user_product_days_between_orders_mean</th>\n",
       "      <th>user_product_days_between_orders_mode</th>\n",
       "      <th>user_product_days_between_orders_max</th>\n",
       "      <th>user_product_days_between_orders_min</th>\n",
       "      <th>user_product_days_between_first_2_orders</th>\n",
       "    </tr>\n",
       "  </thead>\n",
       "  <tbody>\n",
       "    <tr>\n",
       "      <th>389179</th>\n",
       "      <td>448939</td>\n",
       "      <td>16125</td>\n",
       "      <td>11</td>\n",
       "      <td>1</td>\n",
       "      <td>101317</td>\n",
       "      <td>8</td>\n",
       "      <td>1</td>\n",
       "      <td>15</td>\n",
       "      <td>29.0</td>\n",
       "      <td>14.0</td>\n",
       "      <td>...</td>\n",
       "      <td>17.428571</td>\n",
       "      <td>13.0</td>\n",
       "      <td>16.428571</td>\n",
       "      <td>12.0</td>\n",
       "      <td>69.0</td>\n",
       "      <td>49.4</td>\n",
       "      <td>NaN</td>\n",
       "      <td>70.0</td>\n",
       "      <td>18.0</td>\n",
       "      <td>30.0</td>\n",
       "    </tr>\n",
       "    <tr>\n",
       "      <th>389296</th>\n",
       "      <td>2305722</td>\n",
       "      <td>16125</td>\n",
       "      <td>12</td>\n",
       "      <td>1</td>\n",
       "      <td>101317</td>\n",
       "      <td>4</td>\n",
       "      <td>2</td>\n",
       "      <td>16</td>\n",
       "      <td>30.0</td>\n",
       "      <td>14.0</td>\n",
       "      <td>...</td>\n",
       "      <td>17.428571</td>\n",
       "      <td>13.0</td>\n",
       "      <td>16.428571</td>\n",
       "      <td>12.0</td>\n",
       "      <td>60.0</td>\n",
       "      <td>49.4</td>\n",
       "      <td>NaN</td>\n",
       "      <td>70.0</td>\n",
       "      <td>18.0</td>\n",
       "      <td>30.0</td>\n",
       "    </tr>\n",
       "    <tr>\n",
       "      <th>389198</th>\n",
       "      <td>1627488</td>\n",
       "      <td>16125</td>\n",
       "      <td>3</td>\n",
       "      <td>1</td>\n",
       "      <td>101317</td>\n",
       "      <td>2</td>\n",
       "      <td>0</td>\n",
       "      <td>19</td>\n",
       "      <td>30.0</td>\n",
       "      <td>14.0</td>\n",
       "      <td>...</td>\n",
       "      <td>17.428571</td>\n",
       "      <td>13.0</td>\n",
       "      <td>16.428571</td>\n",
       "      <td>12.0</td>\n",
       "      <td>30.0</td>\n",
       "      <td>49.4</td>\n",
       "      <td>NaN</td>\n",
       "      <td>70.0</td>\n",
       "      <td>18.0</td>\n",
       "      <td>30.0</td>\n",
       "    </tr>\n",
       "    <tr>\n",
       "      <th>389138</th>\n",
       "      <td>2864610</td>\n",
       "      <td>16125</td>\n",
       "      <td>3</td>\n",
       "      <td>0</td>\n",
       "      <td>101317</td>\n",
       "      <td>1</td>\n",
       "      <td>1</td>\n",
       "      <td>19</td>\n",
       "      <td>NaN</td>\n",
       "      <td>14.0</td>\n",
       "      <td>...</td>\n",
       "      <td>17.428571</td>\n",
       "      <td>13.0</td>\n",
       "      <td>16.428571</td>\n",
       "      <td>12.0</td>\n",
       "      <td>NaN</td>\n",
       "      <td>49.4</td>\n",
       "      <td>NaN</td>\n",
       "      <td>70.0</td>\n",
       "      <td>18.0</td>\n",
       "      <td>30.0</td>\n",
       "    </tr>\n",
       "    <tr>\n",
       "      <th>389281</th>\n",
       "      <td>1100004</td>\n",
       "      <td>16125</td>\n",
       "      <td>9</td>\n",
       "      <td>1</td>\n",
       "      <td>101317</td>\n",
       "      <td>14</td>\n",
       "      <td>5</td>\n",
       "      <td>17</td>\n",
       "      <td>18.0</td>\n",
       "      <td>14.0</td>\n",
       "      <td>...</td>\n",
       "      <td>17.428571</td>\n",
       "      <td>13.0</td>\n",
       "      <td>16.428571</td>\n",
       "      <td>12.0</td>\n",
       "      <td>NaN</td>\n",
       "      <td>49.4</td>\n",
       "      <td>NaN</td>\n",
       "      <td>70.0</td>\n",
       "      <td>18.0</td>\n",
       "      <td>30.0</td>\n",
       "    </tr>\n",
       "    <tr>\n",
       "      <th>389248</th>\n",
       "      <td>1934171</td>\n",
       "      <td>16953</td>\n",
       "      <td>17</td>\n",
       "      <td>0</td>\n",
       "      <td>101317</td>\n",
       "      <td>3</td>\n",
       "      <td>1</td>\n",
       "      <td>14</td>\n",
       "      <td>30.0</td>\n",
       "      <td>14.0</td>\n",
       "      <td>...</td>\n",
       "      <td>23.000000</td>\n",
       "      <td>NaN</td>\n",
       "      <td>22.000000</td>\n",
       "      <td>NaN</td>\n",
       "      <td>NaN</td>\n",
       "      <td>NaN</td>\n",
       "      <td>NaN</td>\n",
       "      <td>NaN</td>\n",
       "      <td>NaN</td>\n",
       "      <td>NaN</td>\n",
       "    </tr>\n",
       "    <tr>\n",
       "      <th>389180</th>\n",
       "      <td>448939</td>\n",
       "      <td>16965</td>\n",
       "      <td>14</td>\n",
       "      <td>0</td>\n",
       "      <td>101317</td>\n",
       "      <td>8</td>\n",
       "      <td>1</td>\n",
       "      <td>15</td>\n",
       "      <td>29.0</td>\n",
       "      <td>14.0</td>\n",
       "      <td>...</td>\n",
       "      <td>17.000000</td>\n",
       "      <td>NaN</td>\n",
       "      <td>16.000000</td>\n",
       "      <td>NaN</td>\n",
       "      <td>NaN</td>\n",
       "      <td>NaN</td>\n",
       "      <td>NaN</td>\n",
       "      <td>NaN</td>\n",
       "      <td>NaN</td>\n",
       "      <td>NaN</td>\n",
       "    </tr>\n",
       "    <tr>\n",
       "      <th>389282</th>\n",
       "      <td>1100004</td>\n",
       "      <td>16965</td>\n",
       "      <td>10</td>\n",
       "      <td>1</td>\n",
       "      <td>101317</td>\n",
       "      <td>14</td>\n",
       "      <td>5</td>\n",
       "      <td>17</td>\n",
       "      <td>18.0</td>\n",
       "      <td>14.0</td>\n",
       "      <td>...</td>\n",
       "      <td>17.000000</td>\n",
       "      <td>NaN</td>\n",
       "      <td>16.000000</td>\n",
       "      <td>NaN</td>\n",
       "      <td>NaN</td>\n",
       "      <td>NaN</td>\n",
       "      <td>NaN</td>\n",
       "      <td>NaN</td>\n",
       "      <td>NaN</td>\n",
       "      <td>NaN</td>\n",
       "    </tr>\n",
       "    <tr>\n",
       "      <th>389229</th>\n",
       "      <td>177678</td>\n",
       "      <td>17029</td>\n",
       "      <td>5</td>\n",
       "      <td>1</td>\n",
       "      <td>101317</td>\n",
       "      <td>11</td>\n",
       "      <td>6</td>\n",
       "      <td>17</td>\n",
       "      <td>3.0</td>\n",
       "      <td>14.0</td>\n",
       "      <td>...</td>\n",
       "      <td>15.500000</td>\n",
       "      <td>NaN</td>\n",
       "      <td>14.500000</td>\n",
       "      <td>NaN</td>\n",
       "      <td>3.0</td>\n",
       "      <td>3.0</td>\n",
       "      <td>NaN</td>\n",
       "      <td>3.0</td>\n",
       "      <td>3.0</td>\n",
       "      <td>3.0</td>\n",
       "    </tr>\n",
       "    <tr>\n",
       "      <th>389121</th>\n",
       "      <td>1512382</td>\n",
       "      <td>17029</td>\n",
       "      <td>14</td>\n",
       "      <td>0</td>\n",
       "      <td>101317</td>\n",
       "      <td>10</td>\n",
       "      <td>3</td>\n",
       "      <td>14</td>\n",
       "      <td>14.0</td>\n",
       "      <td>14.0</td>\n",
       "      <td>...</td>\n",
       "      <td>15.500000</td>\n",
       "      <td>NaN</td>\n",
       "      <td>14.500000</td>\n",
       "      <td>NaN</td>\n",
       "      <td>NaN</td>\n",
       "      <td>3.0</td>\n",
       "      <td>NaN</td>\n",
       "      <td>3.0</td>\n",
       "      <td>3.0</td>\n",
       "      <td>3.0</td>\n",
       "    </tr>\n",
       "  </tbody>\n",
       "</table>\n",
       "<p>10 rows × 43 columns</p>\n",
       "</div>"
      ],
      "text/plain": [
       "        order_id  product_id  add_to_cart_order  reordered  user_id  \\\n",
       "389179    448939       16125                 11          1   101317   \n",
       "389296   2305722       16125                 12          1   101317   \n",
       "389198   1627488       16125                  3          1   101317   \n",
       "389138   2864610       16125                  3          0   101317   \n",
       "389281   1100004       16125                  9          1   101317   \n",
       "389248   1934171       16953                 17          0   101317   \n",
       "389180    448939       16965                 14          0   101317   \n",
       "389282   1100004       16965                 10          1   101317   \n",
       "389229    177678       17029                  5          1   101317   \n",
       "389121   1512382       17029                 14          0   101317   \n",
       "\n",
       "        order_number  order_dow  order_hour_of_day  \\\n",
       "389179             8          1                 15   \n",
       "389296             4          2                 16   \n",
       "389198             2          0                 19   \n",
       "389138             1          1                 19   \n",
       "389281            14          5                 17   \n",
       "389248             3          1                 14   \n",
       "389180             8          1                 15   \n",
       "389282            14          5                 17   \n",
       "389229            11          6                 17   \n",
       "389121            10          3                 14   \n",
       "\n",
       "        user_days_since_prior_order  user_total_orders  \\\n",
       "389179                         29.0               14.0   \n",
       "389296                         30.0               14.0   \n",
       "389198                         30.0               14.0   \n",
       "389138                          NaN               14.0   \n",
       "389281                         18.0               14.0   \n",
       "389248                         30.0               14.0   \n",
       "389180                         29.0               14.0   \n",
       "389282                         18.0               14.0   \n",
       "389229                          3.0               14.0   \n",
       "389121                         14.0               14.0   \n",
       "\n",
       "                          ...                     user_product_cart_size_mean  \\\n",
       "389179                    ...                                       17.428571   \n",
       "389296                    ...                                       17.428571   \n",
       "389198                    ...                                       17.428571   \n",
       "389138                    ...                                       17.428571   \n",
       "389281                    ...                                       17.428571   \n",
       "389248                    ...                                       23.000000   \n",
       "389180                    ...                                       17.000000   \n",
       "389282                    ...                                       17.000000   \n",
       "389229                    ...                                       15.500000   \n",
       "389121                    ...                                       15.500000   \n",
       "\n",
       "        user_product_cart_size_mode  user_product_other_items_mean  \\\n",
       "389179                         13.0                      16.428571   \n",
       "389296                         13.0                      16.428571   \n",
       "389198                         13.0                      16.428571   \n",
       "389138                         13.0                      16.428571   \n",
       "389281                         13.0                      16.428571   \n",
       "389248                          NaN                      22.000000   \n",
       "389180                          NaN                      16.000000   \n",
       "389282                          NaN                      16.000000   \n",
       "389229                          NaN                      14.500000   \n",
       "389121                          NaN                      14.500000   \n",
       "\n",
       "        user_product_other_items_mode  user_product_days_between_orders  \\\n",
       "389179                           12.0                              69.0   \n",
       "389296                           12.0                              60.0   \n",
       "389198                           12.0                              30.0   \n",
       "389138                           12.0                               NaN   \n",
       "389281                           12.0                               NaN   \n",
       "389248                            NaN                               NaN   \n",
       "389180                            NaN                               NaN   \n",
       "389282                            NaN                               NaN   \n",
       "389229                            NaN                               3.0   \n",
       "389121                            NaN                               NaN   \n",
       "\n",
       "        user_product_days_between_orders_mean  \\\n",
       "389179                                   49.4   \n",
       "389296                                   49.4   \n",
       "389198                                   49.4   \n",
       "389138                                   49.4   \n",
       "389281                                   49.4   \n",
       "389248                                    NaN   \n",
       "389180                                    NaN   \n",
       "389282                                    NaN   \n",
       "389229                                    3.0   \n",
       "389121                                    3.0   \n",
       "\n",
       "        user_product_days_between_orders_mode  \\\n",
       "389179                                    NaN   \n",
       "389296                                    NaN   \n",
       "389198                                    NaN   \n",
       "389138                                    NaN   \n",
       "389281                                    NaN   \n",
       "389248                                    NaN   \n",
       "389180                                    NaN   \n",
       "389282                                    NaN   \n",
       "389229                                    NaN   \n",
       "389121                                    NaN   \n",
       "\n",
       "        user_product_days_between_orders_max  \\\n",
       "389179                                  70.0   \n",
       "389296                                  70.0   \n",
       "389198                                  70.0   \n",
       "389138                                  70.0   \n",
       "389281                                  70.0   \n",
       "389248                                   NaN   \n",
       "389180                                   NaN   \n",
       "389282                                   NaN   \n",
       "389229                                   3.0   \n",
       "389121                                   3.0   \n",
       "\n",
       "        user_product_days_between_orders_min  \\\n",
       "389179                                  18.0   \n",
       "389296                                  18.0   \n",
       "389198                                  18.0   \n",
       "389138                                  18.0   \n",
       "389281                                  18.0   \n",
       "389248                                   NaN   \n",
       "389180                                   NaN   \n",
       "389282                                   NaN   \n",
       "389229                                   3.0   \n",
       "389121                                   3.0   \n",
       "\n",
       "        user_product_days_between_first_2_orders  \n",
       "389179                                      30.0  \n",
       "389296                                      30.0  \n",
       "389198                                      30.0  \n",
       "389138                                      30.0  \n",
       "389281                                      30.0  \n",
       "389248                                       NaN  \n",
       "389180                                       NaN  \n",
       "389282                                       NaN  \n",
       "389229                                       3.0  \n",
       "389121                                       3.0  \n",
       "\n",
       "[10 rows x 43 columns]"
      ]
     },
     "execution_count": 142,
     "metadata": {},
     "output_type": "execute_result"
    }
   ],
   "source": [
    "order_products_prior.iloc[6709:6719]"
   ]
  },
  {
   "cell_type": "markdown",
   "metadata": {},
   "source": [
    "### user_product_days_between_last_2_orders"
   ]
  },
  {
   "cell_type": "code",
   "execution_count": 143,
   "metadata": {},
   "outputs": [],
   "source": [
    "order_products_prior['user_product_days_between_last_2_orders'] = (order_products_prior\n",
    "    .sort_values(by=['user_id','product_id','order_number'],ascending=False)\n",
    "    .groupby(['user_id','product_id'],as_index=False)\n",
    "    ['user_product_days_between_orders'].nth(0))"
   ]
  },
  {
   "cell_type": "code",
   "execution_count": 144,
   "metadata": {},
   "outputs": [],
   "source": [
    "(order_products_prior['user_product_days_between_last_2_orders']\n",
    "     .fillna(order_products_prior.groupby(['user_id','product_id'])\n",
    "     ['user_product_days_between_last_2_orders'].transform('median'), inplace=True))"
   ]
  },
  {
   "cell_type": "markdown",
   "metadata": {},
   "source": [
    "### user_product_orders_between_orders"
   ]
  },
  {
   "cell_type": "code",
   "execution_count": 145,
   "metadata": {},
   "outputs": [],
   "source": [
    "order_products_prior.sort_values(by=['user_product','order_number'],ascending=False,inplace=True)"
   ]
  },
  {
   "cell_type": "raw",
   "metadata": {},
   "source": [
    "order_products_prior[['user_product','order_id','order_number']].iloc[30:60]"
   ]
  },
  {
   "cell_type": "code",
   "execution_count": 148,
   "metadata": {},
   "outputs": [],
   "source": [
    "# take difference between order numbers in which the product\n",
    "# is ordered, -1 to get how many orders took place between these orders\n",
    "# i.e. how many orders were skipped before ordering the product again\n",
    "\n",
    "order_products_prior['user_product_orders_between_orders'] = abs(\n",
    "    order_products_prior\n",
    "    .groupby('user_product')\n",
    "    ['order_number'].diff().shift(-1)\n",
    ")-1"
   ]
  },
  {
   "cell_type": "code",
   "execution_count": 149,
   "metadata": {},
   "outputs": [
    {
     "data": {
      "text/html": [
       "<div>\n",
       "<style scoped>\n",
       "    .dataframe tbody tr th:only-of-type {\n",
       "        vertical-align: middle;\n",
       "    }\n",
       "\n",
       "    .dataframe tbody tr th {\n",
       "        vertical-align: top;\n",
       "    }\n",
       "\n",
       "    .dataframe thead th {\n",
       "        text-align: right;\n",
       "    }\n",
       "</style>\n",
       "<table border=\"1\" class=\"dataframe\">\n",
       "  <thead>\n",
       "    <tr style=\"text-align: right;\">\n",
       "      <th></th>\n",
       "      <th>order_id</th>\n",
       "      <th>order_number</th>\n",
       "      <th>user_product</th>\n",
       "      <th>user_product_orders_between_orders</th>\n",
       "    </tr>\n",
       "  </thead>\n",
       "  <tbody>\n",
       "    <tr>\n",
       "      <th>382428</th>\n",
       "      <td>2990999</td>\n",
       "      <td>6</td>\n",
       "      <td>99807_28535</td>\n",
       "      <td>1.0</td>\n",
       "    </tr>\n",
       "    <tr>\n",
       "      <th>382517</th>\n",
       "      <td>133869</td>\n",
       "      <td>4</td>\n",
       "      <td>99807_28535</td>\n",
       "      <td>NaN</td>\n",
       "    </tr>\n",
       "    <tr>\n",
       "      <th>382497</th>\n",
       "      <td>501779</td>\n",
       "      <td>7</td>\n",
       "      <td>99807_27966</td>\n",
       "      <td>2.0</td>\n",
       "    </tr>\n",
       "    <tr>\n",
       "      <th>382516</th>\n",
       "      <td>133869</td>\n",
       "      <td>4</td>\n",
       "      <td>99807_27966</td>\n",
       "      <td>NaN</td>\n",
       "    </tr>\n",
       "    <tr>\n",
       "      <th>382496</th>\n",
       "      <td>501779</td>\n",
       "      <td>7</td>\n",
       "      <td>99807_27845</td>\n",
       "      <td>1.0</td>\n",
       "    </tr>\n",
       "    <tr>\n",
       "      <th>382454</th>\n",
       "      <td>1867524</td>\n",
       "      <td>5</td>\n",
       "      <td>99807_27845</td>\n",
       "      <td>1.0</td>\n",
       "    </tr>\n",
       "    <tr>\n",
       "      <th>382476</th>\n",
       "      <td>1529099</td>\n",
       "      <td>3</td>\n",
       "      <td>99807_27845</td>\n",
       "      <td>NaN</td>\n",
       "    </tr>\n",
       "    <tr>\n",
       "      <th>382515</th>\n",
       "      <td>133869</td>\n",
       "      <td>4</td>\n",
       "      <td>99807_27344</td>\n",
       "      <td>NaN</td>\n",
       "    </tr>\n",
       "    <tr>\n",
       "      <th>382495</th>\n",
       "      <td>501779</td>\n",
       "      <td>7</td>\n",
       "      <td>99807_26751</td>\n",
       "      <td>NaN</td>\n",
       "    </tr>\n",
       "    <tr>\n",
       "      <th>382453</th>\n",
       "      <td>1867524</td>\n",
       "      <td>5</td>\n",
       "      <td>99807_26735</td>\n",
       "      <td>NaN</td>\n",
       "    </tr>\n",
       "  </tbody>\n",
       "</table>\n",
       "</div>"
      ],
      "text/plain": [
       "        order_id  order_number user_product  \\\n",
       "382428   2990999             6  99807_28535   \n",
       "382517    133869             4  99807_28535   \n",
       "382497    501779             7  99807_27966   \n",
       "382516    133869             4  99807_27966   \n",
       "382496    501779             7  99807_27845   \n",
       "382454   1867524             5  99807_27845   \n",
       "382476   1529099             3  99807_27845   \n",
       "382515    133869             4  99807_27344   \n",
       "382495    501779             7  99807_26751   \n",
       "382453   1867524             5  99807_26735   \n",
       "\n",
       "        user_product_orders_between_orders  \n",
       "382428                                 1.0  \n",
       "382517                                 NaN  \n",
       "382497                                 2.0  \n",
       "382516                                 NaN  \n",
       "382496                                 1.0  \n",
       "382454                                 1.0  \n",
       "382476                                 NaN  \n",
       "382515                                 NaN  \n",
       "382495                                 NaN  \n",
       "382453                                 NaN  "
      ]
     },
     "execution_count": 149,
     "metadata": {},
     "output_type": "execute_result"
    }
   ],
   "source": [
    "order_products_prior[['order_id','order_number',\n",
    "                      'user_product','user_product_orders_between_orders']].iloc[350:360]"
   ]
  },
  {
   "cell_type": "markdown",
   "metadata": {},
   "source": [
    "### user_product_orders_between_orders_mean"
   ]
  },
  {
   "cell_type": "code",
   "execution_count": null,
   "metadata": {},
   "outputs": [],
   "source": [
    "user_product_orders_between_orders_mean = (\n",
    "    order_products_prior.groupby('user_product',as_index=False)\n",
    "            .agg(OrderedDict(\n",
    "            [('user_product_orders_between_orders','mean')]\n",
    "            )\n",
    "            )).rename(columns={'user_product_orders_between_orders'\n",
    "                        :'user_product_orders_between_orders_mean'})"
   ]
  },
  {
   "cell_type": "code",
   "execution_count": null,
   "metadata": {},
   "outputs": [],
   "source": [
    "user_product_orders_between_orders_mean[\n",
    "    user_product_orders_between_orders_mean['user_product']=='100000_1062'].head(50)"
   ]
  },
  {
   "cell_type": "code",
   "execution_count": null,
   "metadata": {},
   "outputs": [],
   "source": [
    "order_product_prior = (order_products_prior.merge(\n",
    "    user_product_orders_between_orders_mean, on='user_product')\n",
    "                      )"
   ]
  },
  {
   "cell_type": "markdown",
   "metadata": {},
   "source": [
    "### user_product_orders_between_orders_mode"
   ]
  },
  {
   "cell_type": "code",
   "execution_count": null,
   "metadata": {},
   "outputs": [],
   "source": [
    "user_product_orders_between_orders_mode = (order_products_prior\n",
    "                               .groupby(['user_product'],as_index=False)\n",
    "                              .agg(OrderedDict(\n",
    "                              [('user_product_orders_between_orders',(lambda x: np.bincount(x.fillna(66666).astype(int)).argmax() \n",
    "              if np.bincount(x.fillna(66666).astype(int)).max()>1\n",
    "              else 66666))]\n",
    "                              )\n",
    "                                  )).rename(columns={'user_product_orders_between_orders':'user_product_orders_between_orders_mode'})"
   ]
  },
  {
   "cell_type": "code",
   "execution_count": null,
   "metadata": {},
   "outputs": [],
   "source": [
    "user_product_orders_between_orders_mode[\n",
    "    user_product_orders_between_orders_mode['user_product']=='100000_1062'].head(50)"
   ]
  },
  {
   "cell_type": "code",
   "execution_count": null,
   "metadata": {},
   "outputs": [],
   "source": [
    "order_product_prior = (order_products_prior.merge(\n",
    "    user_product_orders_between_orders_mode, on='user_product')\n",
    "                      )"
   ]
  },
  {
   "cell_type": "markdown",
   "metadata": {},
   "source": [
    "### user_product_days_since_first_order"
   ]
  },
  {
   "cell_type": "code",
   "execution_count": 152,
   "metadata": {},
   "outputs": [],
   "source": [
    "# start = clock()\n",
    "order_products_prior['user_product_days_since_first_order'] = (\n",
    "    order_products_prior.sort_values(by=['user_product','user_days_since_order'],ascending=False)\n",
    "    .groupby(['user_id','product_id'],as_index=False)\n",
    "    ['user_days_since_order'].nth(0)\n",
    ")\n",
    "# print(round(clock()-start,3),'secs')"
   ]
  },
  {
   "cell_type": "code",
   "execution_count": 153,
   "metadata": {},
   "outputs": [],
   "source": [
    "# start= clock()\n",
    "(order_products_prior['user_product_days_since_first_order']\n",
    "     .fillna(order_products_prior.groupby('user_product')\n",
    "     ['user_product_days_since_first_order'].transform('median'), inplace=True))\n",
    "# print(round(clock()-start,3),'secs')\n"
   ]
  },
  {
   "cell_type": "markdown",
   "metadata": {},
   "source": [
    "### user_product_days_since_last_order"
   ]
  },
  {
   "cell_type": "code",
   "execution_count": 154,
   "metadata": {},
   "outputs": [],
   "source": [
    "# start = clock()\n",
    "order_products_prior['user_product_days_since_last_order'] = (\n",
    "    order_products_prior.sort_values(by=['user_product','user_days_since_order'])\n",
    "    .groupby('user_product',as_index=False)\n",
    "    ['user_days_since_order'].nth(0)\n",
    ")\n",
    "# print(round(clock()-start,3),'secs')"
   ]
  },
  {
   "cell_type": "code",
   "execution_count": 155,
   "metadata": {},
   "outputs": [],
   "source": [
    "# start= clock()\n",
    "(order_products_prior['user_product_days_since_last_order']\n",
    "     .fillna(order_products_prior.groupby(['user_product'])\n",
    "     ['user_product_days_since_last_order'].transform('median'), inplace=True))\n",
    "# print(round(clock()-start,3),'secs')\n"
   ]
  },
  {
   "cell_type": "markdown",
   "metadata": {},
   "source": [
    "### user_product_reordered"
   ]
  },
  {
   "cell_type": "code",
   "execution_count": 156,
   "metadata": {},
   "outputs": [],
   "source": [
    "order_products_prior.rename(columns={'reordered':'user_product_reordered'},inplace=True)"
   ]
  },
  {
   "cell_type": "markdown",
   "metadata": {},
   "source": [
    "### user_product_first_order"
   ]
  },
  {
   "cell_type": "code",
   "execution_count": 157,
   "metadata": {},
   "outputs": [],
   "source": [
    "order_products_prior['user_product_first_order'] = (\n",
    "    np.where(\n",
    "        order_products_prior['user_days_since_order']==\n",
    "        order_products_prior['user_product_days_since_first_order'],\n",
    "        1,\n",
    "        0)\n",
    ")"
   ]
  },
  {
   "cell_type": "markdown",
   "metadata": {},
   "source": [
    "### user_cart_new_product_count"
   ]
  },
  {
   "cell_type": "code",
   "execution_count": null,
   "metadata": {},
   "outputs": [],
   "source": [
    "new_products = (order_products_prior\n",
    "    .groupby(['user_id','order_id'],as_index=False)\n",
    "    .agg(OrderedDict(\n",
    "    [('user_product_first_order', 'count')]))).rename(\n",
    "    columns={'user_product_first_order':'user_cart_new_product_count'})"
   ]
  },
  {
   "cell_type": "code",
   "execution_count": null,
   "metadata": {},
   "outputs": [],
   "source": [
    "new_products.head()"
   ]
  },
  {
   "cell_type": "code",
   "execution_count": null,
   "metadata": {},
   "outputs": [],
   "source": [
    "order_products_prior = order_products_prior.merge(new_products,on=['user_id','order_id'])"
   ]
  },
  {
   "cell_type": "markdown",
   "metadata": {},
   "source": [
    "### user_cart_new_product_mean"
   ]
  },
  {
   "cell_type": "code",
   "execution_count": null,
   "metadata": {},
   "outputs": [],
   "source": [
    "new_product_mean = (new_products.groupby('user_id',as_index=False)\n",
    "                   .agg(OrderedDict(\n",
    "                   [('user_cart_new_product_count','mean')]))).rename(\n",
    "columns={'user_cart_new_product_count':'user_cart_new_product_mean'})"
   ]
  },
  {
   "cell_type": "code",
   "execution_count": null,
   "metadata": {},
   "outputs": [],
   "source": [
    "new_product_mean.head()"
   ]
  },
  {
   "cell_type": "code",
   "execution_count": null,
   "metadata": {},
   "outputs": [],
   "source": [
    "order_products_prior = order_products_prior.merge(new_product_mean,on=['user_id'])"
   ]
  },
  {
   "cell_type": "markdown",
   "metadata": {},
   "source": [
    "### user_cart_new_product_mode"
   ]
  },
  {
   "cell_type": "code",
   "execution_count": null,
   "metadata": {},
   "outputs": [],
   "source": [
    "new_product_mode = (new_products.groupby('user_id',as_index=False)\n",
    "                   .agg(OrderedDict(\n",
    "                   [('user_cart_new_product_count',(lambda x: np.bincount(x).argmax()\n",
    "              if np.bincount(x).max()>1\n",
    "              else np.nan)\n",
    "                    )]))).rename(\n",
    "columns={'user_cart_new_product_count':'user_cart_new_product_mode'})"
   ]
  },
  {
   "cell_type": "code",
   "execution_count": null,
   "metadata": {},
   "outputs": [],
   "source": [
    "new_product_mode.head()"
   ]
  },
  {
   "cell_type": "code",
   "execution_count": null,
   "metadata": {},
   "outputs": [],
   "source": [
    "order_products_prior = order_products_prior.merge(new_product_mode,on=['user_id'])"
   ]
  },
  {
   "cell_type": "markdown",
   "metadata": {},
   "source": [
    "### user_cart_new_product_share"
   ]
  },
  {
   "cell_type": "code",
   "execution_count": 161,
   "metadata": {},
   "outputs": [],
   "source": [
    "# percentage of new items per cart\n",
    "order_products_prior['user_cart_new_product_share'] = (\n",
    "    order_products_prior['user_cart_new_product_count'] /\n",
    "    order_products_prior['user_cart_size']\n",
    ")"
   ]
  },
  {
   "cell_type": "markdown",
   "metadata": {},
   "source": [
    "### user_cart_new_product_share_mean"
   ]
  },
  {
   "cell_type": "code",
   "execution_count": null,
   "metadata": {},
   "outputs": [],
   "source": [
    "user_cart_new_product_share_mean = (\n",
    "    order_products_prior.groupby('user_id',as_index=False).\n",
    "    agg(OrderedDict(\n",
    "    [('user_cart_new_product_share','mean')])))\n",
    "    .rename(columns={'user_cart_new_product_share':'user_cart_new_product_share_mean'})"
   ]
  },
  {
   "cell_type": "code",
   "execution_count": null,
   "metadata": {},
   "outputs": [],
   "source": [
    "user_cart_new_product_share_mean.head()"
   ]
  },
  {
   "cell_type": "code",
   "execution_count": null,
   "metadata": {},
   "outputs": [],
   "source": [
    "order_products_prior = order_products_prior.merge(user_cart_new_product_share_mean,on=['user_id'])"
   ]
  },
  {
   "cell_type": "markdown",
   "metadata": {},
   "source": [
    "### user_product_cart_rank_mean"
   ]
  },
  {
   "cell_type": "code",
   "execution_count": null,
   "metadata": {},
   "outputs": [],
   "source": [
    "user_product_cart_rank_mean = (\n",
    "    order_products_prior.groupby('user_product',as_index=False).\n",
    "    agg(OrderedDict(\n",
    "    [('add_to_cart_order','mean')])))\n",
    "    .rename(columns={'add_to_cart_order':'user_product_cart_rank_mean'})"
   ]
  },
  {
   "cell_type": "code",
   "execution_count": null,
   "metadata": {},
   "outputs": [],
   "source": [
    "user_product_cart_rank_mean.head()"
   ]
  },
  {
   "cell_type": "code",
   "execution_count": null,
   "metadata": {},
   "outputs": [],
   "source": [
    "order_products_prior = order_products_prior.merge(user_product_cart_rank_mean,on=['user_product'])"
   ]
  },
  {
   "cell_type": "raw",
   "metadata": {},
   "source": [
    "order_products_prior.head(5)"
   ]
  },
  {
   "cell_type": "markdown",
   "metadata": {},
   "source": [
    "### user_product_cart_rank_mode"
   ]
  },
  {
   "cell_type": "code",
   "execution_count": null,
   "metadata": {},
   "outputs": [],
   "source": [
    "user_product_cart_rank_mode = (\n",
    "    order_products_prior.groupby('user_product',as_index=False).\n",
    "    agg(OrderedDict(\n",
    "    [('add_to_cart_order',(lambda x: np.bincount(x).argmax()\n",
    "              if np.bincount(x).max()>1\n",
    "              else np.nan))])))\n",
    "    .rename(columns={'add_to_cart_order':'user_product_cart_rank_mode'})"
   ]
  },
  {
   "cell_type": "code",
   "execution_count": null,
   "metadata": {},
   "outputs": [],
   "source": [
    "user_product_cart_rank_mode.head()"
   ]
  },
  {
   "cell_type": "code",
   "execution_count": null,
   "metadata": {},
   "outputs": [],
   "source": [
    "order_products_prior = order_products_prior.merge(user_product_cart_rank_mode,on=['user_product'])"
   ]
  },
  {
   "cell_type": "markdown",
   "metadata": {},
   "source": [
    "### user_product_in_last_order"
   ]
  },
  {
   "cell_type": "code",
   "execution_count": 166,
   "metadata": {},
   "outputs": [],
   "source": [
    "# let's sort the df so that highest order numbers are first\n",
    "order_products_prior.sort_values(by=['user_id', 'product_id', 'order_number'],ascending=False,inplace=True)"
   ]
  },
  {
   "cell_type": "code",
   "execution_count": 167,
   "metadata": {},
   "outputs": [],
   "source": [
    "# first create a list of order numbers for user x product\n",
    "streak_numbers = (order_products_prior\n",
    "                 .groupby('user_product', as_index=False)\n",
    "                 .agg({'order_number':(lambda x: list(x))})\n",
    "#                   .transform(lambda x: list(x)))\n",
    "                 .rename(columns={'order_number':'user_product_order_numbers'}))"
   ]
  },
  {
   "cell_type": "code",
   "execution_count": 168,
   "metadata": {},
   "outputs": [],
   "source": [
    "# merge in some features from order_products_prior\n",
    "streak_numbers = streak_numbers.merge(\n",
    "    order_products_prior[['user_product',\n",
    "        'user_last_order_number',\n",
    "        'user_product_last_order_number']],on='user_product')"
   ]
  },
  {
   "cell_type": "code",
   "execution_count": 169,
   "metadata": {
    "scrolled": true
   },
   "outputs": [
    {
     "data": {
      "text/html": [
       "<div>\n",
       "<style scoped>\n",
       "    .dataframe tbody tr th:only-of-type {\n",
       "        vertical-align: middle;\n",
       "    }\n",
       "\n",
       "    .dataframe tbody tr th {\n",
       "        vertical-align: top;\n",
       "    }\n",
       "\n",
       "    .dataframe thead th {\n",
       "        text-align: right;\n",
       "    }\n",
       "</style>\n",
       "<table border=\"1\" class=\"dataframe\">\n",
       "  <thead>\n",
       "    <tr style=\"text-align: right;\">\n",
       "      <th></th>\n",
       "      <th>user_product</th>\n",
       "      <th>user_product_order_numbers</th>\n",
       "      <th>user_last_order_number</th>\n",
       "      <th>user_product_last_order_number</th>\n",
       "    </tr>\n",
       "  </thead>\n",
       "  <tbody>\n",
       "    <tr>\n",
       "      <th>526719</th>\n",
       "      <td>36506_25802</td>\n",
       "      <td>[5, 4]</td>\n",
       "      <td>6.0</td>\n",
       "      <td>5.0</td>\n",
       "    </tr>\n",
       "    <tr>\n",
       "      <th>223633</th>\n",
       "      <td>149481_32433</td>\n",
       "      <td>[53, 43, 41, 27, 22, 15, 12, 9, 3]</td>\n",
       "      <td>55.0</td>\n",
       "      <td>53.0</td>\n",
       "    </tr>\n",
       "    <tr>\n",
       "      <th>81724</th>\n",
       "      <td>116051_21586</td>\n",
       "      <td>[87, 59, 47, 37, 13, 2]</td>\n",
       "      <td>99.0</td>\n",
       "      <td>87.0</td>\n",
       "    </tr>\n",
       "    <tr>\n",
       "      <th>747849</th>\n",
       "      <td>88563_12162</td>\n",
       "      <td>[10, 9]</td>\n",
       "      <td>10.0</td>\n",
       "      <td>10.0</td>\n",
       "    </tr>\n",
       "    <tr>\n",
       "      <th>764326</th>\n",
       "      <td>92510_36724</td>\n",
       "      <td>[20, 8]</td>\n",
       "      <td>52.0</td>\n",
       "      <td>20.0</td>\n",
       "    </tr>\n",
       "  </tbody>\n",
       "</table>\n",
       "</div>"
      ],
      "text/plain": [
       "        user_product          user_product_order_numbers  \\\n",
       "526719   36506_25802                              [5, 4]   \n",
       "223633  149481_32433  [53, 43, 41, 27, 22, 15, 12, 9, 3]   \n",
       "81724   116051_21586             [87, 59, 47, 37, 13, 2]   \n",
       "747849   88563_12162                             [10, 9]   \n",
       "764326   92510_36724                             [20, 8]   \n",
       "\n",
       "        user_last_order_number  user_product_last_order_number  \n",
       "526719                     6.0                             5.0  \n",
       "223633                    55.0                            53.0  \n",
       "81724                     99.0                            87.0  \n",
       "747849                    10.0                            10.0  \n",
       "764326                    52.0                            20.0  "
      ]
     },
     "execution_count": 169,
     "metadata": {},
     "output_type": "execute_result"
    }
   ],
   "source": [
    "streak_numbers.sample(5)"
   ]
  },
  {
   "cell_type": "code",
   "execution_count": 170,
   "metadata": {},
   "outputs": [],
   "source": [
    "streak_numbers['user_product_in_last_order'] = (\n",
    "    np.where(streak_numbers['user_last_order_number'] ==\n",
    "                    streak_numbers['user_product_last_order_number'],\n",
    "             1,\n",
    "             0)\n",
    ")"
   ]
  },
  {
   "cell_type": "code",
   "execution_count": 171,
   "metadata": {
    "scrolled": true
   },
   "outputs": [
    {
     "data": {
      "text/html": [
       "<div>\n",
       "<style scoped>\n",
       "    .dataframe tbody tr th:only-of-type {\n",
       "        vertical-align: middle;\n",
       "    }\n",
       "\n",
       "    .dataframe tbody tr th {\n",
       "        vertical-align: top;\n",
       "    }\n",
       "\n",
       "    .dataframe thead th {\n",
       "        text-align: right;\n",
       "    }\n",
       "</style>\n",
       "<table border=\"1\" class=\"dataframe\">\n",
       "  <thead>\n",
       "    <tr style=\"text-align: right;\">\n",
       "      <th></th>\n",
       "      <th>user_product</th>\n",
       "      <th>user_product_order_numbers</th>\n",
       "      <th>user_last_order_number</th>\n",
       "      <th>user_product_last_order_number</th>\n",
       "      <th>user_product_in_last_order</th>\n",
       "    </tr>\n",
       "  </thead>\n",
       "  <tbody>\n",
       "    <tr>\n",
       "      <th>155881</th>\n",
       "      <td>133355_49035</td>\n",
       "      <td>[7]</td>\n",
       "      <td>16.0</td>\n",
       "      <td>7.0</td>\n",
       "      <td>0</td>\n",
       "    </tr>\n",
       "    <tr>\n",
       "      <th>600185</th>\n",
       "      <td>52_46149</td>\n",
       "      <td>[19, 18, 17, 15, 12, 11, 10, 9, 7, 5, 3, 2, 1]</td>\n",
       "      <td>27.0</td>\n",
       "      <td>19.0</td>\n",
       "      <td>0</td>\n",
       "    </tr>\n",
       "    <tr>\n",
       "      <th>252609</th>\n",
       "      <td>156555_17224</td>\n",
       "      <td>[17, 15, 11, 6, 2, 1]</td>\n",
       "      <td>29.0</td>\n",
       "      <td>17.0</td>\n",
       "      <td>0</td>\n",
       "    </tr>\n",
       "    <tr>\n",
       "      <th>575702</th>\n",
       "      <td>47694_945</td>\n",
       "      <td>[9]</td>\n",
       "      <td>60.0</td>\n",
       "      <td>9.0</td>\n",
       "      <td>0</td>\n",
       "    </tr>\n",
       "    <tr>\n",
       "      <th>218234</th>\n",
       "      <td>14868_11182</td>\n",
       "      <td>[92, 85, 76, 68, 67, 50, 46, 41, 36, 33, 21, 15]</td>\n",
       "      <td>95.0</td>\n",
       "      <td>92.0</td>\n",
       "      <td>0</td>\n",
       "    </tr>\n",
       "  </tbody>\n",
       "</table>\n",
       "</div>"
      ],
      "text/plain": [
       "        user_product                        user_product_order_numbers  \\\n",
       "155881  133355_49035                                               [7]   \n",
       "600185      52_46149    [19, 18, 17, 15, 12, 11, 10, 9, 7, 5, 3, 2, 1]   \n",
       "252609  156555_17224                             [17, 15, 11, 6, 2, 1]   \n",
       "575702     47694_945                                               [9]   \n",
       "218234   14868_11182  [92, 85, 76, 68, 67, 50, 46, 41, 36, 33, 21, 15]   \n",
       "\n",
       "        user_last_order_number  user_product_last_order_number  \\\n",
       "155881                    16.0                             7.0   \n",
       "600185                    27.0                            19.0   \n",
       "252609                    29.0                            17.0   \n",
       "575702                    60.0                             9.0   \n",
       "218234                    95.0                            92.0   \n",
       "\n",
       "        user_product_in_last_order  \n",
       "155881                           0  \n",
       "600185                           0  \n",
       "252609                           0  \n",
       "575702                           0  \n",
       "218234                           0  "
      ]
     },
     "execution_count": 171,
     "metadata": {},
     "output_type": "execute_result"
    }
   ],
   "source": [
    "streak_numbers.sample(5)"
   ]
  },
  {
   "cell_type": "markdown",
   "metadata": {},
   "source": [
    "### user_product_streak_lengths"
   ]
  },
  {
   "cell_type": "code",
   "execution_count": 172,
   "metadata": {},
   "outputs": [],
   "source": [
    "def countstreaks(list):\n",
    "    streaks = []\n",
    "    count = 1\n",
    "    for i in range(len(list) - 1):\n",
    "        # check if next number is consecutive\n",
    "        if list[i] - 1 == list[i+1]:\n",
    "            count += 1\n",
    "        else:\n",
    "            # if not, append the count, move on and restart counting\n",
    "            streaks.append(count)\n",
    "            count = 1\n",
    "    # append the last count\n",
    "    streaks.append(count)\n",
    "    return streaks"
   ]
  },
  {
   "cell_type": "code",
   "execution_count": 173,
   "metadata": {},
   "outputs": [],
   "source": [
    "streak_numbers['user_product_streak_lengths'] = (streak_numbers['user_product_order_numbers']\n",
    "                                          .apply(countstreaks))"
   ]
  },
  {
   "cell_type": "code",
   "execution_count": 174,
   "metadata": {
    "scrolled": true
   },
   "outputs": [
    {
     "data": {
      "text/html": [
       "<div>\n",
       "<style scoped>\n",
       "    .dataframe tbody tr th:only-of-type {\n",
       "        vertical-align: middle;\n",
       "    }\n",
       "\n",
       "    .dataframe tbody tr th {\n",
       "        vertical-align: top;\n",
       "    }\n",
       "\n",
       "    .dataframe thead th {\n",
       "        text-align: right;\n",
       "    }\n",
       "</style>\n",
       "<table border=\"1\" class=\"dataframe\">\n",
       "  <thead>\n",
       "    <tr style=\"text-align: right;\">\n",
       "      <th></th>\n",
       "      <th>user_product</th>\n",
       "      <th>user_product_order_numbers</th>\n",
       "      <th>user_last_order_number</th>\n",
       "      <th>user_product_last_order_number</th>\n",
       "      <th>user_product_in_last_order</th>\n",
       "      <th>user_product_streak_lengths</th>\n",
       "    </tr>\n",
       "  </thead>\n",
       "  <tbody>\n",
       "    <tr>\n",
       "      <th>727540</th>\n",
       "      <td>83396_14764</td>\n",
       "      <td>[58, 57, 38, 35, 33, 31, 22, 17, 8]</td>\n",
       "      <td>61.0</td>\n",
       "      <td>58.0</td>\n",
       "      <td>0</td>\n",
       "      <td>[2, 1, 1, 1, 1, 1, 1, 1]</td>\n",
       "    </tr>\n",
       "    <tr>\n",
       "      <th>7380</th>\n",
       "      <td>101343_39411</td>\n",
       "      <td>[79, 78, 76, 70, 65, 63, 62, 61, 55, 53, 52, 4...</td>\n",
       "      <td>87.0</td>\n",
       "      <td>79.0</td>\n",
       "      <td>0</td>\n",
       "      <td>[2, 1, 1, 1, 3, 1, 2, 3, 1, 2, 2, 1, 1, 1, 1, ...</td>\n",
       "    </tr>\n",
       "    <tr>\n",
       "      <th>733839</th>\n",
       "      <td>85028_23023</td>\n",
       "      <td>[33, 32, 31, 28, 27, 25, 24, 23, 21, 20, 19, 1...</td>\n",
       "      <td>33.0</td>\n",
       "      <td>33.0</td>\n",
       "      <td>1</td>\n",
       "      <td>[3, 2, 3, 6, 7, 2]</td>\n",
       "    </tr>\n",
       "    <tr>\n",
       "      <th>622147</th>\n",
       "      <td>58702_5097</td>\n",
       "      <td>[8, 7, 3, 1]</td>\n",
       "      <td>11.0</td>\n",
       "      <td>8.0</td>\n",
       "      <td>0</td>\n",
       "      <td>[2, 1, 1]</td>\n",
       "    </tr>\n",
       "    <tr>\n",
       "      <th>173880</th>\n",
       "      <td>137986_43352</td>\n",
       "      <td>[36, 35, 34, 33, 30]</td>\n",
       "      <td>37.0</td>\n",
       "      <td>36.0</td>\n",
       "      <td>0</td>\n",
       "      <td>[4, 1]</td>\n",
       "    </tr>\n",
       "    <tr>\n",
       "      <th>349123</th>\n",
       "      <td>181375_44156</td>\n",
       "      <td>[7, 6, 4]</td>\n",
       "      <td>25.0</td>\n",
       "      <td>7.0</td>\n",
       "      <td>0</td>\n",
       "      <td>[2, 1]</td>\n",
       "    </tr>\n",
       "    <tr>\n",
       "      <th>527976</th>\n",
       "      <td>36663_45066</td>\n",
       "      <td>[74, 68, 66, 65, 57, 55, 54, 53, 52, 37, 35, 9...</td>\n",
       "      <td>74.0</td>\n",
       "      <td>74.0</td>\n",
       "      <td>1</td>\n",
       "      <td>[1, 1, 2, 1, 4, 1, 1, 1, 1, 2]</td>\n",
       "    </tr>\n",
       "    <tr>\n",
       "      <th>527875</th>\n",
       "      <td>36663_43789</td>\n",
       "      <td>[73, 57, 56]</td>\n",
       "      <td>74.0</td>\n",
       "      <td>73.0</td>\n",
       "      <td>0</td>\n",
       "      <td>[1, 2]</td>\n",
       "    </tr>\n",
       "    <tr>\n",
       "      <th>183785</th>\n",
       "      <td>14071_35887</td>\n",
       "      <td>[6, 5, 4, 3, 2]</td>\n",
       "      <td>15.0</td>\n",
       "      <td>6.0</td>\n",
       "      <td>0</td>\n",
       "      <td>[5]</td>\n",
       "    </tr>\n",
       "    <tr>\n",
       "      <th>292562</th>\n",
       "      <td>164691_32650</td>\n",
       "      <td>[30, 28, 27, 22, 21, 20, 17, 16, 15, 11, 7, 6, 5]</td>\n",
       "      <td>30.0</td>\n",
       "      <td>30.0</td>\n",
       "      <td>1</td>\n",
       "      <td>[1, 2, 3, 3, 1, 3]</td>\n",
       "    </tr>\n",
       "  </tbody>\n",
       "</table>\n",
       "</div>"
      ],
      "text/plain": [
       "        user_product                         user_product_order_numbers  \\\n",
       "727540   83396_14764                [58, 57, 38, 35, 33, 31, 22, 17, 8]   \n",
       "7380    101343_39411  [79, 78, 76, 70, 65, 63, 62, 61, 55, 53, 52, 4...   \n",
       "733839   85028_23023  [33, 32, 31, 28, 27, 25, 24, 23, 21, 20, 19, 1...   \n",
       "622147    58702_5097                                       [8, 7, 3, 1]   \n",
       "173880  137986_43352                               [36, 35, 34, 33, 30]   \n",
       "349123  181375_44156                                          [7, 6, 4]   \n",
       "527976   36663_45066  [74, 68, 66, 65, 57, 55, 54, 53, 52, 37, 35, 9...   \n",
       "527875   36663_43789                                       [73, 57, 56]   \n",
       "183785   14071_35887                                    [6, 5, 4, 3, 2]   \n",
       "292562  164691_32650  [30, 28, 27, 22, 21, 20, 17, 16, 15, 11, 7, 6, 5]   \n",
       "\n",
       "        user_last_order_number  user_product_last_order_number  \\\n",
       "727540                    61.0                            58.0   \n",
       "7380                      87.0                            79.0   \n",
       "733839                    33.0                            33.0   \n",
       "622147                    11.0                             8.0   \n",
       "173880                    37.0                            36.0   \n",
       "349123                    25.0                             7.0   \n",
       "527976                    74.0                            74.0   \n",
       "527875                    74.0                            73.0   \n",
       "183785                    15.0                             6.0   \n",
       "292562                    30.0                            30.0   \n",
       "\n",
       "        user_product_in_last_order  \\\n",
       "727540                           0   \n",
       "7380                             0   \n",
       "733839                           1   \n",
       "622147                           0   \n",
       "173880                           0   \n",
       "349123                           0   \n",
       "527976                           1   \n",
       "527875                           0   \n",
       "183785                           0   \n",
       "292562                           1   \n",
       "\n",
       "                              user_product_streak_lengths  \n",
       "727540                           [2, 1, 1, 1, 1, 1, 1, 1]  \n",
       "7380    [2, 1, 1, 1, 3, 1, 2, 3, 1, 2, 2, 1, 1, 1, 1, ...  \n",
       "733839                                 [3, 2, 3, 6, 7, 2]  \n",
       "622147                                          [2, 1, 1]  \n",
       "173880                                             [4, 1]  \n",
       "349123                                             [2, 1]  \n",
       "527976                     [1, 1, 2, 1, 4, 1, 1, 1, 1, 2]  \n",
       "527875                                             [1, 2]  \n",
       "183785                                                [5]  \n",
       "292562                                 [1, 2, 3, 3, 1, 3]  "
      ]
     },
     "execution_count": 174,
     "metadata": {},
     "output_type": "execute_result"
    }
   ],
   "source": [
    "streak_numbers.sample(10)"
   ]
  },
  {
   "cell_type": "markdown",
   "metadata": {},
   "source": [
    "### user_product_streak_length_latest"
   ]
  },
  {
   "cell_type": "code",
   "execution_count": 175,
   "metadata": {},
   "outputs": [],
   "source": [
    "streak_numbers['user_product_streak_length_latest'] = [x[0] for x in streak_numbers['user_product_streak_lengths']]"
   ]
  },
  {
   "cell_type": "raw",
   "metadata": {
    "scrolled": true
   },
   "source": [
    "streak_numbers.iloc[5250:5280]"
   ]
  },
  {
   "cell_type": "markdown",
   "metadata": {},
   "source": [
    "### user_product_streak_length_current"
   ]
  },
  {
   "cell_type": "code",
   "execution_count": 177,
   "metadata": {},
   "outputs": [],
   "source": [
    "streak_numbers['user_product_streak_length_current'] = (\n",
    "np.where(streak_numbers['user_product_in_last_order']==1,\n",
    "         streak_numbers['user_product_streak_length_latest'],\n",
    "         0\n",
    "        )\n",
    ")"
   ]
  },
  {
   "cell_type": "markdown",
   "metadata": {},
   "source": [
    "### user_product_streak_current"
   ]
  },
  {
   "cell_type": "code",
   "execution_count": 179,
   "metadata": {},
   "outputs": [],
   "source": [
    "streak_numbers['user_product_streak_current'] = (\n",
    "np.where(streak_numbers['user_product_streak_length_current']>1,\n",
    "         1,\n",
    "         0\n",
    "        )\n",
    ")"
   ]
  },
  {
   "cell_type": "markdown",
   "metadata": {},
   "source": [
    "### user_product_streak_length_past_max"
   ]
  },
  {
   "cell_type": "code",
   "execution_count": 180,
   "metadata": {},
   "outputs": [],
   "source": [
    "streak_numbers['user_product_streak_length_past_max'] = [\n",
    "    max(x[1:]) if len(x)>1 else 0 for x in streak_numbers['user_product_streak_lengths']]"
   ]
  },
  {
   "cell_type": "raw",
   "metadata": {
    "scrolled": false
   },
   "source": [
    "streak_numbers.sort_values(by='user_product_streak_length_past_max',ascending=False).head()"
   ]
  },
  {
   "cell_type": "markdown",
   "metadata": {},
   "source": [
    "### user_product_streak_past"
   ]
  },
  {
   "cell_type": "code",
   "execution_count": 182,
   "metadata": {},
   "outputs": [],
   "source": [
    "streak_numbers['user_product_streak_past'] = [\n",
    "    1 if x > 1 else 0 for x in streak_numbers['user_product_streak_length_past_max']]"
   ]
  },
  {
   "cell_type": "raw",
   "metadata": {},
   "source": [
    "# prep to merge back\n",
    "for col in sorted(streak_numbers.columns):\n",
    "    print(col)"
   ]
  },
  {
   "cell_type": "raw",
   "metadata": {},
   "source": [
    "# prep to merge\n",
    "for col in sorted(order_products_prior.columns):\n",
    "    print(col)"
   ]
  },
  {
   "cell_type": "code",
   "execution_count": 185,
   "metadata": {
    "scrolled": true
   },
   "outputs": [],
   "source": [
    "# merge streak features back into df\n",
    "order_products_prior = order_products_prior.merge(streak_numbers, on=[\n",
    "    'user_product',\n",
    "    'user_last_order_number',\n",
    "    'user_product_last_order_number'])"
   ]
  },
  {
   "cell_type": "raw",
   "metadata": {},
   "source": [
    "for col in sorted(order_products_prior.columns):\n",
    "    print(col)"
   ]
  },
  {
   "cell_type": "markdown",
   "metadata": {},
   "source": [
    "## product"
   ]
  },
  {
   "cell_type": "markdown",
   "metadata": {},
   "source": [
    "### product_aisle, product_aisle_id"
   ]
  },
  {
   "cell_type": "code",
   "execution_count": 187,
   "metadata": {},
   "outputs": [],
   "source": [
    "# merge in aisle_id and department_id\n",
    "order_products_prior = order_products_prior.merge(products[['product_id','aisle_id','department_id']],on='product_id')"
   ]
  },
  {
   "cell_type": "code",
   "execution_count": 188,
   "metadata": {},
   "outputs": [],
   "source": [
    "# merge in aisle\n",
    "order_products_prior = order_products_prior.merge(aisles[['aisle_id','aisle']],on='aisle_id')"
   ]
  },
  {
   "cell_type": "markdown",
   "metadata": {},
   "source": [
    "### product_department, product_department_id"
   ]
  },
  {
   "cell_type": "code",
   "execution_count": 189,
   "metadata": {},
   "outputs": [],
   "source": [
    "# merge in department\n",
    "order_products_prior = order_products_prior.merge(departments[['department_id','department']],on='department_id')"
   ]
  },
  {
   "cell_type": "code",
   "execution_count": 190,
   "metadata": {},
   "outputs": [],
   "source": [
    "to_rename = ['aisle_id','aisle','department_id','department']\n",
    "rename_to = ['product_aisle_id','product_aisle','product_department_id','product_department']\n",
    "\n",
    "order_products_prior.rename(columns=dict(zip(to_rename,rename_to)),inplace=True)"
   ]
  },
  {
   "cell_type": "markdown",
   "metadata": {},
   "source": [
    "## Check and Align Columns"
   ]
  },
  {
   "cell_type": "code",
   "execution_count": 192,
   "metadata": {},
   "outputs": [],
   "source": [
    "to_rename = ['add_to_cart_order','order_dow','order_hour_of_day','order_number']\n",
    "rename_to = ['user_product_add_to_cart_order','user_order_dow','user_order_hour_of_day','user_order_number']\n",
    "\n",
    "order_products_prior.rename(columns=dict(zip(to_rename,rename_to)),inplace=True)"
   ]
  },
  {
   "cell_type": "raw",
   "metadata": {
    "scrolled": false
   },
   "source": [
    "cols = sorted(order_products_prior.columns)\n",
    "print('\\nNumber of columns: %d\\n' %(len(cols)))\n",
    "for col in cols:\n",
    "    print(\"'%s',\"%(col))"
   ]
  },
  {
   "cell_type": "markdown",
   "metadata": {},
   "source": [
    "## Save to order_products_prior_edited.pickle"
   ]
  },
  {
   "cell_type": "code",
   "execution_count": 201,
   "metadata": {},
   "outputs": [],
   "source": [
    "# order_products_prior.to_csv('edited_order_products_prior.csv', sep=',', header=True)\n",
    "# # given the size of the df and the restrictions of macOS, only this worked, but this did work on AWS"
   ]
  },
  {
   "cell_type": "markdown",
   "metadata": {},
   "source": [
    "# Select Columns that are user*product specific (unrelated to orders)"
   ]
  },
  {
   "cell_type": "code",
   "execution_count": 203,
   "metadata": {},
   "outputs": [],
   "source": [
    "df_EDA = pd.DataFrame(\n",
    "    order_products_prior[[\n",
    "#         'order_id',\n",
    "        'product_aisle',\n",
    "        'product_aisle_id',\n",
    "        'product_department',\n",
    "        'product_department_id',\n",
    "        'product_id',\n",
    "#         'user_cart_contents',\n",
    "#         'user_cart_new_product_count',\n",
    "        'user_cart_new_product_count_mean',\n",
    "        'user_cart_new_product_count_mode',\n",
    "#         'user_cart_new_product_share',\n",
    "        'user_cart_new_product_share_mean',\n",
    "#         'user_cart_size',\n",
    "        'user_cart_size_mean',\n",
    "        'user_cart_size_mode',\n",
    "        'user_days_between_last_2_orders',\n",
    "        'user_days_between_last_4_orders',\n",
    "        'user_days_between_orders_mean',\n",
    "        'user_days_between_orders_mode',\n",
    "        'user_days_since_first_order',\n",
    "        'user_days_since_last_order',\n",
    "#         'user_days_since_order',\n",
    "#         'user_days_since_prior_order',\n",
    "        'user_id',\n",
    "        'user_last_order_number',\n",
    "        'user_order_dayofweek_mode',\n",
    "#         'user_order_dow',\n",
    "#         'user_order_hour_of_day',\n",
    "#         'user_order_in_preferred_timeslot',\n",
    "#         'user_order_number',\n",
    "#         'user_order_on_preferred_dayofweek',\n",
    "        'user_order_share_in_preferred_timeslot',\n",
    "        'user_order_share_on_preferred_dayofweek',\n",
    "        'user_order_timeofday_mode',\n",
    "        'user_product',\n",
    "#         'user_product_add_to_cart_order',\n",
    "        'user_product_cart_rank_mean',\n",
    "        'user_product_cart_rank_mode',\n",
    "        'user_product_cart_size_mean',\n",
    "        'user_product_cart_size_mode',\n",
    "        'user_product_days_between_first_2_orders',\n",
    "        'user_product_days_between_last_2_orders',\n",
    "#         'user_product_days_between_orders',\n",
    "        'user_product_days_between_orders_max',\n",
    "        'user_product_days_between_orders_mean',\n",
    "        'user_product_days_between_orders_min',\n",
    "        'user_product_days_between_orders_mode',\n",
    "        'user_product_days_since_first_order',\n",
    "        'user_product_days_since_last_order',\n",
    "#         'user_product_first_order',\n",
    "#         'user_product_in_last_order',\n",
    "        'user_product_last_order_number',\n",
    "#         'user_product_order_numbers',\n",
    "#         'user_product_orders_between_orders',\n",
    "        'user_product_orders_between_orders_mean',\n",
    "        'user_product_orders_between_orders_mode',\n",
    "        'user_product_orders_share',\n",
    "        'user_product_other_items_mean',\n",
    "        'user_product_other_items_mode',\n",
    "        'user_product_reordered',\n",
    "        'user_product_reorders',\n",
    "        'user_product_streak_current',\n",
    "        'user_product_streak_length_current',\n",
    "        'user_product_streak_length_latest',\n",
    "        'user_product_streak_length_past_max',\n",
    "        'user_product_streak_lengths',\n",
    "        'user_product_streak_past',\n",
    "        'user_product_total_orders',\n",
    "        'user_total_orders'\n",
    "                                         ]]\n",
    "                   )"
   ]
  },
  {
   "cell_type": "code",
   "execution_count": 204,
   "metadata": {},
   "outputs": [
    {
     "data": {
      "text/plain": [
       "5819784"
      ]
     },
     "execution_count": 204,
     "metadata": {},
     "output_type": "execute_result"
    }
   ],
   "source": [
    "len(df_EDA)"
   ]
  },
  {
   "cell_type": "code",
   "execution_count": 209,
   "metadata": {},
   "outputs": [],
   "source": [
    "df_EDA.drop_duplicates(subset='user_product',inplace=True)"
   ]
  },
  {
   "cell_type": "code",
   "execution_count": 210,
   "metadata": {},
   "outputs": [
    {
     "data": {
      "text/plain": [
       "329806"
      ]
     },
     "execution_count": 210,
     "metadata": {},
     "output_type": "execute_result"
    }
   ],
   "source": [
    "len(df_EDA)"
   ]
  },
  {
   "cell_type": "code",
   "execution_count": 211,
   "metadata": {},
   "outputs": [],
   "source": [
    "df_EDA.to_pickle('df_EDA_x.pickle')"
   ]
  },
  {
   "cell_type": "markdown",
   "metadata": {},
   "source": [
    "# Get Target"
   ]
  },
  {
   "cell_type": "code",
   "execution_count": 212,
   "metadata": {},
   "outputs": [],
   "source": [
    "# now we want to know if the products that are in orders_prior \n",
    "# ended up in the baskets in orders_train (= our target 'yes'[1] or 'no'[0])\n",
    "\n",
    "# accumulate orders_train to create carts from last order\n",
    "train_carts = (order_products_train.groupby('user_id',as_index=False) #  group by users\n",
    "                                      .agg({'product_id':(lambda x: list(x))}) # create a list of the products in the cart\n",
    "                                      .rename(columns={'product_id':'user_cart_current_contents'}))"
   ]
  },
  {
   "cell_type": "raw",
   "metadata": {},
   "source": [
    "order_products_train.head()"
   ]
  },
  {
   "cell_type": "raw",
   "metadata": {},
   "source": [
    "train_carts.head()"
   ]
  },
  {
   "cell_type": "code",
   "execution_count": 215,
   "metadata": {},
   "outputs": [],
   "source": [
    "# add train_carts to df\n",
    "# we use the latest_cart column to calculate the in_cart (check if the product was in that user's latest cart)\n",
    "df_EDA = df_EDA.merge(train_carts, on='user_id')"
   ]
  },
  {
   "cell_type": "code",
   "execution_count": 216,
   "metadata": {
    "scrolled": true
   },
   "outputs": [],
   "source": [
    "# checks for each product a user has ordered before if the product occurs in the latest cart --> y\n",
    "# check for each productxuser combination of that product occurs in the user's latest order\n",
    "df_EDA['user_product_in_current_cart'] = (\n",
    "    df_EDA.\n",
    "    apply(lambda row: row['product_id'] in row['user_cart_current_contents'], \n",
    "    axis=1).astype(int)\n",
    ")"
   ]
  },
  {
   "cell_type": "code",
   "execution_count": 218,
   "metadata": {},
   "outputs": [],
   "source": [
    "df_EDA.rename(columns={'user_cart_current_contents':'y_user_cart_current_contents',\n",
    "                      'user_product_in_current_cart':'y_user_product_in_current_cart'},inplace=True)"
   ]
  },
  {
   "cell_type": "raw",
   "metadata": {},
   "source": [
    "for col in sorted(df_EDA.columns):\n",
    "    print(col)"
   ]
  },
  {
   "cell_type": "markdown",
   "metadata": {},
   "source": [
    "# Pickle Complete DF"
   ]
  },
  {
   "cell_type": "code",
   "execution_count": 220,
   "metadata": {},
   "outputs": [],
   "source": [
    "df_EDA.to_pickle('df_EDA_xy.pickle')"
   ]
  }
 ],
 "metadata": {
  "kernelspec": {
   "display_name": "Python 3",
   "language": "python",
   "name": "python3"
  },
  "language_info": {
   "codemirror_mode": {
    "name": "ipython",
    "version": 3
   },
   "file_extension": ".py",
   "mimetype": "text/x-python",
   "name": "python",
   "nbconvert_exporter": "python",
   "pygments_lexer": "ipython3",
   "version": "3.6.4"
  },
  "toc": {
   "nav_menu": {
    "height": "828px",
    "width": "333px"
   },
   "number_sections": true,
   "sideBar": true,
   "skip_h1_title": false,
   "title_cell": "Table of Contents",
   "title_sidebar": "Contents",
   "toc_cell": true,
   "toc_position": {
    "height": "calc(100% - 180px)",
    "left": "10px",
    "top": "150px",
    "width": "423px"
   },
   "toc_section_display": true,
   "toc_window_display": false
  }
 },
 "nbformat": 4,
 "nbformat_minor": 2
}
